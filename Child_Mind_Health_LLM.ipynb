{
  "nbformat": 4,
  "nbformat_minor": 0,
  "metadata": {
    "colab": {
      "provenance": [],
      "gpuType": "T4",
      "collapsed_sections": [
        "iLKI6_mWcxgA",
        "CA9Y4qt8ciW-"
      ]
    },
    "kernelspec": {
      "name": "python3",
      "display_name": "Python 3"
    },
    "language_info": {
      "name": "python"
    },
    "accelerator": "GPU",
    "widgets": {
      "application/vnd.jupyter.widget-state+json": {
        "679a7ff32a114eac8a6f534d096e3308": {
          "model_module": "@jupyter-widgets/controls",
          "model_name": "HBoxModel",
          "model_module_version": "1.5.0",
          "state": {
            "_dom_classes": [],
            "_model_module": "@jupyter-widgets/controls",
            "_model_module_version": "1.5.0",
            "_model_name": "HBoxModel",
            "_view_count": null,
            "_view_module": "@jupyter-widgets/controls",
            "_view_module_version": "1.5.0",
            "_view_name": "HBoxView",
            "box_style": "",
            "children": [
              "IPY_MODEL_77a356c362204478ad0dc4fdf7643286",
              "IPY_MODEL_d53ff7bdd87346e8b0d101e844a79ce7",
              "IPY_MODEL_303f04cd5611441499fe13cd9bcff905"
            ],
            "layout": "IPY_MODEL_49b96055602145759325ac20e438335b"
          }
        },
        "77a356c362204478ad0dc4fdf7643286": {
          "model_module": "@jupyter-widgets/controls",
          "model_name": "HTMLModel",
          "model_module_version": "1.5.0",
          "state": {
            "_dom_classes": [],
            "_model_module": "@jupyter-widgets/controls",
            "_model_module_version": "1.5.0",
            "_model_name": "HTMLModel",
            "_view_count": null,
            "_view_module": "@jupyter-widgets/controls",
            "_view_module_version": "1.5.0",
            "_view_name": "HTMLView",
            "description": "",
            "description_tooltip": null,
            "layout": "IPY_MODEL_059a4a622d044d7a9dd23bcac7d73478",
            "placeholder": "​",
            "style": "IPY_MODEL_1aa96b785e3b4056962e272ede0bbcbc",
            "value": "tokenizer_config.json: 100%"
          }
        },
        "d53ff7bdd87346e8b0d101e844a79ce7": {
          "model_module": "@jupyter-widgets/controls",
          "model_name": "FloatProgressModel",
          "model_module_version": "1.5.0",
          "state": {
            "_dom_classes": [],
            "_model_module": "@jupyter-widgets/controls",
            "_model_module_version": "1.5.0",
            "_model_name": "FloatProgressModel",
            "_view_count": null,
            "_view_module": "@jupyter-widgets/controls",
            "_view_module_version": "1.5.0",
            "_view_name": "ProgressView",
            "bar_style": "success",
            "description": "",
            "description_tooltip": null,
            "layout": "IPY_MODEL_7b72a2abb1ed4e73a43fa5ba3027ac47",
            "max": 48,
            "min": 0,
            "orientation": "horizontal",
            "style": "IPY_MODEL_2d8d52c4be0346ba9f259a702a50f42d",
            "value": 48
          }
        },
        "303f04cd5611441499fe13cd9bcff905": {
          "model_module": "@jupyter-widgets/controls",
          "model_name": "HTMLModel",
          "model_module_version": "1.5.0",
          "state": {
            "_dom_classes": [],
            "_model_module": "@jupyter-widgets/controls",
            "_model_module_version": "1.5.0",
            "_model_name": "HTMLModel",
            "_view_count": null,
            "_view_module": "@jupyter-widgets/controls",
            "_view_module_version": "1.5.0",
            "_view_name": "HTMLView",
            "description": "",
            "description_tooltip": null,
            "layout": "IPY_MODEL_a65d3b4a97b14382a8664dd8ea2107cd",
            "placeholder": "​",
            "style": "IPY_MODEL_2b6bfa4e96864e29aeeb2dbc9d880144",
            "value": " 48.0/48.0 [00:00&lt;00:00, 2.74kB/s]"
          }
        },
        "49b96055602145759325ac20e438335b": {
          "model_module": "@jupyter-widgets/base",
          "model_name": "LayoutModel",
          "model_module_version": "1.2.0",
          "state": {
            "_model_module": "@jupyter-widgets/base",
            "_model_module_version": "1.2.0",
            "_model_name": "LayoutModel",
            "_view_count": null,
            "_view_module": "@jupyter-widgets/base",
            "_view_module_version": "1.2.0",
            "_view_name": "LayoutView",
            "align_content": null,
            "align_items": null,
            "align_self": null,
            "border": null,
            "bottom": null,
            "display": null,
            "flex": null,
            "flex_flow": null,
            "grid_area": null,
            "grid_auto_columns": null,
            "grid_auto_flow": null,
            "grid_auto_rows": null,
            "grid_column": null,
            "grid_gap": null,
            "grid_row": null,
            "grid_template_areas": null,
            "grid_template_columns": null,
            "grid_template_rows": null,
            "height": null,
            "justify_content": null,
            "justify_items": null,
            "left": null,
            "margin": null,
            "max_height": null,
            "max_width": null,
            "min_height": null,
            "min_width": null,
            "object_fit": null,
            "object_position": null,
            "order": null,
            "overflow": null,
            "overflow_x": null,
            "overflow_y": null,
            "padding": null,
            "right": null,
            "top": null,
            "visibility": null,
            "width": null
          }
        },
        "059a4a622d044d7a9dd23bcac7d73478": {
          "model_module": "@jupyter-widgets/base",
          "model_name": "LayoutModel",
          "model_module_version": "1.2.0",
          "state": {
            "_model_module": "@jupyter-widgets/base",
            "_model_module_version": "1.2.0",
            "_model_name": "LayoutModel",
            "_view_count": null,
            "_view_module": "@jupyter-widgets/base",
            "_view_module_version": "1.2.0",
            "_view_name": "LayoutView",
            "align_content": null,
            "align_items": null,
            "align_self": null,
            "border": null,
            "bottom": null,
            "display": null,
            "flex": null,
            "flex_flow": null,
            "grid_area": null,
            "grid_auto_columns": null,
            "grid_auto_flow": null,
            "grid_auto_rows": null,
            "grid_column": null,
            "grid_gap": null,
            "grid_row": null,
            "grid_template_areas": null,
            "grid_template_columns": null,
            "grid_template_rows": null,
            "height": null,
            "justify_content": null,
            "justify_items": null,
            "left": null,
            "margin": null,
            "max_height": null,
            "max_width": null,
            "min_height": null,
            "min_width": null,
            "object_fit": null,
            "object_position": null,
            "order": null,
            "overflow": null,
            "overflow_x": null,
            "overflow_y": null,
            "padding": null,
            "right": null,
            "top": null,
            "visibility": null,
            "width": null
          }
        },
        "1aa96b785e3b4056962e272ede0bbcbc": {
          "model_module": "@jupyter-widgets/controls",
          "model_name": "DescriptionStyleModel",
          "model_module_version": "1.5.0",
          "state": {
            "_model_module": "@jupyter-widgets/controls",
            "_model_module_version": "1.5.0",
            "_model_name": "DescriptionStyleModel",
            "_view_count": null,
            "_view_module": "@jupyter-widgets/base",
            "_view_module_version": "1.2.0",
            "_view_name": "StyleView",
            "description_width": ""
          }
        },
        "7b72a2abb1ed4e73a43fa5ba3027ac47": {
          "model_module": "@jupyter-widgets/base",
          "model_name": "LayoutModel",
          "model_module_version": "1.2.0",
          "state": {
            "_model_module": "@jupyter-widgets/base",
            "_model_module_version": "1.2.0",
            "_model_name": "LayoutModel",
            "_view_count": null,
            "_view_module": "@jupyter-widgets/base",
            "_view_module_version": "1.2.0",
            "_view_name": "LayoutView",
            "align_content": null,
            "align_items": null,
            "align_self": null,
            "border": null,
            "bottom": null,
            "display": null,
            "flex": null,
            "flex_flow": null,
            "grid_area": null,
            "grid_auto_columns": null,
            "grid_auto_flow": null,
            "grid_auto_rows": null,
            "grid_column": null,
            "grid_gap": null,
            "grid_row": null,
            "grid_template_areas": null,
            "grid_template_columns": null,
            "grid_template_rows": null,
            "height": null,
            "justify_content": null,
            "justify_items": null,
            "left": null,
            "margin": null,
            "max_height": null,
            "max_width": null,
            "min_height": null,
            "min_width": null,
            "object_fit": null,
            "object_position": null,
            "order": null,
            "overflow": null,
            "overflow_x": null,
            "overflow_y": null,
            "padding": null,
            "right": null,
            "top": null,
            "visibility": null,
            "width": null
          }
        },
        "2d8d52c4be0346ba9f259a702a50f42d": {
          "model_module": "@jupyter-widgets/controls",
          "model_name": "ProgressStyleModel",
          "model_module_version": "1.5.0",
          "state": {
            "_model_module": "@jupyter-widgets/controls",
            "_model_module_version": "1.5.0",
            "_model_name": "ProgressStyleModel",
            "_view_count": null,
            "_view_module": "@jupyter-widgets/base",
            "_view_module_version": "1.2.0",
            "_view_name": "StyleView",
            "bar_color": null,
            "description_width": ""
          }
        },
        "a65d3b4a97b14382a8664dd8ea2107cd": {
          "model_module": "@jupyter-widgets/base",
          "model_name": "LayoutModel",
          "model_module_version": "1.2.0",
          "state": {
            "_model_module": "@jupyter-widgets/base",
            "_model_module_version": "1.2.0",
            "_model_name": "LayoutModel",
            "_view_count": null,
            "_view_module": "@jupyter-widgets/base",
            "_view_module_version": "1.2.0",
            "_view_name": "LayoutView",
            "align_content": null,
            "align_items": null,
            "align_self": null,
            "border": null,
            "bottom": null,
            "display": null,
            "flex": null,
            "flex_flow": null,
            "grid_area": null,
            "grid_auto_columns": null,
            "grid_auto_flow": null,
            "grid_auto_rows": null,
            "grid_column": null,
            "grid_gap": null,
            "grid_row": null,
            "grid_template_areas": null,
            "grid_template_columns": null,
            "grid_template_rows": null,
            "height": null,
            "justify_content": null,
            "justify_items": null,
            "left": null,
            "margin": null,
            "max_height": null,
            "max_width": null,
            "min_height": null,
            "min_width": null,
            "object_fit": null,
            "object_position": null,
            "order": null,
            "overflow": null,
            "overflow_x": null,
            "overflow_y": null,
            "padding": null,
            "right": null,
            "top": null,
            "visibility": null,
            "width": null
          }
        },
        "2b6bfa4e96864e29aeeb2dbc9d880144": {
          "model_module": "@jupyter-widgets/controls",
          "model_name": "DescriptionStyleModel",
          "model_module_version": "1.5.0",
          "state": {
            "_model_module": "@jupyter-widgets/controls",
            "_model_module_version": "1.5.0",
            "_model_name": "DescriptionStyleModel",
            "_view_count": null,
            "_view_module": "@jupyter-widgets/base",
            "_view_module_version": "1.2.0",
            "_view_name": "StyleView",
            "description_width": ""
          }
        },
        "a76d56fecd144444a20c1a5bf7a2a799": {
          "model_module": "@jupyter-widgets/controls",
          "model_name": "HBoxModel",
          "model_module_version": "1.5.0",
          "state": {
            "_dom_classes": [],
            "_model_module": "@jupyter-widgets/controls",
            "_model_module_version": "1.5.0",
            "_model_name": "HBoxModel",
            "_view_count": null,
            "_view_module": "@jupyter-widgets/controls",
            "_view_module_version": "1.5.0",
            "_view_name": "HBoxView",
            "box_style": "",
            "children": [
              "IPY_MODEL_d5e218d7ddb64f11ac9dad0f7362720b",
              "IPY_MODEL_11e0e595b4b548a29584c7aec1a7d459",
              "IPY_MODEL_c5ff3e9d7bce4041a9b975bc7585db18"
            ],
            "layout": "IPY_MODEL_36222257d3e84a30a952c8c20b8d866b"
          }
        },
        "d5e218d7ddb64f11ac9dad0f7362720b": {
          "model_module": "@jupyter-widgets/controls",
          "model_name": "HTMLModel",
          "model_module_version": "1.5.0",
          "state": {
            "_dom_classes": [],
            "_model_module": "@jupyter-widgets/controls",
            "_model_module_version": "1.5.0",
            "_model_name": "HTMLModel",
            "_view_count": null,
            "_view_module": "@jupyter-widgets/controls",
            "_view_module_version": "1.5.0",
            "_view_name": "HTMLView",
            "description": "",
            "description_tooltip": null,
            "layout": "IPY_MODEL_6aa97325b98b4e178539a1dbb6ccc97a",
            "placeholder": "​",
            "style": "IPY_MODEL_61e78f505db64afcbc54041e80987013",
            "value": "config.json: 100%"
          }
        },
        "11e0e595b4b548a29584c7aec1a7d459": {
          "model_module": "@jupyter-widgets/controls",
          "model_name": "FloatProgressModel",
          "model_module_version": "1.5.0",
          "state": {
            "_dom_classes": [],
            "_model_module": "@jupyter-widgets/controls",
            "_model_module_version": "1.5.0",
            "_model_name": "FloatProgressModel",
            "_view_count": null,
            "_view_module": "@jupyter-widgets/controls",
            "_view_module_version": "1.5.0",
            "_view_name": "ProgressView",
            "bar_style": "success",
            "description": "",
            "description_tooltip": null,
            "layout": "IPY_MODEL_2cd10d1468ea4f2981ae1863fcaae3c8",
            "max": 570,
            "min": 0,
            "orientation": "horizontal",
            "style": "IPY_MODEL_e5f37587cc4a413595547f8b49b99dd9",
            "value": 570
          }
        },
        "c5ff3e9d7bce4041a9b975bc7585db18": {
          "model_module": "@jupyter-widgets/controls",
          "model_name": "HTMLModel",
          "model_module_version": "1.5.0",
          "state": {
            "_dom_classes": [],
            "_model_module": "@jupyter-widgets/controls",
            "_model_module_version": "1.5.0",
            "_model_name": "HTMLModel",
            "_view_count": null,
            "_view_module": "@jupyter-widgets/controls",
            "_view_module_version": "1.5.0",
            "_view_name": "HTMLView",
            "description": "",
            "description_tooltip": null,
            "layout": "IPY_MODEL_a2f1f7171fb54934b3e4d71b9b741fd4",
            "placeholder": "​",
            "style": "IPY_MODEL_c2263736b78a45dcb5e56d505ab97524",
            "value": " 570/570 [00:00&lt;00:00, 47.3kB/s]"
          }
        },
        "36222257d3e84a30a952c8c20b8d866b": {
          "model_module": "@jupyter-widgets/base",
          "model_name": "LayoutModel",
          "model_module_version": "1.2.0",
          "state": {
            "_model_module": "@jupyter-widgets/base",
            "_model_module_version": "1.2.0",
            "_model_name": "LayoutModel",
            "_view_count": null,
            "_view_module": "@jupyter-widgets/base",
            "_view_module_version": "1.2.0",
            "_view_name": "LayoutView",
            "align_content": null,
            "align_items": null,
            "align_self": null,
            "border": null,
            "bottom": null,
            "display": null,
            "flex": null,
            "flex_flow": null,
            "grid_area": null,
            "grid_auto_columns": null,
            "grid_auto_flow": null,
            "grid_auto_rows": null,
            "grid_column": null,
            "grid_gap": null,
            "grid_row": null,
            "grid_template_areas": null,
            "grid_template_columns": null,
            "grid_template_rows": null,
            "height": null,
            "justify_content": null,
            "justify_items": null,
            "left": null,
            "margin": null,
            "max_height": null,
            "max_width": null,
            "min_height": null,
            "min_width": null,
            "object_fit": null,
            "object_position": null,
            "order": null,
            "overflow": null,
            "overflow_x": null,
            "overflow_y": null,
            "padding": null,
            "right": null,
            "top": null,
            "visibility": null,
            "width": null
          }
        },
        "6aa97325b98b4e178539a1dbb6ccc97a": {
          "model_module": "@jupyter-widgets/base",
          "model_name": "LayoutModel",
          "model_module_version": "1.2.0",
          "state": {
            "_model_module": "@jupyter-widgets/base",
            "_model_module_version": "1.2.0",
            "_model_name": "LayoutModel",
            "_view_count": null,
            "_view_module": "@jupyter-widgets/base",
            "_view_module_version": "1.2.0",
            "_view_name": "LayoutView",
            "align_content": null,
            "align_items": null,
            "align_self": null,
            "border": null,
            "bottom": null,
            "display": null,
            "flex": null,
            "flex_flow": null,
            "grid_area": null,
            "grid_auto_columns": null,
            "grid_auto_flow": null,
            "grid_auto_rows": null,
            "grid_column": null,
            "grid_gap": null,
            "grid_row": null,
            "grid_template_areas": null,
            "grid_template_columns": null,
            "grid_template_rows": null,
            "height": null,
            "justify_content": null,
            "justify_items": null,
            "left": null,
            "margin": null,
            "max_height": null,
            "max_width": null,
            "min_height": null,
            "min_width": null,
            "object_fit": null,
            "object_position": null,
            "order": null,
            "overflow": null,
            "overflow_x": null,
            "overflow_y": null,
            "padding": null,
            "right": null,
            "top": null,
            "visibility": null,
            "width": null
          }
        },
        "61e78f505db64afcbc54041e80987013": {
          "model_module": "@jupyter-widgets/controls",
          "model_name": "DescriptionStyleModel",
          "model_module_version": "1.5.0",
          "state": {
            "_model_module": "@jupyter-widgets/controls",
            "_model_module_version": "1.5.0",
            "_model_name": "DescriptionStyleModel",
            "_view_count": null,
            "_view_module": "@jupyter-widgets/base",
            "_view_module_version": "1.2.0",
            "_view_name": "StyleView",
            "description_width": ""
          }
        },
        "2cd10d1468ea4f2981ae1863fcaae3c8": {
          "model_module": "@jupyter-widgets/base",
          "model_name": "LayoutModel",
          "model_module_version": "1.2.0",
          "state": {
            "_model_module": "@jupyter-widgets/base",
            "_model_module_version": "1.2.0",
            "_model_name": "LayoutModel",
            "_view_count": null,
            "_view_module": "@jupyter-widgets/base",
            "_view_module_version": "1.2.0",
            "_view_name": "LayoutView",
            "align_content": null,
            "align_items": null,
            "align_self": null,
            "border": null,
            "bottom": null,
            "display": null,
            "flex": null,
            "flex_flow": null,
            "grid_area": null,
            "grid_auto_columns": null,
            "grid_auto_flow": null,
            "grid_auto_rows": null,
            "grid_column": null,
            "grid_gap": null,
            "grid_row": null,
            "grid_template_areas": null,
            "grid_template_columns": null,
            "grid_template_rows": null,
            "height": null,
            "justify_content": null,
            "justify_items": null,
            "left": null,
            "margin": null,
            "max_height": null,
            "max_width": null,
            "min_height": null,
            "min_width": null,
            "object_fit": null,
            "object_position": null,
            "order": null,
            "overflow": null,
            "overflow_x": null,
            "overflow_y": null,
            "padding": null,
            "right": null,
            "top": null,
            "visibility": null,
            "width": null
          }
        },
        "e5f37587cc4a413595547f8b49b99dd9": {
          "model_module": "@jupyter-widgets/controls",
          "model_name": "ProgressStyleModel",
          "model_module_version": "1.5.0",
          "state": {
            "_model_module": "@jupyter-widgets/controls",
            "_model_module_version": "1.5.0",
            "_model_name": "ProgressStyleModel",
            "_view_count": null,
            "_view_module": "@jupyter-widgets/base",
            "_view_module_version": "1.2.0",
            "_view_name": "StyleView",
            "bar_color": null,
            "description_width": ""
          }
        },
        "a2f1f7171fb54934b3e4d71b9b741fd4": {
          "model_module": "@jupyter-widgets/base",
          "model_name": "LayoutModel",
          "model_module_version": "1.2.0",
          "state": {
            "_model_module": "@jupyter-widgets/base",
            "_model_module_version": "1.2.0",
            "_model_name": "LayoutModel",
            "_view_count": null,
            "_view_module": "@jupyter-widgets/base",
            "_view_module_version": "1.2.0",
            "_view_name": "LayoutView",
            "align_content": null,
            "align_items": null,
            "align_self": null,
            "border": null,
            "bottom": null,
            "display": null,
            "flex": null,
            "flex_flow": null,
            "grid_area": null,
            "grid_auto_columns": null,
            "grid_auto_flow": null,
            "grid_auto_rows": null,
            "grid_column": null,
            "grid_gap": null,
            "grid_row": null,
            "grid_template_areas": null,
            "grid_template_columns": null,
            "grid_template_rows": null,
            "height": null,
            "justify_content": null,
            "justify_items": null,
            "left": null,
            "margin": null,
            "max_height": null,
            "max_width": null,
            "min_height": null,
            "min_width": null,
            "object_fit": null,
            "object_position": null,
            "order": null,
            "overflow": null,
            "overflow_x": null,
            "overflow_y": null,
            "padding": null,
            "right": null,
            "top": null,
            "visibility": null,
            "width": null
          }
        },
        "c2263736b78a45dcb5e56d505ab97524": {
          "model_module": "@jupyter-widgets/controls",
          "model_name": "DescriptionStyleModel",
          "model_module_version": "1.5.0",
          "state": {
            "_model_module": "@jupyter-widgets/controls",
            "_model_module_version": "1.5.0",
            "_model_name": "DescriptionStyleModel",
            "_view_count": null,
            "_view_module": "@jupyter-widgets/base",
            "_view_module_version": "1.2.0",
            "_view_name": "StyleView",
            "description_width": ""
          }
        },
        "2d296775f15048658a1ff085ec7a0bd0": {
          "model_module": "@jupyter-widgets/controls",
          "model_name": "HBoxModel",
          "model_module_version": "1.5.0",
          "state": {
            "_dom_classes": [],
            "_model_module": "@jupyter-widgets/controls",
            "_model_module_version": "1.5.0",
            "_model_name": "HBoxModel",
            "_view_count": null,
            "_view_module": "@jupyter-widgets/controls",
            "_view_module_version": "1.5.0",
            "_view_name": "HBoxView",
            "box_style": "",
            "children": [
              "IPY_MODEL_e1f635f5d33b416a932d17e61d413107",
              "IPY_MODEL_ddc63e14490b465d835bd686da1cfc54",
              "IPY_MODEL_6093e15a750a4cbc9b99fce7b2ae1e92"
            ],
            "layout": "IPY_MODEL_abbbcf0eb8ad4180a11f8f1ab5ec72b3"
          }
        },
        "e1f635f5d33b416a932d17e61d413107": {
          "model_module": "@jupyter-widgets/controls",
          "model_name": "HTMLModel",
          "model_module_version": "1.5.0",
          "state": {
            "_dom_classes": [],
            "_model_module": "@jupyter-widgets/controls",
            "_model_module_version": "1.5.0",
            "_model_name": "HTMLModel",
            "_view_count": null,
            "_view_module": "@jupyter-widgets/controls",
            "_view_module_version": "1.5.0",
            "_view_name": "HTMLView",
            "description": "",
            "description_tooltip": null,
            "layout": "IPY_MODEL_dc5a5b2a429a43b2ad6bf4fb11e16094",
            "placeholder": "​",
            "style": "IPY_MODEL_caa32b3a8d6440ffbfa6f1b4999d452d",
            "value": "vocab.txt: 100%"
          }
        },
        "ddc63e14490b465d835bd686da1cfc54": {
          "model_module": "@jupyter-widgets/controls",
          "model_name": "FloatProgressModel",
          "model_module_version": "1.5.0",
          "state": {
            "_dom_classes": [],
            "_model_module": "@jupyter-widgets/controls",
            "_model_module_version": "1.5.0",
            "_model_name": "FloatProgressModel",
            "_view_count": null,
            "_view_module": "@jupyter-widgets/controls",
            "_view_module_version": "1.5.0",
            "_view_name": "ProgressView",
            "bar_style": "success",
            "description": "",
            "description_tooltip": null,
            "layout": "IPY_MODEL_2f75fb5454dc4264b562e2a20c368658",
            "max": 231508,
            "min": 0,
            "orientation": "horizontal",
            "style": "IPY_MODEL_fecb9095451a430e843bee2a5006b634",
            "value": 231508
          }
        },
        "6093e15a750a4cbc9b99fce7b2ae1e92": {
          "model_module": "@jupyter-widgets/controls",
          "model_name": "HTMLModel",
          "model_module_version": "1.5.0",
          "state": {
            "_dom_classes": [],
            "_model_module": "@jupyter-widgets/controls",
            "_model_module_version": "1.5.0",
            "_model_name": "HTMLModel",
            "_view_count": null,
            "_view_module": "@jupyter-widgets/controls",
            "_view_module_version": "1.5.0",
            "_view_name": "HTMLView",
            "description": "",
            "description_tooltip": null,
            "layout": "IPY_MODEL_4aebe3e0644d45d9be40ffd80492e19f",
            "placeholder": "​",
            "style": "IPY_MODEL_f83588b5b3ec49ec900f0093176b9024",
            "value": " 232k/232k [00:00&lt;00:00, 2.58MB/s]"
          }
        },
        "abbbcf0eb8ad4180a11f8f1ab5ec72b3": {
          "model_module": "@jupyter-widgets/base",
          "model_name": "LayoutModel",
          "model_module_version": "1.2.0",
          "state": {
            "_model_module": "@jupyter-widgets/base",
            "_model_module_version": "1.2.0",
            "_model_name": "LayoutModel",
            "_view_count": null,
            "_view_module": "@jupyter-widgets/base",
            "_view_module_version": "1.2.0",
            "_view_name": "LayoutView",
            "align_content": null,
            "align_items": null,
            "align_self": null,
            "border": null,
            "bottom": null,
            "display": null,
            "flex": null,
            "flex_flow": null,
            "grid_area": null,
            "grid_auto_columns": null,
            "grid_auto_flow": null,
            "grid_auto_rows": null,
            "grid_column": null,
            "grid_gap": null,
            "grid_row": null,
            "grid_template_areas": null,
            "grid_template_columns": null,
            "grid_template_rows": null,
            "height": null,
            "justify_content": null,
            "justify_items": null,
            "left": null,
            "margin": null,
            "max_height": null,
            "max_width": null,
            "min_height": null,
            "min_width": null,
            "object_fit": null,
            "object_position": null,
            "order": null,
            "overflow": null,
            "overflow_x": null,
            "overflow_y": null,
            "padding": null,
            "right": null,
            "top": null,
            "visibility": null,
            "width": null
          }
        },
        "dc5a5b2a429a43b2ad6bf4fb11e16094": {
          "model_module": "@jupyter-widgets/base",
          "model_name": "LayoutModel",
          "model_module_version": "1.2.0",
          "state": {
            "_model_module": "@jupyter-widgets/base",
            "_model_module_version": "1.2.0",
            "_model_name": "LayoutModel",
            "_view_count": null,
            "_view_module": "@jupyter-widgets/base",
            "_view_module_version": "1.2.0",
            "_view_name": "LayoutView",
            "align_content": null,
            "align_items": null,
            "align_self": null,
            "border": null,
            "bottom": null,
            "display": null,
            "flex": null,
            "flex_flow": null,
            "grid_area": null,
            "grid_auto_columns": null,
            "grid_auto_flow": null,
            "grid_auto_rows": null,
            "grid_column": null,
            "grid_gap": null,
            "grid_row": null,
            "grid_template_areas": null,
            "grid_template_columns": null,
            "grid_template_rows": null,
            "height": null,
            "justify_content": null,
            "justify_items": null,
            "left": null,
            "margin": null,
            "max_height": null,
            "max_width": null,
            "min_height": null,
            "min_width": null,
            "object_fit": null,
            "object_position": null,
            "order": null,
            "overflow": null,
            "overflow_x": null,
            "overflow_y": null,
            "padding": null,
            "right": null,
            "top": null,
            "visibility": null,
            "width": null
          }
        },
        "caa32b3a8d6440ffbfa6f1b4999d452d": {
          "model_module": "@jupyter-widgets/controls",
          "model_name": "DescriptionStyleModel",
          "model_module_version": "1.5.0",
          "state": {
            "_model_module": "@jupyter-widgets/controls",
            "_model_module_version": "1.5.0",
            "_model_name": "DescriptionStyleModel",
            "_view_count": null,
            "_view_module": "@jupyter-widgets/base",
            "_view_module_version": "1.2.0",
            "_view_name": "StyleView",
            "description_width": ""
          }
        },
        "2f75fb5454dc4264b562e2a20c368658": {
          "model_module": "@jupyter-widgets/base",
          "model_name": "LayoutModel",
          "model_module_version": "1.2.0",
          "state": {
            "_model_module": "@jupyter-widgets/base",
            "_model_module_version": "1.2.0",
            "_model_name": "LayoutModel",
            "_view_count": null,
            "_view_module": "@jupyter-widgets/base",
            "_view_module_version": "1.2.0",
            "_view_name": "LayoutView",
            "align_content": null,
            "align_items": null,
            "align_self": null,
            "border": null,
            "bottom": null,
            "display": null,
            "flex": null,
            "flex_flow": null,
            "grid_area": null,
            "grid_auto_columns": null,
            "grid_auto_flow": null,
            "grid_auto_rows": null,
            "grid_column": null,
            "grid_gap": null,
            "grid_row": null,
            "grid_template_areas": null,
            "grid_template_columns": null,
            "grid_template_rows": null,
            "height": null,
            "justify_content": null,
            "justify_items": null,
            "left": null,
            "margin": null,
            "max_height": null,
            "max_width": null,
            "min_height": null,
            "min_width": null,
            "object_fit": null,
            "object_position": null,
            "order": null,
            "overflow": null,
            "overflow_x": null,
            "overflow_y": null,
            "padding": null,
            "right": null,
            "top": null,
            "visibility": null,
            "width": null
          }
        },
        "fecb9095451a430e843bee2a5006b634": {
          "model_module": "@jupyter-widgets/controls",
          "model_name": "ProgressStyleModel",
          "model_module_version": "1.5.0",
          "state": {
            "_model_module": "@jupyter-widgets/controls",
            "_model_module_version": "1.5.0",
            "_model_name": "ProgressStyleModel",
            "_view_count": null,
            "_view_module": "@jupyter-widgets/base",
            "_view_module_version": "1.2.0",
            "_view_name": "StyleView",
            "bar_color": null,
            "description_width": ""
          }
        },
        "4aebe3e0644d45d9be40ffd80492e19f": {
          "model_module": "@jupyter-widgets/base",
          "model_name": "LayoutModel",
          "model_module_version": "1.2.0",
          "state": {
            "_model_module": "@jupyter-widgets/base",
            "_model_module_version": "1.2.0",
            "_model_name": "LayoutModel",
            "_view_count": null,
            "_view_module": "@jupyter-widgets/base",
            "_view_module_version": "1.2.0",
            "_view_name": "LayoutView",
            "align_content": null,
            "align_items": null,
            "align_self": null,
            "border": null,
            "bottom": null,
            "display": null,
            "flex": null,
            "flex_flow": null,
            "grid_area": null,
            "grid_auto_columns": null,
            "grid_auto_flow": null,
            "grid_auto_rows": null,
            "grid_column": null,
            "grid_gap": null,
            "grid_row": null,
            "grid_template_areas": null,
            "grid_template_columns": null,
            "grid_template_rows": null,
            "height": null,
            "justify_content": null,
            "justify_items": null,
            "left": null,
            "margin": null,
            "max_height": null,
            "max_width": null,
            "min_height": null,
            "min_width": null,
            "object_fit": null,
            "object_position": null,
            "order": null,
            "overflow": null,
            "overflow_x": null,
            "overflow_y": null,
            "padding": null,
            "right": null,
            "top": null,
            "visibility": null,
            "width": null
          }
        },
        "f83588b5b3ec49ec900f0093176b9024": {
          "model_module": "@jupyter-widgets/controls",
          "model_name": "DescriptionStyleModel",
          "model_module_version": "1.5.0",
          "state": {
            "_model_module": "@jupyter-widgets/controls",
            "_model_module_version": "1.5.0",
            "_model_name": "DescriptionStyleModel",
            "_view_count": null,
            "_view_module": "@jupyter-widgets/base",
            "_view_module_version": "1.2.0",
            "_view_name": "StyleView",
            "description_width": ""
          }
        },
        "554318f9921541eb81491aa5663b739d": {
          "model_module": "@jupyter-widgets/controls",
          "model_name": "HBoxModel",
          "model_module_version": "1.5.0",
          "state": {
            "_dom_classes": [],
            "_model_module": "@jupyter-widgets/controls",
            "_model_module_version": "1.5.0",
            "_model_name": "HBoxModel",
            "_view_count": null,
            "_view_module": "@jupyter-widgets/controls",
            "_view_module_version": "1.5.0",
            "_view_name": "HBoxView",
            "box_style": "",
            "children": [
              "IPY_MODEL_ffe16913cd4f49c0957ce6bddb20a493",
              "IPY_MODEL_2c19f880ea2240968049fe570205fe0e",
              "IPY_MODEL_be38dd8d3f9a4704b28cb9cfce37a7a8"
            ],
            "layout": "IPY_MODEL_3838dcb7891c4aeab954074585e95f63"
          }
        },
        "ffe16913cd4f49c0957ce6bddb20a493": {
          "model_module": "@jupyter-widgets/controls",
          "model_name": "HTMLModel",
          "model_module_version": "1.5.0",
          "state": {
            "_dom_classes": [],
            "_model_module": "@jupyter-widgets/controls",
            "_model_module_version": "1.5.0",
            "_model_name": "HTMLModel",
            "_view_count": null,
            "_view_module": "@jupyter-widgets/controls",
            "_view_module_version": "1.5.0",
            "_view_name": "HTMLView",
            "description": "",
            "description_tooltip": null,
            "layout": "IPY_MODEL_af4ac3d45c784155ab6719df42e5260a",
            "placeholder": "​",
            "style": "IPY_MODEL_2f6c228f68ba46a58445c8be62c00eeb",
            "value": "tokenizer.json: 100%"
          }
        },
        "2c19f880ea2240968049fe570205fe0e": {
          "model_module": "@jupyter-widgets/controls",
          "model_name": "FloatProgressModel",
          "model_module_version": "1.5.0",
          "state": {
            "_dom_classes": [],
            "_model_module": "@jupyter-widgets/controls",
            "_model_module_version": "1.5.0",
            "_model_name": "FloatProgressModel",
            "_view_count": null,
            "_view_module": "@jupyter-widgets/controls",
            "_view_module_version": "1.5.0",
            "_view_name": "ProgressView",
            "bar_style": "success",
            "description": "",
            "description_tooltip": null,
            "layout": "IPY_MODEL_df63bbe5ac1a405895130d9348249526",
            "max": 466062,
            "min": 0,
            "orientation": "horizontal",
            "style": "IPY_MODEL_28f342ff403e4bee8225ac3ef16736f8",
            "value": 466062
          }
        },
        "be38dd8d3f9a4704b28cb9cfce37a7a8": {
          "model_module": "@jupyter-widgets/controls",
          "model_name": "HTMLModel",
          "model_module_version": "1.5.0",
          "state": {
            "_dom_classes": [],
            "_model_module": "@jupyter-widgets/controls",
            "_model_module_version": "1.5.0",
            "_model_name": "HTMLModel",
            "_view_count": null,
            "_view_module": "@jupyter-widgets/controls",
            "_view_module_version": "1.5.0",
            "_view_name": "HTMLView",
            "description": "",
            "description_tooltip": null,
            "layout": "IPY_MODEL_a6867ea2d11a412da8480af1661af5be",
            "placeholder": "​",
            "style": "IPY_MODEL_458543323db940ffa10fd74fba5c4b45",
            "value": " 466k/466k [00:00&lt;00:00, 2.82MB/s]"
          }
        },
        "3838dcb7891c4aeab954074585e95f63": {
          "model_module": "@jupyter-widgets/base",
          "model_name": "LayoutModel",
          "model_module_version": "1.2.0",
          "state": {
            "_model_module": "@jupyter-widgets/base",
            "_model_module_version": "1.2.0",
            "_model_name": "LayoutModel",
            "_view_count": null,
            "_view_module": "@jupyter-widgets/base",
            "_view_module_version": "1.2.0",
            "_view_name": "LayoutView",
            "align_content": null,
            "align_items": null,
            "align_self": null,
            "border": null,
            "bottom": null,
            "display": null,
            "flex": null,
            "flex_flow": null,
            "grid_area": null,
            "grid_auto_columns": null,
            "grid_auto_flow": null,
            "grid_auto_rows": null,
            "grid_column": null,
            "grid_gap": null,
            "grid_row": null,
            "grid_template_areas": null,
            "grid_template_columns": null,
            "grid_template_rows": null,
            "height": null,
            "justify_content": null,
            "justify_items": null,
            "left": null,
            "margin": null,
            "max_height": null,
            "max_width": null,
            "min_height": null,
            "min_width": null,
            "object_fit": null,
            "object_position": null,
            "order": null,
            "overflow": null,
            "overflow_x": null,
            "overflow_y": null,
            "padding": null,
            "right": null,
            "top": null,
            "visibility": null,
            "width": null
          }
        },
        "af4ac3d45c784155ab6719df42e5260a": {
          "model_module": "@jupyter-widgets/base",
          "model_name": "LayoutModel",
          "model_module_version": "1.2.0",
          "state": {
            "_model_module": "@jupyter-widgets/base",
            "_model_module_version": "1.2.0",
            "_model_name": "LayoutModel",
            "_view_count": null,
            "_view_module": "@jupyter-widgets/base",
            "_view_module_version": "1.2.0",
            "_view_name": "LayoutView",
            "align_content": null,
            "align_items": null,
            "align_self": null,
            "border": null,
            "bottom": null,
            "display": null,
            "flex": null,
            "flex_flow": null,
            "grid_area": null,
            "grid_auto_columns": null,
            "grid_auto_flow": null,
            "grid_auto_rows": null,
            "grid_column": null,
            "grid_gap": null,
            "grid_row": null,
            "grid_template_areas": null,
            "grid_template_columns": null,
            "grid_template_rows": null,
            "height": null,
            "justify_content": null,
            "justify_items": null,
            "left": null,
            "margin": null,
            "max_height": null,
            "max_width": null,
            "min_height": null,
            "min_width": null,
            "object_fit": null,
            "object_position": null,
            "order": null,
            "overflow": null,
            "overflow_x": null,
            "overflow_y": null,
            "padding": null,
            "right": null,
            "top": null,
            "visibility": null,
            "width": null
          }
        },
        "2f6c228f68ba46a58445c8be62c00eeb": {
          "model_module": "@jupyter-widgets/controls",
          "model_name": "DescriptionStyleModel",
          "model_module_version": "1.5.0",
          "state": {
            "_model_module": "@jupyter-widgets/controls",
            "_model_module_version": "1.5.0",
            "_model_name": "DescriptionStyleModel",
            "_view_count": null,
            "_view_module": "@jupyter-widgets/base",
            "_view_module_version": "1.2.0",
            "_view_name": "StyleView",
            "description_width": ""
          }
        },
        "df63bbe5ac1a405895130d9348249526": {
          "model_module": "@jupyter-widgets/base",
          "model_name": "LayoutModel",
          "model_module_version": "1.2.0",
          "state": {
            "_model_module": "@jupyter-widgets/base",
            "_model_module_version": "1.2.0",
            "_model_name": "LayoutModel",
            "_view_count": null,
            "_view_module": "@jupyter-widgets/base",
            "_view_module_version": "1.2.0",
            "_view_name": "LayoutView",
            "align_content": null,
            "align_items": null,
            "align_self": null,
            "border": null,
            "bottom": null,
            "display": null,
            "flex": null,
            "flex_flow": null,
            "grid_area": null,
            "grid_auto_columns": null,
            "grid_auto_flow": null,
            "grid_auto_rows": null,
            "grid_column": null,
            "grid_gap": null,
            "grid_row": null,
            "grid_template_areas": null,
            "grid_template_columns": null,
            "grid_template_rows": null,
            "height": null,
            "justify_content": null,
            "justify_items": null,
            "left": null,
            "margin": null,
            "max_height": null,
            "max_width": null,
            "min_height": null,
            "min_width": null,
            "object_fit": null,
            "object_position": null,
            "order": null,
            "overflow": null,
            "overflow_x": null,
            "overflow_y": null,
            "padding": null,
            "right": null,
            "top": null,
            "visibility": null,
            "width": null
          }
        },
        "28f342ff403e4bee8225ac3ef16736f8": {
          "model_module": "@jupyter-widgets/controls",
          "model_name": "ProgressStyleModel",
          "model_module_version": "1.5.0",
          "state": {
            "_model_module": "@jupyter-widgets/controls",
            "_model_module_version": "1.5.0",
            "_model_name": "ProgressStyleModel",
            "_view_count": null,
            "_view_module": "@jupyter-widgets/base",
            "_view_module_version": "1.2.0",
            "_view_name": "StyleView",
            "bar_color": null,
            "description_width": ""
          }
        },
        "a6867ea2d11a412da8480af1661af5be": {
          "model_module": "@jupyter-widgets/base",
          "model_name": "LayoutModel",
          "model_module_version": "1.2.0",
          "state": {
            "_model_module": "@jupyter-widgets/base",
            "_model_module_version": "1.2.0",
            "_model_name": "LayoutModel",
            "_view_count": null,
            "_view_module": "@jupyter-widgets/base",
            "_view_module_version": "1.2.0",
            "_view_name": "LayoutView",
            "align_content": null,
            "align_items": null,
            "align_self": null,
            "border": null,
            "bottom": null,
            "display": null,
            "flex": null,
            "flex_flow": null,
            "grid_area": null,
            "grid_auto_columns": null,
            "grid_auto_flow": null,
            "grid_auto_rows": null,
            "grid_column": null,
            "grid_gap": null,
            "grid_row": null,
            "grid_template_areas": null,
            "grid_template_columns": null,
            "grid_template_rows": null,
            "height": null,
            "justify_content": null,
            "justify_items": null,
            "left": null,
            "margin": null,
            "max_height": null,
            "max_width": null,
            "min_height": null,
            "min_width": null,
            "object_fit": null,
            "object_position": null,
            "order": null,
            "overflow": null,
            "overflow_x": null,
            "overflow_y": null,
            "padding": null,
            "right": null,
            "top": null,
            "visibility": null,
            "width": null
          }
        },
        "458543323db940ffa10fd74fba5c4b45": {
          "model_module": "@jupyter-widgets/controls",
          "model_name": "DescriptionStyleModel",
          "model_module_version": "1.5.0",
          "state": {
            "_model_module": "@jupyter-widgets/controls",
            "_model_module_version": "1.5.0",
            "_model_name": "DescriptionStyleModel",
            "_view_count": null,
            "_view_module": "@jupyter-widgets/base",
            "_view_module_version": "1.2.0",
            "_view_name": "StyleView",
            "description_width": ""
          }
        },
        "557c5808b65743e581ca836b14a608e4": {
          "model_module": "@jupyter-widgets/controls",
          "model_name": "HBoxModel",
          "model_module_version": "1.5.0",
          "state": {
            "_dom_classes": [],
            "_model_module": "@jupyter-widgets/controls",
            "_model_module_version": "1.5.0",
            "_model_name": "HBoxModel",
            "_view_count": null,
            "_view_module": "@jupyter-widgets/controls",
            "_view_module_version": "1.5.0",
            "_view_name": "HBoxView",
            "box_style": "",
            "children": [
              "IPY_MODEL_15c5fedd9f8646cb98b3de8852915b92",
              "IPY_MODEL_c09ee876ae1e45fb8b33d7ebe411ed74",
              "IPY_MODEL_89e6f0a7eb1d4ad0889fa7110f9ef50d"
            ],
            "layout": "IPY_MODEL_b3fb0702760148cf8eb5034f05385d64"
          }
        },
        "15c5fedd9f8646cb98b3de8852915b92": {
          "model_module": "@jupyter-widgets/controls",
          "model_name": "HTMLModel",
          "model_module_version": "1.5.0",
          "state": {
            "_dom_classes": [],
            "_model_module": "@jupyter-widgets/controls",
            "_model_module_version": "1.5.0",
            "_model_name": "HTMLModel",
            "_view_count": null,
            "_view_module": "@jupyter-widgets/controls",
            "_view_module_version": "1.5.0",
            "_view_name": "HTMLView",
            "description": "",
            "description_tooltip": null,
            "layout": "IPY_MODEL_c4517f58cba94ff49c025c0709729dbd",
            "placeholder": "​",
            "style": "IPY_MODEL_e5dc36e238e541e68caf6a9b0df083c0",
            "value": "model.safetensors: 100%"
          }
        },
        "c09ee876ae1e45fb8b33d7ebe411ed74": {
          "model_module": "@jupyter-widgets/controls",
          "model_name": "FloatProgressModel",
          "model_module_version": "1.5.0",
          "state": {
            "_dom_classes": [],
            "_model_module": "@jupyter-widgets/controls",
            "_model_module_version": "1.5.0",
            "_model_name": "FloatProgressModel",
            "_view_count": null,
            "_view_module": "@jupyter-widgets/controls",
            "_view_module_version": "1.5.0",
            "_view_name": "ProgressView",
            "bar_style": "success",
            "description": "",
            "description_tooltip": null,
            "layout": "IPY_MODEL_32426aa3d87a49eea68dd82c58625ead",
            "max": 440449768,
            "min": 0,
            "orientation": "horizontal",
            "style": "IPY_MODEL_20a38fb68d014ad1b23c0124b1c80dbb",
            "value": 440449768
          }
        },
        "89e6f0a7eb1d4ad0889fa7110f9ef50d": {
          "model_module": "@jupyter-widgets/controls",
          "model_name": "HTMLModel",
          "model_module_version": "1.5.0",
          "state": {
            "_dom_classes": [],
            "_model_module": "@jupyter-widgets/controls",
            "_model_module_version": "1.5.0",
            "_model_name": "HTMLModel",
            "_view_count": null,
            "_view_module": "@jupyter-widgets/controls",
            "_view_module_version": "1.5.0",
            "_view_name": "HTMLView",
            "description": "",
            "description_tooltip": null,
            "layout": "IPY_MODEL_29048d67aaf94ba68bcf0612929d3a10",
            "placeholder": "​",
            "style": "IPY_MODEL_5c63b8ebe9dc43f18155919fbad7e30e",
            "value": " 440M/440M [00:01&lt;00:00, 298MB/s]"
          }
        },
        "b3fb0702760148cf8eb5034f05385d64": {
          "model_module": "@jupyter-widgets/base",
          "model_name": "LayoutModel",
          "model_module_version": "1.2.0",
          "state": {
            "_model_module": "@jupyter-widgets/base",
            "_model_module_version": "1.2.0",
            "_model_name": "LayoutModel",
            "_view_count": null,
            "_view_module": "@jupyter-widgets/base",
            "_view_module_version": "1.2.0",
            "_view_name": "LayoutView",
            "align_content": null,
            "align_items": null,
            "align_self": null,
            "border": null,
            "bottom": null,
            "display": null,
            "flex": null,
            "flex_flow": null,
            "grid_area": null,
            "grid_auto_columns": null,
            "grid_auto_flow": null,
            "grid_auto_rows": null,
            "grid_column": null,
            "grid_gap": null,
            "grid_row": null,
            "grid_template_areas": null,
            "grid_template_columns": null,
            "grid_template_rows": null,
            "height": null,
            "justify_content": null,
            "justify_items": null,
            "left": null,
            "margin": null,
            "max_height": null,
            "max_width": null,
            "min_height": null,
            "min_width": null,
            "object_fit": null,
            "object_position": null,
            "order": null,
            "overflow": null,
            "overflow_x": null,
            "overflow_y": null,
            "padding": null,
            "right": null,
            "top": null,
            "visibility": null,
            "width": null
          }
        },
        "c4517f58cba94ff49c025c0709729dbd": {
          "model_module": "@jupyter-widgets/base",
          "model_name": "LayoutModel",
          "model_module_version": "1.2.0",
          "state": {
            "_model_module": "@jupyter-widgets/base",
            "_model_module_version": "1.2.0",
            "_model_name": "LayoutModel",
            "_view_count": null,
            "_view_module": "@jupyter-widgets/base",
            "_view_module_version": "1.2.0",
            "_view_name": "LayoutView",
            "align_content": null,
            "align_items": null,
            "align_self": null,
            "border": null,
            "bottom": null,
            "display": null,
            "flex": null,
            "flex_flow": null,
            "grid_area": null,
            "grid_auto_columns": null,
            "grid_auto_flow": null,
            "grid_auto_rows": null,
            "grid_column": null,
            "grid_gap": null,
            "grid_row": null,
            "grid_template_areas": null,
            "grid_template_columns": null,
            "grid_template_rows": null,
            "height": null,
            "justify_content": null,
            "justify_items": null,
            "left": null,
            "margin": null,
            "max_height": null,
            "max_width": null,
            "min_height": null,
            "min_width": null,
            "object_fit": null,
            "object_position": null,
            "order": null,
            "overflow": null,
            "overflow_x": null,
            "overflow_y": null,
            "padding": null,
            "right": null,
            "top": null,
            "visibility": null,
            "width": null
          }
        },
        "e5dc36e238e541e68caf6a9b0df083c0": {
          "model_module": "@jupyter-widgets/controls",
          "model_name": "DescriptionStyleModel",
          "model_module_version": "1.5.0",
          "state": {
            "_model_module": "@jupyter-widgets/controls",
            "_model_module_version": "1.5.0",
            "_model_name": "DescriptionStyleModel",
            "_view_count": null,
            "_view_module": "@jupyter-widgets/base",
            "_view_module_version": "1.2.0",
            "_view_name": "StyleView",
            "description_width": ""
          }
        },
        "32426aa3d87a49eea68dd82c58625ead": {
          "model_module": "@jupyter-widgets/base",
          "model_name": "LayoutModel",
          "model_module_version": "1.2.0",
          "state": {
            "_model_module": "@jupyter-widgets/base",
            "_model_module_version": "1.2.0",
            "_model_name": "LayoutModel",
            "_view_count": null,
            "_view_module": "@jupyter-widgets/base",
            "_view_module_version": "1.2.0",
            "_view_name": "LayoutView",
            "align_content": null,
            "align_items": null,
            "align_self": null,
            "border": null,
            "bottom": null,
            "display": null,
            "flex": null,
            "flex_flow": null,
            "grid_area": null,
            "grid_auto_columns": null,
            "grid_auto_flow": null,
            "grid_auto_rows": null,
            "grid_column": null,
            "grid_gap": null,
            "grid_row": null,
            "grid_template_areas": null,
            "grid_template_columns": null,
            "grid_template_rows": null,
            "height": null,
            "justify_content": null,
            "justify_items": null,
            "left": null,
            "margin": null,
            "max_height": null,
            "max_width": null,
            "min_height": null,
            "min_width": null,
            "object_fit": null,
            "object_position": null,
            "order": null,
            "overflow": null,
            "overflow_x": null,
            "overflow_y": null,
            "padding": null,
            "right": null,
            "top": null,
            "visibility": null,
            "width": null
          }
        },
        "20a38fb68d014ad1b23c0124b1c80dbb": {
          "model_module": "@jupyter-widgets/controls",
          "model_name": "ProgressStyleModel",
          "model_module_version": "1.5.0",
          "state": {
            "_model_module": "@jupyter-widgets/controls",
            "_model_module_version": "1.5.0",
            "_model_name": "ProgressStyleModel",
            "_view_count": null,
            "_view_module": "@jupyter-widgets/base",
            "_view_module_version": "1.2.0",
            "_view_name": "StyleView",
            "bar_color": null,
            "description_width": ""
          }
        },
        "29048d67aaf94ba68bcf0612929d3a10": {
          "model_module": "@jupyter-widgets/base",
          "model_name": "LayoutModel",
          "model_module_version": "1.2.0",
          "state": {
            "_model_module": "@jupyter-widgets/base",
            "_model_module_version": "1.2.0",
            "_model_name": "LayoutModel",
            "_view_count": null,
            "_view_module": "@jupyter-widgets/base",
            "_view_module_version": "1.2.0",
            "_view_name": "LayoutView",
            "align_content": null,
            "align_items": null,
            "align_self": null,
            "border": null,
            "bottom": null,
            "display": null,
            "flex": null,
            "flex_flow": null,
            "grid_area": null,
            "grid_auto_columns": null,
            "grid_auto_flow": null,
            "grid_auto_rows": null,
            "grid_column": null,
            "grid_gap": null,
            "grid_row": null,
            "grid_template_areas": null,
            "grid_template_columns": null,
            "grid_template_rows": null,
            "height": null,
            "justify_content": null,
            "justify_items": null,
            "left": null,
            "margin": null,
            "max_height": null,
            "max_width": null,
            "min_height": null,
            "min_width": null,
            "object_fit": null,
            "object_position": null,
            "order": null,
            "overflow": null,
            "overflow_x": null,
            "overflow_y": null,
            "padding": null,
            "right": null,
            "top": null,
            "visibility": null,
            "width": null
          }
        },
        "5c63b8ebe9dc43f18155919fbad7e30e": {
          "model_module": "@jupyter-widgets/controls",
          "model_name": "DescriptionStyleModel",
          "model_module_version": "1.5.0",
          "state": {
            "_model_module": "@jupyter-widgets/controls",
            "_model_module_version": "1.5.0",
            "_model_name": "DescriptionStyleModel",
            "_view_count": null,
            "_view_module": "@jupyter-widgets/base",
            "_view_module_version": "1.2.0",
            "_view_name": "StyleView",
            "description_width": ""
          }
        },
        "616c917b48b74f6baadc0b0ce23ef02d": {
          "model_module": "@jupyter-widgets/controls",
          "model_name": "HBoxModel",
          "model_module_version": "1.5.0",
          "state": {
            "_dom_classes": [],
            "_model_module": "@jupyter-widgets/controls",
            "_model_module_version": "1.5.0",
            "_model_name": "HBoxModel",
            "_view_count": null,
            "_view_module": "@jupyter-widgets/controls",
            "_view_module_version": "1.5.0",
            "_view_name": "HBoxView",
            "box_style": "",
            "children": [
              "IPY_MODEL_2a98a3c60c5240e8ba5868fad16f1eb6",
              "IPY_MODEL_687b9446cc35446f95c1201542fa32c8",
              "IPY_MODEL_12a3f947cd244e269e25eaa2558dea40"
            ],
            "layout": "IPY_MODEL_fd00a0c520e1484f82eb35ce008a4dd0"
          }
        },
        "2a98a3c60c5240e8ba5868fad16f1eb6": {
          "model_module": "@jupyter-widgets/controls",
          "model_name": "HTMLModel",
          "model_module_version": "1.5.0",
          "state": {
            "_dom_classes": [],
            "_model_module": "@jupyter-widgets/controls",
            "_model_module_version": "1.5.0",
            "_model_name": "HTMLModel",
            "_view_count": null,
            "_view_module": "@jupyter-widgets/controls",
            "_view_module_version": "1.5.0",
            "_view_name": "HTMLView",
            "description": "",
            "description_tooltip": null,
            "layout": "IPY_MODEL_4ad089bf4b2043699838afe4500e4887",
            "placeholder": "​",
            "style": "IPY_MODEL_e2a5d9b05a104b97a9cc6882f95e2018",
            "value": "Map: 100%"
          }
        },
        "687b9446cc35446f95c1201542fa32c8": {
          "model_module": "@jupyter-widgets/controls",
          "model_name": "FloatProgressModel",
          "model_module_version": "1.5.0",
          "state": {
            "_dom_classes": [],
            "_model_module": "@jupyter-widgets/controls",
            "_model_module_version": "1.5.0",
            "_model_name": "FloatProgressModel",
            "_view_count": null,
            "_view_module": "@jupyter-widgets/controls",
            "_view_module_version": "1.5.0",
            "_view_name": "ProgressView",
            "bar_style": "success",
            "description": "",
            "description_tooltip": null,
            "layout": "IPY_MODEL_5e650aa5530d4cc3b257bb256e9a64d0",
            "max": 781,
            "min": 0,
            "orientation": "horizontal",
            "style": "IPY_MODEL_d71ed93bdd284ce58fa6e2221eb17a63",
            "value": 781
          }
        },
        "12a3f947cd244e269e25eaa2558dea40": {
          "model_module": "@jupyter-widgets/controls",
          "model_name": "HTMLModel",
          "model_module_version": "1.5.0",
          "state": {
            "_dom_classes": [],
            "_model_module": "@jupyter-widgets/controls",
            "_model_module_version": "1.5.0",
            "_model_name": "HTMLModel",
            "_view_count": null,
            "_view_module": "@jupyter-widgets/controls",
            "_view_module_version": "1.5.0",
            "_view_name": "HTMLView",
            "description": "",
            "description_tooltip": null,
            "layout": "IPY_MODEL_2b09db2f3d05491f9b16f5d6ab1af7af",
            "placeholder": "​",
            "style": "IPY_MODEL_eafb9332052041869f673a790249377d",
            "value": " 781/781 [00:03&lt;00:00, 199.59 examples/s]"
          }
        },
        "fd00a0c520e1484f82eb35ce008a4dd0": {
          "model_module": "@jupyter-widgets/base",
          "model_name": "LayoutModel",
          "model_module_version": "1.2.0",
          "state": {
            "_model_module": "@jupyter-widgets/base",
            "_model_module_version": "1.2.0",
            "_model_name": "LayoutModel",
            "_view_count": null,
            "_view_module": "@jupyter-widgets/base",
            "_view_module_version": "1.2.0",
            "_view_name": "LayoutView",
            "align_content": null,
            "align_items": null,
            "align_self": null,
            "border": null,
            "bottom": null,
            "display": null,
            "flex": null,
            "flex_flow": null,
            "grid_area": null,
            "grid_auto_columns": null,
            "grid_auto_flow": null,
            "grid_auto_rows": null,
            "grid_column": null,
            "grid_gap": null,
            "grid_row": null,
            "grid_template_areas": null,
            "grid_template_columns": null,
            "grid_template_rows": null,
            "height": null,
            "justify_content": null,
            "justify_items": null,
            "left": null,
            "margin": null,
            "max_height": null,
            "max_width": null,
            "min_height": null,
            "min_width": null,
            "object_fit": null,
            "object_position": null,
            "order": null,
            "overflow": null,
            "overflow_x": null,
            "overflow_y": null,
            "padding": null,
            "right": null,
            "top": null,
            "visibility": null,
            "width": null
          }
        },
        "4ad089bf4b2043699838afe4500e4887": {
          "model_module": "@jupyter-widgets/base",
          "model_name": "LayoutModel",
          "model_module_version": "1.2.0",
          "state": {
            "_model_module": "@jupyter-widgets/base",
            "_model_module_version": "1.2.0",
            "_model_name": "LayoutModel",
            "_view_count": null,
            "_view_module": "@jupyter-widgets/base",
            "_view_module_version": "1.2.0",
            "_view_name": "LayoutView",
            "align_content": null,
            "align_items": null,
            "align_self": null,
            "border": null,
            "bottom": null,
            "display": null,
            "flex": null,
            "flex_flow": null,
            "grid_area": null,
            "grid_auto_columns": null,
            "grid_auto_flow": null,
            "grid_auto_rows": null,
            "grid_column": null,
            "grid_gap": null,
            "grid_row": null,
            "grid_template_areas": null,
            "grid_template_columns": null,
            "grid_template_rows": null,
            "height": null,
            "justify_content": null,
            "justify_items": null,
            "left": null,
            "margin": null,
            "max_height": null,
            "max_width": null,
            "min_height": null,
            "min_width": null,
            "object_fit": null,
            "object_position": null,
            "order": null,
            "overflow": null,
            "overflow_x": null,
            "overflow_y": null,
            "padding": null,
            "right": null,
            "top": null,
            "visibility": null,
            "width": null
          }
        },
        "e2a5d9b05a104b97a9cc6882f95e2018": {
          "model_module": "@jupyter-widgets/controls",
          "model_name": "DescriptionStyleModel",
          "model_module_version": "1.5.0",
          "state": {
            "_model_module": "@jupyter-widgets/controls",
            "_model_module_version": "1.5.0",
            "_model_name": "DescriptionStyleModel",
            "_view_count": null,
            "_view_module": "@jupyter-widgets/base",
            "_view_module_version": "1.2.0",
            "_view_name": "StyleView",
            "description_width": ""
          }
        },
        "5e650aa5530d4cc3b257bb256e9a64d0": {
          "model_module": "@jupyter-widgets/base",
          "model_name": "LayoutModel",
          "model_module_version": "1.2.0",
          "state": {
            "_model_module": "@jupyter-widgets/base",
            "_model_module_version": "1.2.0",
            "_model_name": "LayoutModel",
            "_view_count": null,
            "_view_module": "@jupyter-widgets/base",
            "_view_module_version": "1.2.0",
            "_view_name": "LayoutView",
            "align_content": null,
            "align_items": null,
            "align_self": null,
            "border": null,
            "bottom": null,
            "display": null,
            "flex": null,
            "flex_flow": null,
            "grid_area": null,
            "grid_auto_columns": null,
            "grid_auto_flow": null,
            "grid_auto_rows": null,
            "grid_column": null,
            "grid_gap": null,
            "grid_row": null,
            "grid_template_areas": null,
            "grid_template_columns": null,
            "grid_template_rows": null,
            "height": null,
            "justify_content": null,
            "justify_items": null,
            "left": null,
            "margin": null,
            "max_height": null,
            "max_width": null,
            "min_height": null,
            "min_width": null,
            "object_fit": null,
            "object_position": null,
            "order": null,
            "overflow": null,
            "overflow_x": null,
            "overflow_y": null,
            "padding": null,
            "right": null,
            "top": null,
            "visibility": null,
            "width": null
          }
        },
        "d71ed93bdd284ce58fa6e2221eb17a63": {
          "model_module": "@jupyter-widgets/controls",
          "model_name": "ProgressStyleModel",
          "model_module_version": "1.5.0",
          "state": {
            "_model_module": "@jupyter-widgets/controls",
            "_model_module_version": "1.5.0",
            "_model_name": "ProgressStyleModel",
            "_view_count": null,
            "_view_module": "@jupyter-widgets/base",
            "_view_module_version": "1.2.0",
            "_view_name": "StyleView",
            "bar_color": null,
            "description_width": ""
          }
        },
        "2b09db2f3d05491f9b16f5d6ab1af7af": {
          "model_module": "@jupyter-widgets/base",
          "model_name": "LayoutModel",
          "model_module_version": "1.2.0",
          "state": {
            "_model_module": "@jupyter-widgets/base",
            "_model_module_version": "1.2.0",
            "_model_name": "LayoutModel",
            "_view_count": null,
            "_view_module": "@jupyter-widgets/base",
            "_view_module_version": "1.2.0",
            "_view_name": "LayoutView",
            "align_content": null,
            "align_items": null,
            "align_self": null,
            "border": null,
            "bottom": null,
            "display": null,
            "flex": null,
            "flex_flow": null,
            "grid_area": null,
            "grid_auto_columns": null,
            "grid_auto_flow": null,
            "grid_auto_rows": null,
            "grid_column": null,
            "grid_gap": null,
            "grid_row": null,
            "grid_template_areas": null,
            "grid_template_columns": null,
            "grid_template_rows": null,
            "height": null,
            "justify_content": null,
            "justify_items": null,
            "left": null,
            "margin": null,
            "max_height": null,
            "max_width": null,
            "min_height": null,
            "min_width": null,
            "object_fit": null,
            "object_position": null,
            "order": null,
            "overflow": null,
            "overflow_x": null,
            "overflow_y": null,
            "padding": null,
            "right": null,
            "top": null,
            "visibility": null,
            "width": null
          }
        },
        "eafb9332052041869f673a790249377d": {
          "model_module": "@jupyter-widgets/controls",
          "model_name": "DescriptionStyleModel",
          "model_module_version": "1.5.0",
          "state": {
            "_model_module": "@jupyter-widgets/controls",
            "_model_module_version": "1.5.0",
            "_model_name": "DescriptionStyleModel",
            "_view_count": null,
            "_view_module": "@jupyter-widgets/base",
            "_view_module_version": "1.2.0",
            "_view_name": "StyleView",
            "description_width": ""
          }
        },
        "a149caafda9e40449973cc16a8afba48": {
          "model_module": "@jupyter-widgets/controls",
          "model_name": "HBoxModel",
          "model_module_version": "1.5.0",
          "state": {
            "_dom_classes": [],
            "_model_module": "@jupyter-widgets/controls",
            "_model_module_version": "1.5.0",
            "_model_name": "HBoxModel",
            "_view_count": null,
            "_view_module": "@jupyter-widgets/controls",
            "_view_module_version": "1.5.0",
            "_view_name": "HBoxView",
            "box_style": "",
            "children": [
              "IPY_MODEL_6bf601021992408e9c6fea941a4cefe5",
              "IPY_MODEL_b356056db660467bb980ef291c9152cb",
              "IPY_MODEL_363e3f3019fe4a0783ad335fa7c28176"
            ],
            "layout": "IPY_MODEL_2c30cd61f24e446ebd070e9f20f8b78f"
          }
        },
        "6bf601021992408e9c6fea941a4cefe5": {
          "model_module": "@jupyter-widgets/controls",
          "model_name": "HTMLModel",
          "model_module_version": "1.5.0",
          "state": {
            "_dom_classes": [],
            "_model_module": "@jupyter-widgets/controls",
            "_model_module_version": "1.5.0",
            "_model_name": "HTMLModel",
            "_view_count": null,
            "_view_module": "@jupyter-widgets/controls",
            "_view_module_version": "1.5.0",
            "_view_name": "HTMLView",
            "description": "",
            "description_tooltip": null,
            "layout": "IPY_MODEL_72a63a1565454124abeaeb8f76c7e5f0",
            "placeholder": "​",
            "style": "IPY_MODEL_3198942b205d4bf18fda1dad0fe2c620",
            "value": "Map: 100%"
          }
        },
        "b356056db660467bb980ef291c9152cb": {
          "model_module": "@jupyter-widgets/controls",
          "model_name": "FloatProgressModel",
          "model_module_version": "1.5.0",
          "state": {
            "_dom_classes": [],
            "_model_module": "@jupyter-widgets/controls",
            "_model_module_version": "1.5.0",
            "_model_name": "FloatProgressModel",
            "_view_count": null,
            "_view_module": "@jupyter-widgets/controls",
            "_view_module_version": "1.5.0",
            "_view_name": "ProgressView",
            "bar_style": "success",
            "description": "",
            "description_tooltip": null,
            "layout": "IPY_MODEL_80e855d2bcfb49bcb44b74643726b02c",
            "max": 196,
            "min": 0,
            "orientation": "horizontal",
            "style": "IPY_MODEL_e0159e7b513c42e99cb58f2685fdf366",
            "value": 196
          }
        },
        "363e3f3019fe4a0783ad335fa7c28176": {
          "model_module": "@jupyter-widgets/controls",
          "model_name": "HTMLModel",
          "model_module_version": "1.5.0",
          "state": {
            "_dom_classes": [],
            "_model_module": "@jupyter-widgets/controls",
            "_model_module_version": "1.5.0",
            "_model_name": "HTMLModel",
            "_view_count": null,
            "_view_module": "@jupyter-widgets/controls",
            "_view_module_version": "1.5.0",
            "_view_name": "HTMLView",
            "description": "",
            "description_tooltip": null,
            "layout": "IPY_MODEL_7fc2750b04d247e7bcc60fb74ac2ed21",
            "placeholder": "​",
            "style": "IPY_MODEL_2ac48c9a9fd344fba6b69970a1988c0f",
            "value": " 196/196 [00:01&lt;00:00, 163.13 examples/s]"
          }
        },
        "2c30cd61f24e446ebd070e9f20f8b78f": {
          "model_module": "@jupyter-widgets/base",
          "model_name": "LayoutModel",
          "model_module_version": "1.2.0",
          "state": {
            "_model_module": "@jupyter-widgets/base",
            "_model_module_version": "1.2.0",
            "_model_name": "LayoutModel",
            "_view_count": null,
            "_view_module": "@jupyter-widgets/base",
            "_view_module_version": "1.2.0",
            "_view_name": "LayoutView",
            "align_content": null,
            "align_items": null,
            "align_self": null,
            "border": null,
            "bottom": null,
            "display": null,
            "flex": null,
            "flex_flow": null,
            "grid_area": null,
            "grid_auto_columns": null,
            "grid_auto_flow": null,
            "grid_auto_rows": null,
            "grid_column": null,
            "grid_gap": null,
            "grid_row": null,
            "grid_template_areas": null,
            "grid_template_columns": null,
            "grid_template_rows": null,
            "height": null,
            "justify_content": null,
            "justify_items": null,
            "left": null,
            "margin": null,
            "max_height": null,
            "max_width": null,
            "min_height": null,
            "min_width": null,
            "object_fit": null,
            "object_position": null,
            "order": null,
            "overflow": null,
            "overflow_x": null,
            "overflow_y": null,
            "padding": null,
            "right": null,
            "top": null,
            "visibility": null,
            "width": null
          }
        },
        "72a63a1565454124abeaeb8f76c7e5f0": {
          "model_module": "@jupyter-widgets/base",
          "model_name": "LayoutModel",
          "model_module_version": "1.2.0",
          "state": {
            "_model_module": "@jupyter-widgets/base",
            "_model_module_version": "1.2.0",
            "_model_name": "LayoutModel",
            "_view_count": null,
            "_view_module": "@jupyter-widgets/base",
            "_view_module_version": "1.2.0",
            "_view_name": "LayoutView",
            "align_content": null,
            "align_items": null,
            "align_self": null,
            "border": null,
            "bottom": null,
            "display": null,
            "flex": null,
            "flex_flow": null,
            "grid_area": null,
            "grid_auto_columns": null,
            "grid_auto_flow": null,
            "grid_auto_rows": null,
            "grid_column": null,
            "grid_gap": null,
            "grid_row": null,
            "grid_template_areas": null,
            "grid_template_columns": null,
            "grid_template_rows": null,
            "height": null,
            "justify_content": null,
            "justify_items": null,
            "left": null,
            "margin": null,
            "max_height": null,
            "max_width": null,
            "min_height": null,
            "min_width": null,
            "object_fit": null,
            "object_position": null,
            "order": null,
            "overflow": null,
            "overflow_x": null,
            "overflow_y": null,
            "padding": null,
            "right": null,
            "top": null,
            "visibility": null,
            "width": null
          }
        },
        "3198942b205d4bf18fda1dad0fe2c620": {
          "model_module": "@jupyter-widgets/controls",
          "model_name": "DescriptionStyleModel",
          "model_module_version": "1.5.0",
          "state": {
            "_model_module": "@jupyter-widgets/controls",
            "_model_module_version": "1.5.0",
            "_model_name": "DescriptionStyleModel",
            "_view_count": null,
            "_view_module": "@jupyter-widgets/base",
            "_view_module_version": "1.2.0",
            "_view_name": "StyleView",
            "description_width": ""
          }
        },
        "80e855d2bcfb49bcb44b74643726b02c": {
          "model_module": "@jupyter-widgets/base",
          "model_name": "LayoutModel",
          "model_module_version": "1.2.0",
          "state": {
            "_model_module": "@jupyter-widgets/base",
            "_model_module_version": "1.2.0",
            "_model_name": "LayoutModel",
            "_view_count": null,
            "_view_module": "@jupyter-widgets/base",
            "_view_module_version": "1.2.0",
            "_view_name": "LayoutView",
            "align_content": null,
            "align_items": null,
            "align_self": null,
            "border": null,
            "bottom": null,
            "display": null,
            "flex": null,
            "flex_flow": null,
            "grid_area": null,
            "grid_auto_columns": null,
            "grid_auto_flow": null,
            "grid_auto_rows": null,
            "grid_column": null,
            "grid_gap": null,
            "grid_row": null,
            "grid_template_areas": null,
            "grid_template_columns": null,
            "grid_template_rows": null,
            "height": null,
            "justify_content": null,
            "justify_items": null,
            "left": null,
            "margin": null,
            "max_height": null,
            "max_width": null,
            "min_height": null,
            "min_width": null,
            "object_fit": null,
            "object_position": null,
            "order": null,
            "overflow": null,
            "overflow_x": null,
            "overflow_y": null,
            "padding": null,
            "right": null,
            "top": null,
            "visibility": null,
            "width": null
          }
        },
        "e0159e7b513c42e99cb58f2685fdf366": {
          "model_module": "@jupyter-widgets/controls",
          "model_name": "ProgressStyleModel",
          "model_module_version": "1.5.0",
          "state": {
            "_model_module": "@jupyter-widgets/controls",
            "_model_module_version": "1.5.0",
            "_model_name": "ProgressStyleModel",
            "_view_count": null,
            "_view_module": "@jupyter-widgets/base",
            "_view_module_version": "1.2.0",
            "_view_name": "StyleView",
            "bar_color": null,
            "description_width": ""
          }
        },
        "7fc2750b04d247e7bcc60fb74ac2ed21": {
          "model_module": "@jupyter-widgets/base",
          "model_name": "LayoutModel",
          "model_module_version": "1.2.0",
          "state": {
            "_model_module": "@jupyter-widgets/base",
            "_model_module_version": "1.2.0",
            "_model_name": "LayoutModel",
            "_view_count": null,
            "_view_module": "@jupyter-widgets/base",
            "_view_module_version": "1.2.0",
            "_view_name": "LayoutView",
            "align_content": null,
            "align_items": null,
            "align_self": null,
            "border": null,
            "bottom": null,
            "display": null,
            "flex": null,
            "flex_flow": null,
            "grid_area": null,
            "grid_auto_columns": null,
            "grid_auto_flow": null,
            "grid_auto_rows": null,
            "grid_column": null,
            "grid_gap": null,
            "grid_row": null,
            "grid_template_areas": null,
            "grid_template_columns": null,
            "grid_template_rows": null,
            "height": null,
            "justify_content": null,
            "justify_items": null,
            "left": null,
            "margin": null,
            "max_height": null,
            "max_width": null,
            "min_height": null,
            "min_width": null,
            "object_fit": null,
            "object_position": null,
            "order": null,
            "overflow": null,
            "overflow_x": null,
            "overflow_y": null,
            "padding": null,
            "right": null,
            "top": null,
            "visibility": null,
            "width": null
          }
        },
        "2ac48c9a9fd344fba6b69970a1988c0f": {
          "model_module": "@jupyter-widgets/controls",
          "model_name": "DescriptionStyleModel",
          "model_module_version": "1.5.0",
          "state": {
            "_model_module": "@jupyter-widgets/controls",
            "_model_module_version": "1.5.0",
            "_model_name": "DescriptionStyleModel",
            "_view_count": null,
            "_view_module": "@jupyter-widgets/base",
            "_view_module_version": "1.2.0",
            "_view_name": "StyleView",
            "description_width": ""
          }
        },
        "c3a7c57adc3440e4ae2fed4a3738d147": {
          "model_module": "@jupyter-widgets/controls",
          "model_name": "HBoxModel",
          "model_module_version": "1.5.0",
          "state": {
            "_dom_classes": [],
            "_model_module": "@jupyter-widgets/controls",
            "_model_module_version": "1.5.0",
            "_model_name": "HBoxModel",
            "_view_count": null,
            "_view_module": "@jupyter-widgets/controls",
            "_view_module_version": "1.5.0",
            "_view_name": "HBoxView",
            "box_style": "",
            "children": [
              "IPY_MODEL_8768f2185d154f0fa63687af60144e96",
              "IPY_MODEL_91a1413e499e4fd981678db64d9082d6",
              "IPY_MODEL_517902b4a883427daa842d723c9b96c6"
            ],
            "layout": "IPY_MODEL_10a1ea38216a404f9f79a695fdfe6f30"
          }
        },
        "8768f2185d154f0fa63687af60144e96": {
          "model_module": "@jupyter-widgets/controls",
          "model_name": "HTMLModel",
          "model_module_version": "1.5.0",
          "state": {
            "_dom_classes": [],
            "_model_module": "@jupyter-widgets/controls",
            "_model_module_version": "1.5.0",
            "_model_name": "HTMLModel",
            "_view_count": null,
            "_view_module": "@jupyter-widgets/controls",
            "_view_module_version": "1.5.0",
            "_view_name": "HTMLView",
            "description": "",
            "description_tooltip": null,
            "layout": "IPY_MODEL_d9efe2531a4646e79e4bd4cfe783284c",
            "placeholder": "​",
            "style": "IPY_MODEL_d67ec509b68b4a38a70dbb004e9e8273",
            "value": "Map: 100%"
          }
        },
        "91a1413e499e4fd981678db64d9082d6": {
          "model_module": "@jupyter-widgets/controls",
          "model_name": "FloatProgressModel",
          "model_module_version": "1.5.0",
          "state": {
            "_dom_classes": [],
            "_model_module": "@jupyter-widgets/controls",
            "_model_module_version": "1.5.0",
            "_model_name": "FloatProgressModel",
            "_view_count": null,
            "_view_module": "@jupyter-widgets/controls",
            "_view_module_version": "1.5.0",
            "_view_name": "ProgressView",
            "bar_style": "success",
            "description": "",
            "description_tooltip": null,
            "layout": "IPY_MODEL_3dbc8509160e4eb599fba3f2229c8d9d",
            "max": 781,
            "min": 0,
            "orientation": "horizontal",
            "style": "IPY_MODEL_db54dc6cbf63414a9016a396e843891d",
            "value": 781
          }
        },
        "517902b4a883427daa842d723c9b96c6": {
          "model_module": "@jupyter-widgets/controls",
          "model_name": "HTMLModel",
          "model_module_version": "1.5.0",
          "state": {
            "_dom_classes": [],
            "_model_module": "@jupyter-widgets/controls",
            "_model_module_version": "1.5.0",
            "_model_name": "HTMLModel",
            "_view_count": null,
            "_view_module": "@jupyter-widgets/controls",
            "_view_module_version": "1.5.0",
            "_view_name": "HTMLView",
            "description": "",
            "description_tooltip": null,
            "layout": "IPY_MODEL_8cdfd9ae254344e19eb34d9bbf15601d",
            "placeholder": "​",
            "style": "IPY_MODEL_5e3bcb28d0554195adc04850de43abb0",
            "value": " 781/781 [00:02&lt;00:00, 378.97 examples/s]"
          }
        },
        "10a1ea38216a404f9f79a695fdfe6f30": {
          "model_module": "@jupyter-widgets/base",
          "model_name": "LayoutModel",
          "model_module_version": "1.2.0",
          "state": {
            "_model_module": "@jupyter-widgets/base",
            "_model_module_version": "1.2.0",
            "_model_name": "LayoutModel",
            "_view_count": null,
            "_view_module": "@jupyter-widgets/base",
            "_view_module_version": "1.2.0",
            "_view_name": "LayoutView",
            "align_content": null,
            "align_items": null,
            "align_self": null,
            "border": null,
            "bottom": null,
            "display": null,
            "flex": null,
            "flex_flow": null,
            "grid_area": null,
            "grid_auto_columns": null,
            "grid_auto_flow": null,
            "grid_auto_rows": null,
            "grid_column": null,
            "grid_gap": null,
            "grid_row": null,
            "grid_template_areas": null,
            "grid_template_columns": null,
            "grid_template_rows": null,
            "height": null,
            "justify_content": null,
            "justify_items": null,
            "left": null,
            "margin": null,
            "max_height": null,
            "max_width": null,
            "min_height": null,
            "min_width": null,
            "object_fit": null,
            "object_position": null,
            "order": null,
            "overflow": null,
            "overflow_x": null,
            "overflow_y": null,
            "padding": null,
            "right": null,
            "top": null,
            "visibility": null,
            "width": null
          }
        },
        "d9efe2531a4646e79e4bd4cfe783284c": {
          "model_module": "@jupyter-widgets/base",
          "model_name": "LayoutModel",
          "model_module_version": "1.2.0",
          "state": {
            "_model_module": "@jupyter-widgets/base",
            "_model_module_version": "1.2.0",
            "_model_name": "LayoutModel",
            "_view_count": null,
            "_view_module": "@jupyter-widgets/base",
            "_view_module_version": "1.2.0",
            "_view_name": "LayoutView",
            "align_content": null,
            "align_items": null,
            "align_self": null,
            "border": null,
            "bottom": null,
            "display": null,
            "flex": null,
            "flex_flow": null,
            "grid_area": null,
            "grid_auto_columns": null,
            "grid_auto_flow": null,
            "grid_auto_rows": null,
            "grid_column": null,
            "grid_gap": null,
            "grid_row": null,
            "grid_template_areas": null,
            "grid_template_columns": null,
            "grid_template_rows": null,
            "height": null,
            "justify_content": null,
            "justify_items": null,
            "left": null,
            "margin": null,
            "max_height": null,
            "max_width": null,
            "min_height": null,
            "min_width": null,
            "object_fit": null,
            "object_position": null,
            "order": null,
            "overflow": null,
            "overflow_x": null,
            "overflow_y": null,
            "padding": null,
            "right": null,
            "top": null,
            "visibility": null,
            "width": null
          }
        },
        "d67ec509b68b4a38a70dbb004e9e8273": {
          "model_module": "@jupyter-widgets/controls",
          "model_name": "DescriptionStyleModel",
          "model_module_version": "1.5.0",
          "state": {
            "_model_module": "@jupyter-widgets/controls",
            "_model_module_version": "1.5.0",
            "_model_name": "DescriptionStyleModel",
            "_view_count": null,
            "_view_module": "@jupyter-widgets/base",
            "_view_module_version": "1.2.0",
            "_view_name": "StyleView",
            "description_width": ""
          }
        },
        "3dbc8509160e4eb599fba3f2229c8d9d": {
          "model_module": "@jupyter-widgets/base",
          "model_name": "LayoutModel",
          "model_module_version": "1.2.0",
          "state": {
            "_model_module": "@jupyter-widgets/base",
            "_model_module_version": "1.2.0",
            "_model_name": "LayoutModel",
            "_view_count": null,
            "_view_module": "@jupyter-widgets/base",
            "_view_module_version": "1.2.0",
            "_view_name": "LayoutView",
            "align_content": null,
            "align_items": null,
            "align_self": null,
            "border": null,
            "bottom": null,
            "display": null,
            "flex": null,
            "flex_flow": null,
            "grid_area": null,
            "grid_auto_columns": null,
            "grid_auto_flow": null,
            "grid_auto_rows": null,
            "grid_column": null,
            "grid_gap": null,
            "grid_row": null,
            "grid_template_areas": null,
            "grid_template_columns": null,
            "grid_template_rows": null,
            "height": null,
            "justify_content": null,
            "justify_items": null,
            "left": null,
            "margin": null,
            "max_height": null,
            "max_width": null,
            "min_height": null,
            "min_width": null,
            "object_fit": null,
            "object_position": null,
            "order": null,
            "overflow": null,
            "overflow_x": null,
            "overflow_y": null,
            "padding": null,
            "right": null,
            "top": null,
            "visibility": null,
            "width": null
          }
        },
        "db54dc6cbf63414a9016a396e843891d": {
          "model_module": "@jupyter-widgets/controls",
          "model_name": "ProgressStyleModel",
          "model_module_version": "1.5.0",
          "state": {
            "_model_module": "@jupyter-widgets/controls",
            "_model_module_version": "1.5.0",
            "_model_name": "ProgressStyleModel",
            "_view_count": null,
            "_view_module": "@jupyter-widgets/base",
            "_view_module_version": "1.2.0",
            "_view_name": "StyleView",
            "bar_color": null,
            "description_width": ""
          }
        },
        "8cdfd9ae254344e19eb34d9bbf15601d": {
          "model_module": "@jupyter-widgets/base",
          "model_name": "LayoutModel",
          "model_module_version": "1.2.0",
          "state": {
            "_model_module": "@jupyter-widgets/base",
            "_model_module_version": "1.2.0",
            "_model_name": "LayoutModel",
            "_view_count": null,
            "_view_module": "@jupyter-widgets/base",
            "_view_module_version": "1.2.0",
            "_view_name": "LayoutView",
            "align_content": null,
            "align_items": null,
            "align_self": null,
            "border": null,
            "bottom": null,
            "display": null,
            "flex": null,
            "flex_flow": null,
            "grid_area": null,
            "grid_auto_columns": null,
            "grid_auto_flow": null,
            "grid_auto_rows": null,
            "grid_column": null,
            "grid_gap": null,
            "grid_row": null,
            "grid_template_areas": null,
            "grid_template_columns": null,
            "grid_template_rows": null,
            "height": null,
            "justify_content": null,
            "justify_items": null,
            "left": null,
            "margin": null,
            "max_height": null,
            "max_width": null,
            "min_height": null,
            "min_width": null,
            "object_fit": null,
            "object_position": null,
            "order": null,
            "overflow": null,
            "overflow_x": null,
            "overflow_y": null,
            "padding": null,
            "right": null,
            "top": null,
            "visibility": null,
            "width": null
          }
        },
        "5e3bcb28d0554195adc04850de43abb0": {
          "model_module": "@jupyter-widgets/controls",
          "model_name": "DescriptionStyleModel",
          "model_module_version": "1.5.0",
          "state": {
            "_model_module": "@jupyter-widgets/controls",
            "_model_module_version": "1.5.0",
            "_model_name": "DescriptionStyleModel",
            "_view_count": null,
            "_view_module": "@jupyter-widgets/base",
            "_view_module_version": "1.2.0",
            "_view_name": "StyleView",
            "description_width": ""
          }
        },
        "1a0619e43ad64c8d8f9a4e88ebc144ed": {
          "model_module": "@jupyter-widgets/controls",
          "model_name": "HBoxModel",
          "model_module_version": "1.5.0",
          "state": {
            "_dom_classes": [],
            "_model_module": "@jupyter-widgets/controls",
            "_model_module_version": "1.5.0",
            "_model_name": "HBoxModel",
            "_view_count": null,
            "_view_module": "@jupyter-widgets/controls",
            "_view_module_version": "1.5.0",
            "_view_name": "HBoxView",
            "box_style": "",
            "children": [
              "IPY_MODEL_a0c02ab372d446faa8a262f9848b4b80",
              "IPY_MODEL_3ac3a626ad984911be2bc20fef12051f",
              "IPY_MODEL_ecca13cf64034e70b1420ce5dfc1586a"
            ],
            "layout": "IPY_MODEL_301e019cfed44f61a54538a09261f53f"
          }
        },
        "a0c02ab372d446faa8a262f9848b4b80": {
          "model_module": "@jupyter-widgets/controls",
          "model_name": "HTMLModel",
          "model_module_version": "1.5.0",
          "state": {
            "_dom_classes": [],
            "_model_module": "@jupyter-widgets/controls",
            "_model_module_version": "1.5.0",
            "_model_name": "HTMLModel",
            "_view_count": null,
            "_view_module": "@jupyter-widgets/controls",
            "_view_module_version": "1.5.0",
            "_view_name": "HTMLView",
            "description": "",
            "description_tooltip": null,
            "layout": "IPY_MODEL_036723efdc8747d0a86f2337a6e08284",
            "placeholder": "​",
            "style": "IPY_MODEL_877389bc8f8b4e58b4291523731862f0",
            "value": "Map: 100%"
          }
        },
        "3ac3a626ad984911be2bc20fef12051f": {
          "model_module": "@jupyter-widgets/controls",
          "model_name": "FloatProgressModel",
          "model_module_version": "1.5.0",
          "state": {
            "_dom_classes": [],
            "_model_module": "@jupyter-widgets/controls",
            "_model_module_version": "1.5.0",
            "_model_name": "FloatProgressModel",
            "_view_count": null,
            "_view_module": "@jupyter-widgets/controls",
            "_view_module_version": "1.5.0",
            "_view_name": "ProgressView",
            "bar_style": "success",
            "description": "",
            "description_tooltip": null,
            "layout": "IPY_MODEL_cc9533b7abed40daae9c048ceb118aee",
            "max": 196,
            "min": 0,
            "orientation": "horizontal",
            "style": "IPY_MODEL_277a6b42c81845cdbc90846aa6e2c1e5",
            "value": 196
          }
        },
        "ecca13cf64034e70b1420ce5dfc1586a": {
          "model_module": "@jupyter-widgets/controls",
          "model_name": "HTMLModel",
          "model_module_version": "1.5.0",
          "state": {
            "_dom_classes": [],
            "_model_module": "@jupyter-widgets/controls",
            "_model_module_version": "1.5.0",
            "_model_name": "HTMLModel",
            "_view_count": null,
            "_view_module": "@jupyter-widgets/controls",
            "_view_module_version": "1.5.0",
            "_view_name": "HTMLView",
            "description": "",
            "description_tooltip": null,
            "layout": "IPY_MODEL_b237b618ccc84a71ae677e1d4baca891",
            "placeholder": "​",
            "style": "IPY_MODEL_a77b2bea1bcf4fb4bf91b69de04753ac",
            "value": " 196/196 [00:00&lt;00:00, 367.60 examples/s]"
          }
        },
        "301e019cfed44f61a54538a09261f53f": {
          "model_module": "@jupyter-widgets/base",
          "model_name": "LayoutModel",
          "model_module_version": "1.2.0",
          "state": {
            "_model_module": "@jupyter-widgets/base",
            "_model_module_version": "1.2.0",
            "_model_name": "LayoutModel",
            "_view_count": null,
            "_view_module": "@jupyter-widgets/base",
            "_view_module_version": "1.2.0",
            "_view_name": "LayoutView",
            "align_content": null,
            "align_items": null,
            "align_self": null,
            "border": null,
            "bottom": null,
            "display": null,
            "flex": null,
            "flex_flow": null,
            "grid_area": null,
            "grid_auto_columns": null,
            "grid_auto_flow": null,
            "grid_auto_rows": null,
            "grid_column": null,
            "grid_gap": null,
            "grid_row": null,
            "grid_template_areas": null,
            "grid_template_columns": null,
            "grid_template_rows": null,
            "height": null,
            "justify_content": null,
            "justify_items": null,
            "left": null,
            "margin": null,
            "max_height": null,
            "max_width": null,
            "min_height": null,
            "min_width": null,
            "object_fit": null,
            "object_position": null,
            "order": null,
            "overflow": null,
            "overflow_x": null,
            "overflow_y": null,
            "padding": null,
            "right": null,
            "top": null,
            "visibility": null,
            "width": null
          }
        },
        "036723efdc8747d0a86f2337a6e08284": {
          "model_module": "@jupyter-widgets/base",
          "model_name": "LayoutModel",
          "model_module_version": "1.2.0",
          "state": {
            "_model_module": "@jupyter-widgets/base",
            "_model_module_version": "1.2.0",
            "_model_name": "LayoutModel",
            "_view_count": null,
            "_view_module": "@jupyter-widgets/base",
            "_view_module_version": "1.2.0",
            "_view_name": "LayoutView",
            "align_content": null,
            "align_items": null,
            "align_self": null,
            "border": null,
            "bottom": null,
            "display": null,
            "flex": null,
            "flex_flow": null,
            "grid_area": null,
            "grid_auto_columns": null,
            "grid_auto_flow": null,
            "grid_auto_rows": null,
            "grid_column": null,
            "grid_gap": null,
            "grid_row": null,
            "grid_template_areas": null,
            "grid_template_columns": null,
            "grid_template_rows": null,
            "height": null,
            "justify_content": null,
            "justify_items": null,
            "left": null,
            "margin": null,
            "max_height": null,
            "max_width": null,
            "min_height": null,
            "min_width": null,
            "object_fit": null,
            "object_position": null,
            "order": null,
            "overflow": null,
            "overflow_x": null,
            "overflow_y": null,
            "padding": null,
            "right": null,
            "top": null,
            "visibility": null,
            "width": null
          }
        },
        "877389bc8f8b4e58b4291523731862f0": {
          "model_module": "@jupyter-widgets/controls",
          "model_name": "DescriptionStyleModel",
          "model_module_version": "1.5.0",
          "state": {
            "_model_module": "@jupyter-widgets/controls",
            "_model_module_version": "1.5.0",
            "_model_name": "DescriptionStyleModel",
            "_view_count": null,
            "_view_module": "@jupyter-widgets/base",
            "_view_module_version": "1.2.0",
            "_view_name": "StyleView",
            "description_width": ""
          }
        },
        "cc9533b7abed40daae9c048ceb118aee": {
          "model_module": "@jupyter-widgets/base",
          "model_name": "LayoutModel",
          "model_module_version": "1.2.0",
          "state": {
            "_model_module": "@jupyter-widgets/base",
            "_model_module_version": "1.2.0",
            "_model_name": "LayoutModel",
            "_view_count": null,
            "_view_module": "@jupyter-widgets/base",
            "_view_module_version": "1.2.0",
            "_view_name": "LayoutView",
            "align_content": null,
            "align_items": null,
            "align_self": null,
            "border": null,
            "bottom": null,
            "display": null,
            "flex": null,
            "flex_flow": null,
            "grid_area": null,
            "grid_auto_columns": null,
            "grid_auto_flow": null,
            "grid_auto_rows": null,
            "grid_column": null,
            "grid_gap": null,
            "grid_row": null,
            "grid_template_areas": null,
            "grid_template_columns": null,
            "grid_template_rows": null,
            "height": null,
            "justify_content": null,
            "justify_items": null,
            "left": null,
            "margin": null,
            "max_height": null,
            "max_width": null,
            "min_height": null,
            "min_width": null,
            "object_fit": null,
            "object_position": null,
            "order": null,
            "overflow": null,
            "overflow_x": null,
            "overflow_y": null,
            "padding": null,
            "right": null,
            "top": null,
            "visibility": null,
            "width": null
          }
        },
        "277a6b42c81845cdbc90846aa6e2c1e5": {
          "model_module": "@jupyter-widgets/controls",
          "model_name": "ProgressStyleModel",
          "model_module_version": "1.5.0",
          "state": {
            "_model_module": "@jupyter-widgets/controls",
            "_model_module_version": "1.5.0",
            "_model_name": "ProgressStyleModel",
            "_view_count": null,
            "_view_module": "@jupyter-widgets/base",
            "_view_module_version": "1.2.0",
            "_view_name": "StyleView",
            "bar_color": null,
            "description_width": ""
          }
        },
        "b237b618ccc84a71ae677e1d4baca891": {
          "model_module": "@jupyter-widgets/base",
          "model_name": "LayoutModel",
          "model_module_version": "1.2.0",
          "state": {
            "_model_module": "@jupyter-widgets/base",
            "_model_module_version": "1.2.0",
            "_model_name": "LayoutModel",
            "_view_count": null,
            "_view_module": "@jupyter-widgets/base",
            "_view_module_version": "1.2.0",
            "_view_name": "LayoutView",
            "align_content": null,
            "align_items": null,
            "align_self": null,
            "border": null,
            "bottom": null,
            "display": null,
            "flex": null,
            "flex_flow": null,
            "grid_area": null,
            "grid_auto_columns": null,
            "grid_auto_flow": null,
            "grid_auto_rows": null,
            "grid_column": null,
            "grid_gap": null,
            "grid_row": null,
            "grid_template_areas": null,
            "grid_template_columns": null,
            "grid_template_rows": null,
            "height": null,
            "justify_content": null,
            "justify_items": null,
            "left": null,
            "margin": null,
            "max_height": null,
            "max_width": null,
            "min_height": null,
            "min_width": null,
            "object_fit": null,
            "object_position": null,
            "order": null,
            "overflow": null,
            "overflow_x": null,
            "overflow_y": null,
            "padding": null,
            "right": null,
            "top": null,
            "visibility": null,
            "width": null
          }
        },
        "a77b2bea1bcf4fb4bf91b69de04753ac": {
          "model_module": "@jupyter-widgets/controls",
          "model_name": "DescriptionStyleModel",
          "model_module_version": "1.5.0",
          "state": {
            "_model_module": "@jupyter-widgets/controls",
            "_model_module_version": "1.5.0",
            "_model_name": "DescriptionStyleModel",
            "_view_count": null,
            "_view_module": "@jupyter-widgets/base",
            "_view_module_version": "1.2.0",
            "_view_name": "StyleView",
            "description_width": ""
          }
        }
      }
    }
  },
  "cells": [
    {
      "cell_type": "markdown",
      "source": [
        "## Set-Up"
      ],
      "metadata": {
        "id": "iLKI6_mWcxgA"
      }
    },
    {
      "cell_type": "code",
      "source": [
        "!pip install transformers datasets"
      ],
      "metadata": {
        "colab": {
          "base_uri": "https://localhost:8080/"
        },
        "id": "1SrBWWX5XLv7",
        "outputId": "daf1b2a3-5e38-4033-c752-4171cfd42810"
      },
      "execution_count": 1,
      "outputs": [
        {
          "output_type": "stream",
          "name": "stdout",
          "text": [
            "Requirement already satisfied: transformers in /usr/local/lib/python3.11/dist-packages (4.51.3)\n",
            "Collecting datasets\n",
            "  Downloading datasets-3.6.0-py3-none-any.whl.metadata (19 kB)\n",
            "Requirement already satisfied: filelock in /usr/local/lib/python3.11/dist-packages (from transformers) (3.18.0)\n",
            "Requirement already satisfied: huggingface-hub<1.0,>=0.30.0 in /usr/local/lib/python3.11/dist-packages (from transformers) (0.30.2)\n",
            "Requirement already satisfied: numpy>=1.17 in /usr/local/lib/python3.11/dist-packages (from transformers) (2.0.2)\n",
            "Requirement already satisfied: packaging>=20.0 in /usr/local/lib/python3.11/dist-packages (from transformers) (24.2)\n",
            "Requirement already satisfied: pyyaml>=5.1 in /usr/local/lib/python3.11/dist-packages (from transformers) (6.0.2)\n",
            "Requirement already satisfied: regex!=2019.12.17 in /usr/local/lib/python3.11/dist-packages (from transformers) (2024.11.6)\n",
            "Requirement already satisfied: requests in /usr/local/lib/python3.11/dist-packages (from transformers) (2.32.3)\n",
            "Requirement already satisfied: tokenizers<0.22,>=0.21 in /usr/local/lib/python3.11/dist-packages (from transformers) (0.21.1)\n",
            "Requirement already satisfied: safetensors>=0.4.3 in /usr/local/lib/python3.11/dist-packages (from transformers) (0.5.3)\n",
            "Requirement already satisfied: tqdm>=4.27 in /usr/local/lib/python3.11/dist-packages (from transformers) (4.67.1)\n",
            "Requirement already satisfied: pyarrow>=15.0.0 in /usr/local/lib/python3.11/dist-packages (from datasets) (18.1.0)\n",
            "Collecting dill<0.3.9,>=0.3.0 (from datasets)\n",
            "  Downloading dill-0.3.8-py3-none-any.whl.metadata (10 kB)\n",
            "Requirement already satisfied: pandas in /usr/local/lib/python3.11/dist-packages (from datasets) (2.2.2)\n",
            "Collecting xxhash (from datasets)\n",
            "  Downloading xxhash-3.5.0-cp311-cp311-manylinux_2_17_x86_64.manylinux2014_x86_64.whl.metadata (12 kB)\n",
            "Collecting multiprocess<0.70.17 (from datasets)\n",
            "  Downloading multiprocess-0.70.16-py311-none-any.whl.metadata (7.2 kB)\n",
            "Collecting fsspec<=2025.3.0,>=2023.1.0 (from fsspec[http]<=2025.3.0,>=2023.1.0->datasets)\n",
            "  Downloading fsspec-2025.3.0-py3-none-any.whl.metadata (11 kB)\n",
            "Requirement already satisfied: aiohttp!=4.0.0a0,!=4.0.0a1 in /usr/local/lib/python3.11/dist-packages (from fsspec[http]<=2025.3.0,>=2023.1.0->datasets) (3.11.15)\n",
            "Requirement already satisfied: typing-extensions>=3.7.4.3 in /usr/local/lib/python3.11/dist-packages (from huggingface-hub<1.0,>=0.30.0->transformers) (4.13.2)\n",
            "Requirement already satisfied: charset-normalizer<4,>=2 in /usr/local/lib/python3.11/dist-packages (from requests->transformers) (3.4.1)\n",
            "Requirement already satisfied: idna<4,>=2.5 in /usr/local/lib/python3.11/dist-packages (from requests->transformers) (3.10)\n",
            "Requirement already satisfied: urllib3<3,>=1.21.1 in /usr/local/lib/python3.11/dist-packages (from requests->transformers) (2.4.0)\n",
            "Requirement already satisfied: certifi>=2017.4.17 in /usr/local/lib/python3.11/dist-packages (from requests->transformers) (2025.4.26)\n",
            "Requirement already satisfied: python-dateutil>=2.8.2 in /usr/local/lib/python3.11/dist-packages (from pandas->datasets) (2.9.0.post0)\n",
            "Requirement already satisfied: pytz>=2020.1 in /usr/local/lib/python3.11/dist-packages (from pandas->datasets) (2025.2)\n",
            "Requirement already satisfied: tzdata>=2022.7 in /usr/local/lib/python3.11/dist-packages (from pandas->datasets) (2025.2)\n",
            "Requirement already satisfied: aiohappyeyeballs>=2.3.0 in /usr/local/lib/python3.11/dist-packages (from aiohttp!=4.0.0a0,!=4.0.0a1->fsspec[http]<=2025.3.0,>=2023.1.0->datasets) (2.6.1)\n",
            "Requirement already satisfied: aiosignal>=1.1.2 in /usr/local/lib/python3.11/dist-packages (from aiohttp!=4.0.0a0,!=4.0.0a1->fsspec[http]<=2025.3.0,>=2023.1.0->datasets) (1.3.2)\n",
            "Requirement already satisfied: attrs>=17.3.0 in /usr/local/lib/python3.11/dist-packages (from aiohttp!=4.0.0a0,!=4.0.0a1->fsspec[http]<=2025.3.0,>=2023.1.0->datasets) (25.3.0)\n",
            "Requirement already satisfied: frozenlist>=1.1.1 in /usr/local/lib/python3.11/dist-packages (from aiohttp!=4.0.0a0,!=4.0.0a1->fsspec[http]<=2025.3.0,>=2023.1.0->datasets) (1.6.0)\n",
            "Requirement already satisfied: multidict<7.0,>=4.5 in /usr/local/lib/python3.11/dist-packages (from aiohttp!=4.0.0a0,!=4.0.0a1->fsspec[http]<=2025.3.0,>=2023.1.0->datasets) (6.4.3)\n",
            "Requirement already satisfied: propcache>=0.2.0 in /usr/local/lib/python3.11/dist-packages (from aiohttp!=4.0.0a0,!=4.0.0a1->fsspec[http]<=2025.3.0,>=2023.1.0->datasets) (0.3.1)\n",
            "Requirement already satisfied: yarl<2.0,>=1.17.0 in /usr/local/lib/python3.11/dist-packages (from aiohttp!=4.0.0a0,!=4.0.0a1->fsspec[http]<=2025.3.0,>=2023.1.0->datasets) (1.20.0)\n",
            "Requirement already satisfied: six>=1.5 in /usr/local/lib/python3.11/dist-packages (from python-dateutil>=2.8.2->pandas->datasets) (1.17.0)\n",
            "Downloading datasets-3.6.0-py3-none-any.whl (491 kB)\n",
            "\u001b[2K   \u001b[90m━━━━━━━━━━━━━━━━━━━━━━━━━━━━━━━━━━━━━━━━\u001b[0m \u001b[32m491.5/491.5 kB\u001b[0m \u001b[31m20.5 MB/s\u001b[0m eta \u001b[36m0:00:00\u001b[0m\n",
            "\u001b[?25hDownloading dill-0.3.8-py3-none-any.whl (116 kB)\n",
            "\u001b[2K   \u001b[90m━━━━━━━━━━━━━━━━━━━━━━━━━━━━━━━━━━━━━━━━\u001b[0m \u001b[32m116.3/116.3 kB\u001b[0m \u001b[31m11.3 MB/s\u001b[0m eta \u001b[36m0:00:00\u001b[0m\n",
            "\u001b[?25hDownloading fsspec-2025.3.0-py3-none-any.whl (193 kB)\n",
            "\u001b[2K   \u001b[90m━━━━━━━━━━━━━━━━━━━━━━━━━━━━━━━━━━━━━━━━\u001b[0m \u001b[32m193.6/193.6 kB\u001b[0m \u001b[31m16.9 MB/s\u001b[0m eta \u001b[36m0:00:00\u001b[0m\n",
            "\u001b[?25hDownloading multiprocess-0.70.16-py311-none-any.whl (143 kB)\n",
            "\u001b[2K   \u001b[90m━━━━━━━━━━━━━━━━━━━━━━━━━━━━━━━━━━━━━━━━\u001b[0m \u001b[32m143.5/143.5 kB\u001b[0m \u001b[31m12.8 MB/s\u001b[0m eta \u001b[36m0:00:00\u001b[0m\n",
            "\u001b[?25hDownloading xxhash-3.5.0-cp311-cp311-manylinux_2_17_x86_64.manylinux2014_x86_64.whl (194 kB)\n",
            "\u001b[2K   \u001b[90m━━━━━━━━━━━━━━━━━━━━━━━━━━━━━━━━━━━━━━━━\u001b[0m \u001b[32m194.8/194.8 kB\u001b[0m \u001b[31m17.3 MB/s\u001b[0m eta \u001b[36m0:00:00\u001b[0m\n",
            "\u001b[?25hInstalling collected packages: xxhash, fsspec, dill, multiprocess, datasets\n",
            "  Attempting uninstall: fsspec\n",
            "    Found existing installation: fsspec 2025.3.2\n",
            "    Uninstalling fsspec-2025.3.2:\n",
            "      Successfully uninstalled fsspec-2025.3.2\n",
            "\u001b[31mERROR: pip's dependency resolver does not currently take into account all the packages that are installed. This behaviour is the source of the following dependency conflicts.\n",
            "torch 2.6.0+cu124 requires nvidia-cublas-cu12==12.4.5.8; platform_system == \"Linux\" and platform_machine == \"x86_64\", but you have nvidia-cublas-cu12 12.5.3.2 which is incompatible.\n",
            "torch 2.6.0+cu124 requires nvidia-cuda-cupti-cu12==12.4.127; platform_system == \"Linux\" and platform_machine == \"x86_64\", but you have nvidia-cuda-cupti-cu12 12.5.82 which is incompatible.\n",
            "torch 2.6.0+cu124 requires nvidia-cuda-nvrtc-cu12==12.4.127; platform_system == \"Linux\" and platform_machine == \"x86_64\", but you have nvidia-cuda-nvrtc-cu12 12.5.82 which is incompatible.\n",
            "torch 2.6.0+cu124 requires nvidia-cuda-runtime-cu12==12.4.127; platform_system == \"Linux\" and platform_machine == \"x86_64\", but you have nvidia-cuda-runtime-cu12 12.5.82 which is incompatible.\n",
            "torch 2.6.0+cu124 requires nvidia-cudnn-cu12==9.1.0.70; platform_system == \"Linux\" and platform_machine == \"x86_64\", but you have nvidia-cudnn-cu12 9.3.0.75 which is incompatible.\n",
            "torch 2.6.0+cu124 requires nvidia-cufft-cu12==11.2.1.3; platform_system == \"Linux\" and platform_machine == \"x86_64\", but you have nvidia-cufft-cu12 11.2.3.61 which is incompatible.\n",
            "torch 2.6.0+cu124 requires nvidia-curand-cu12==10.3.5.147; platform_system == \"Linux\" and platform_machine == \"x86_64\", but you have nvidia-curand-cu12 10.3.6.82 which is incompatible.\n",
            "torch 2.6.0+cu124 requires nvidia-cusolver-cu12==11.6.1.9; platform_system == \"Linux\" and platform_machine == \"x86_64\", but you have nvidia-cusolver-cu12 11.6.3.83 which is incompatible.\n",
            "torch 2.6.0+cu124 requires nvidia-cusparse-cu12==12.3.1.170; platform_system == \"Linux\" and platform_machine == \"x86_64\", but you have nvidia-cusparse-cu12 12.5.1.3 which is incompatible.\n",
            "torch 2.6.0+cu124 requires nvidia-nvjitlink-cu12==12.4.127; platform_system == \"Linux\" and platform_machine == \"x86_64\", but you have nvidia-nvjitlink-cu12 12.5.82 which is incompatible.\n",
            "gcsfs 2025.3.2 requires fsspec==2025.3.2, but you have fsspec 2025.3.0 which is incompatible.\u001b[0m\u001b[31m\n",
            "\u001b[0mSuccessfully installed datasets-3.6.0 dill-0.3.8 fsspec-2025.3.0 multiprocess-0.70.16 xxhash-3.5.0\n"
          ]
        }
      ]
    },
    {
      "cell_type": "code",
      "execution_count": 2,
      "metadata": {
        "id": "LNtb-WXjWWS6"
      },
      "outputs": [],
      "source": [
        "import pandas as pd\n",
        "import numpy as np\n",
        "from sklearn.model_selection import train_test_split\n",
        "from sklearn.preprocessing import StandardScaler\n",
        "from transformers import AutoModelForSequenceClassification, AutoTokenizer, Trainer, TrainingArguments\n",
        "import torch\n",
        "from datasets import Dataset\n",
        "import matplotlib.pyplot as plt\n",
        "from google.colab import drive"
      ]
    },
    {
      "cell_type": "code",
      "source": [
        "drive.mount('/content/drive')"
      ],
      "metadata": {
        "colab": {
          "base_uri": "https://localhost:8080/"
        },
        "id": "DPNBavvpW8sJ",
        "outputId": "c9efdc21-c596-4055-cc97-ed3133624f12"
      },
      "execution_count": 3,
      "outputs": [
        {
          "output_type": "stream",
          "name": "stdout",
          "text": [
            "Mounted at /content/drive\n"
          ]
        }
      ]
    },
    {
      "cell_type": "code",
      "source": [
        "path = '/content/drive/MyDrive/Colab Notebooks/Child_Mind_Institute_ML/'\n",
        "df = pd.read_csv(path + 'merged_with_age_group.csv')\n",
        "data_dictionary = pd.read_csv(path + 'data_dictionary.csv')"
      ],
      "metadata": {
        "id": "XY5aVuqWXYoU"
      },
      "execution_count": 4,
      "outputs": []
    },
    {
      "cell_type": "code",
      "source": [
        "df.head()"
      ],
      "metadata": {
        "colab": {
          "base_uri": "https://localhost:8080/",
          "height": 0
        },
        "id": "bX_6cih9Xz1l",
        "outputId": "89477c1b-1d86-4f60-e4e4-c330d1889a3f"
      },
      "execution_count": 5,
      "outputs": [
        {
          "output_type": "execute_result",
          "data": {
            "text/plain": [
              "         id Basic_Demos-Enroll_Season  Basic_Demos-Age  Basic_Demos-Sex  \\\n",
              "0  00115b9f                    Winter                9                0   \n",
              "1  001f3379                    Spring               13                1   \n",
              "2  00f332d1                    Winter               14                0   \n",
              "3  01085eb3                      Fall               12                0   \n",
              "4  012cadd8                    Spring                9                0   \n",
              "\n",
              "  CGAS-Season  CGAS-CGAS_Score Physical-Season  Physical-BMI  Physical-Height  \\\n",
              "0        Fall             71.0          Summer     18.292347             56.0   \n",
              "1      Winter             50.0          Summer     22.279952             59.5   \n",
              "2      Spring             68.0          Spring     17.168636             66.5   \n",
              "3      Winter             58.0            Fall     34.187282             60.5   \n",
              "4      Winter             60.0            Fall     17.089151             53.2   \n",
              "\n",
              "   Physical-Weight  ...   light_h7   light_h8    light_h9   light_w1  \\\n",
              "0             81.6  ...  26.282324  17.601913   13.703326  15.487296   \n",
              "1            112.2  ...  10.422992  25.086334   57.522930   9.958206   \n",
              "2            108.0  ...  26.846174  76.894750  108.581990  40.313942   \n",
              "3            178.0  ...  11.770081  17.703312   25.183878  22.056694   \n",
              "4             68.8  ...  10.299354  25.684927   34.599117  14.140425   \n",
              "\n",
              "    light_w2   light_w3   light_w4    light_w5    light_w6   light_w7  \n",
              "0  79.802590  30.175367  25.983143   33.926468   11.132876  87.537865  \n",
              "1  46.146200  14.388186  49.012680   39.446934   20.296366   5.850941  \n",
              "2  45.987415  50.706913  41.632717   40.377525  228.700360  17.050716  \n",
              "3  21.379330  15.844161  17.851442   12.499741   12.259155  26.816135  \n",
              "4  48.232033   5.000000  74.605260  114.416660   77.441864  21.184536  \n",
              "\n",
              "[5 rows x 146 columns]"
            ],
            "text/html": [
              "\n",
              "  <div id=\"df-857b8295-9241-430e-aa7a-606b1b88df4f\" class=\"colab-df-container\">\n",
              "    <div>\n",
              "<style scoped>\n",
              "    .dataframe tbody tr th:only-of-type {\n",
              "        vertical-align: middle;\n",
              "    }\n",
              "\n",
              "    .dataframe tbody tr th {\n",
              "        vertical-align: top;\n",
              "    }\n",
              "\n",
              "    .dataframe thead th {\n",
              "        text-align: right;\n",
              "    }\n",
              "</style>\n",
              "<table border=\"1\" class=\"dataframe\">\n",
              "  <thead>\n",
              "    <tr style=\"text-align: right;\">\n",
              "      <th></th>\n",
              "      <th>id</th>\n",
              "      <th>Basic_Demos-Enroll_Season</th>\n",
              "      <th>Basic_Demos-Age</th>\n",
              "      <th>Basic_Demos-Sex</th>\n",
              "      <th>CGAS-Season</th>\n",
              "      <th>CGAS-CGAS_Score</th>\n",
              "      <th>Physical-Season</th>\n",
              "      <th>Physical-BMI</th>\n",
              "      <th>Physical-Height</th>\n",
              "      <th>Physical-Weight</th>\n",
              "      <th>...</th>\n",
              "      <th>light_h7</th>\n",
              "      <th>light_h8</th>\n",
              "      <th>light_h9</th>\n",
              "      <th>light_w1</th>\n",
              "      <th>light_w2</th>\n",
              "      <th>light_w3</th>\n",
              "      <th>light_w4</th>\n",
              "      <th>light_w5</th>\n",
              "      <th>light_w6</th>\n",
              "      <th>light_w7</th>\n",
              "    </tr>\n",
              "  </thead>\n",
              "  <tbody>\n",
              "    <tr>\n",
              "      <th>0</th>\n",
              "      <td>00115b9f</td>\n",
              "      <td>Winter</td>\n",
              "      <td>9</td>\n",
              "      <td>0</td>\n",
              "      <td>Fall</td>\n",
              "      <td>71.0</td>\n",
              "      <td>Summer</td>\n",
              "      <td>18.292347</td>\n",
              "      <td>56.0</td>\n",
              "      <td>81.6</td>\n",
              "      <td>...</td>\n",
              "      <td>26.282324</td>\n",
              "      <td>17.601913</td>\n",
              "      <td>13.703326</td>\n",
              "      <td>15.487296</td>\n",
              "      <td>79.802590</td>\n",
              "      <td>30.175367</td>\n",
              "      <td>25.983143</td>\n",
              "      <td>33.926468</td>\n",
              "      <td>11.132876</td>\n",
              "      <td>87.537865</td>\n",
              "    </tr>\n",
              "    <tr>\n",
              "      <th>1</th>\n",
              "      <td>001f3379</td>\n",
              "      <td>Spring</td>\n",
              "      <td>13</td>\n",
              "      <td>1</td>\n",
              "      <td>Winter</td>\n",
              "      <td>50.0</td>\n",
              "      <td>Summer</td>\n",
              "      <td>22.279952</td>\n",
              "      <td>59.5</td>\n",
              "      <td>112.2</td>\n",
              "      <td>...</td>\n",
              "      <td>10.422992</td>\n",
              "      <td>25.086334</td>\n",
              "      <td>57.522930</td>\n",
              "      <td>9.958206</td>\n",
              "      <td>46.146200</td>\n",
              "      <td>14.388186</td>\n",
              "      <td>49.012680</td>\n",
              "      <td>39.446934</td>\n",
              "      <td>20.296366</td>\n",
              "      <td>5.850941</td>\n",
              "    </tr>\n",
              "    <tr>\n",
              "      <th>2</th>\n",
              "      <td>00f332d1</td>\n",
              "      <td>Winter</td>\n",
              "      <td>14</td>\n",
              "      <td>0</td>\n",
              "      <td>Spring</td>\n",
              "      <td>68.0</td>\n",
              "      <td>Spring</td>\n",
              "      <td>17.168636</td>\n",
              "      <td>66.5</td>\n",
              "      <td>108.0</td>\n",
              "      <td>...</td>\n",
              "      <td>26.846174</td>\n",
              "      <td>76.894750</td>\n",
              "      <td>108.581990</td>\n",
              "      <td>40.313942</td>\n",
              "      <td>45.987415</td>\n",
              "      <td>50.706913</td>\n",
              "      <td>41.632717</td>\n",
              "      <td>40.377525</td>\n",
              "      <td>228.700360</td>\n",
              "      <td>17.050716</td>\n",
              "    </tr>\n",
              "    <tr>\n",
              "      <th>3</th>\n",
              "      <td>01085eb3</td>\n",
              "      <td>Fall</td>\n",
              "      <td>12</td>\n",
              "      <td>0</td>\n",
              "      <td>Winter</td>\n",
              "      <td>58.0</td>\n",
              "      <td>Fall</td>\n",
              "      <td>34.187282</td>\n",
              "      <td>60.5</td>\n",
              "      <td>178.0</td>\n",
              "      <td>...</td>\n",
              "      <td>11.770081</td>\n",
              "      <td>17.703312</td>\n",
              "      <td>25.183878</td>\n",
              "      <td>22.056694</td>\n",
              "      <td>21.379330</td>\n",
              "      <td>15.844161</td>\n",
              "      <td>17.851442</td>\n",
              "      <td>12.499741</td>\n",
              "      <td>12.259155</td>\n",
              "      <td>26.816135</td>\n",
              "    </tr>\n",
              "    <tr>\n",
              "      <th>4</th>\n",
              "      <td>012cadd8</td>\n",
              "      <td>Spring</td>\n",
              "      <td>9</td>\n",
              "      <td>0</td>\n",
              "      <td>Winter</td>\n",
              "      <td>60.0</td>\n",
              "      <td>Fall</td>\n",
              "      <td>17.089151</td>\n",
              "      <td>53.2</td>\n",
              "      <td>68.8</td>\n",
              "      <td>...</td>\n",
              "      <td>10.299354</td>\n",
              "      <td>25.684927</td>\n",
              "      <td>34.599117</td>\n",
              "      <td>14.140425</td>\n",
              "      <td>48.232033</td>\n",
              "      <td>5.000000</td>\n",
              "      <td>74.605260</td>\n",
              "      <td>114.416660</td>\n",
              "      <td>77.441864</td>\n",
              "      <td>21.184536</td>\n",
              "    </tr>\n",
              "  </tbody>\n",
              "</table>\n",
              "<p>5 rows × 146 columns</p>\n",
              "</div>\n",
              "    <div class=\"colab-df-buttons\">\n",
              "\n",
              "  <div class=\"colab-df-container\">\n",
              "    <button class=\"colab-df-convert\" onclick=\"convertToInteractive('df-857b8295-9241-430e-aa7a-606b1b88df4f')\"\n",
              "            title=\"Convert this dataframe to an interactive table.\"\n",
              "            style=\"display:none;\">\n",
              "\n",
              "  <svg xmlns=\"http://www.w3.org/2000/svg\" height=\"24px\" viewBox=\"0 -960 960 960\">\n",
              "    <path d=\"M120-120v-720h720v720H120Zm60-500h600v-160H180v160Zm220 220h160v-160H400v160Zm0 220h160v-160H400v160ZM180-400h160v-160H180v160Zm440 0h160v-160H620v160ZM180-180h160v-160H180v160Zm440 0h160v-160H620v160Z\"/>\n",
              "  </svg>\n",
              "    </button>\n",
              "\n",
              "  <style>\n",
              "    .colab-df-container {\n",
              "      display:flex;\n",
              "      gap: 12px;\n",
              "    }\n",
              "\n",
              "    .colab-df-convert {\n",
              "      background-color: #E8F0FE;\n",
              "      border: none;\n",
              "      border-radius: 50%;\n",
              "      cursor: pointer;\n",
              "      display: none;\n",
              "      fill: #1967D2;\n",
              "      height: 32px;\n",
              "      padding: 0 0 0 0;\n",
              "      width: 32px;\n",
              "    }\n",
              "\n",
              "    .colab-df-convert:hover {\n",
              "      background-color: #E2EBFA;\n",
              "      box-shadow: 0px 1px 2px rgba(60, 64, 67, 0.3), 0px 1px 3px 1px rgba(60, 64, 67, 0.15);\n",
              "      fill: #174EA6;\n",
              "    }\n",
              "\n",
              "    .colab-df-buttons div {\n",
              "      margin-bottom: 4px;\n",
              "    }\n",
              "\n",
              "    [theme=dark] .colab-df-convert {\n",
              "      background-color: #3B4455;\n",
              "      fill: #D2E3FC;\n",
              "    }\n",
              "\n",
              "    [theme=dark] .colab-df-convert:hover {\n",
              "      background-color: #434B5C;\n",
              "      box-shadow: 0px 1px 3px 1px rgba(0, 0, 0, 0.15);\n",
              "      filter: drop-shadow(0px 1px 2px rgba(0, 0, 0, 0.3));\n",
              "      fill: #FFFFFF;\n",
              "    }\n",
              "  </style>\n",
              "\n",
              "    <script>\n",
              "      const buttonEl =\n",
              "        document.querySelector('#df-857b8295-9241-430e-aa7a-606b1b88df4f button.colab-df-convert');\n",
              "      buttonEl.style.display =\n",
              "        google.colab.kernel.accessAllowed ? 'block' : 'none';\n",
              "\n",
              "      async function convertToInteractive(key) {\n",
              "        const element = document.querySelector('#df-857b8295-9241-430e-aa7a-606b1b88df4f');\n",
              "        const dataTable =\n",
              "          await google.colab.kernel.invokeFunction('convertToInteractive',\n",
              "                                                    [key], {});\n",
              "        if (!dataTable) return;\n",
              "\n",
              "        const docLinkHtml = 'Like what you see? Visit the ' +\n",
              "          '<a target=\"_blank\" href=https://colab.research.google.com/notebooks/data_table.ipynb>data table notebook</a>'\n",
              "          + ' to learn more about interactive tables.';\n",
              "        element.innerHTML = '';\n",
              "        dataTable['output_type'] = 'display_data';\n",
              "        await google.colab.output.renderOutput(dataTable, element);\n",
              "        const docLink = document.createElement('div');\n",
              "        docLink.innerHTML = docLinkHtml;\n",
              "        element.appendChild(docLink);\n",
              "      }\n",
              "    </script>\n",
              "  </div>\n",
              "\n",
              "\n",
              "    <div id=\"df-6c1086b4-1dd4-458d-ab43-0b6b0d9c8183\">\n",
              "      <button class=\"colab-df-quickchart\" onclick=\"quickchart('df-6c1086b4-1dd4-458d-ab43-0b6b0d9c8183')\"\n",
              "                title=\"Suggest charts\"\n",
              "                style=\"display:none;\">\n",
              "\n",
              "<svg xmlns=\"http://www.w3.org/2000/svg\" height=\"24px\"viewBox=\"0 0 24 24\"\n",
              "     width=\"24px\">\n",
              "    <g>\n",
              "        <path d=\"M19 3H5c-1.1 0-2 .9-2 2v14c0 1.1.9 2 2 2h14c1.1 0 2-.9 2-2V5c0-1.1-.9-2-2-2zM9 17H7v-7h2v7zm4 0h-2V7h2v10zm4 0h-2v-4h2v4z\"/>\n",
              "    </g>\n",
              "</svg>\n",
              "      </button>\n",
              "\n",
              "<style>\n",
              "  .colab-df-quickchart {\n",
              "      --bg-color: #E8F0FE;\n",
              "      --fill-color: #1967D2;\n",
              "      --hover-bg-color: #E2EBFA;\n",
              "      --hover-fill-color: #174EA6;\n",
              "      --disabled-fill-color: #AAA;\n",
              "      --disabled-bg-color: #DDD;\n",
              "  }\n",
              "\n",
              "  [theme=dark] .colab-df-quickchart {\n",
              "      --bg-color: #3B4455;\n",
              "      --fill-color: #D2E3FC;\n",
              "      --hover-bg-color: #434B5C;\n",
              "      --hover-fill-color: #FFFFFF;\n",
              "      --disabled-bg-color: #3B4455;\n",
              "      --disabled-fill-color: #666;\n",
              "  }\n",
              "\n",
              "  .colab-df-quickchart {\n",
              "    background-color: var(--bg-color);\n",
              "    border: none;\n",
              "    border-radius: 50%;\n",
              "    cursor: pointer;\n",
              "    display: none;\n",
              "    fill: var(--fill-color);\n",
              "    height: 32px;\n",
              "    padding: 0;\n",
              "    width: 32px;\n",
              "  }\n",
              "\n",
              "  .colab-df-quickchart:hover {\n",
              "    background-color: var(--hover-bg-color);\n",
              "    box-shadow: 0 1px 2px rgba(60, 64, 67, 0.3), 0 1px 3px 1px rgba(60, 64, 67, 0.15);\n",
              "    fill: var(--button-hover-fill-color);\n",
              "  }\n",
              "\n",
              "  .colab-df-quickchart-complete:disabled,\n",
              "  .colab-df-quickchart-complete:disabled:hover {\n",
              "    background-color: var(--disabled-bg-color);\n",
              "    fill: var(--disabled-fill-color);\n",
              "    box-shadow: none;\n",
              "  }\n",
              "\n",
              "  .colab-df-spinner {\n",
              "    border: 2px solid var(--fill-color);\n",
              "    border-color: transparent;\n",
              "    border-bottom-color: var(--fill-color);\n",
              "    animation:\n",
              "      spin 1s steps(1) infinite;\n",
              "  }\n",
              "\n",
              "  @keyframes spin {\n",
              "    0% {\n",
              "      border-color: transparent;\n",
              "      border-bottom-color: var(--fill-color);\n",
              "      border-left-color: var(--fill-color);\n",
              "    }\n",
              "    20% {\n",
              "      border-color: transparent;\n",
              "      border-left-color: var(--fill-color);\n",
              "      border-top-color: var(--fill-color);\n",
              "    }\n",
              "    30% {\n",
              "      border-color: transparent;\n",
              "      border-left-color: var(--fill-color);\n",
              "      border-top-color: var(--fill-color);\n",
              "      border-right-color: var(--fill-color);\n",
              "    }\n",
              "    40% {\n",
              "      border-color: transparent;\n",
              "      border-right-color: var(--fill-color);\n",
              "      border-top-color: var(--fill-color);\n",
              "    }\n",
              "    60% {\n",
              "      border-color: transparent;\n",
              "      border-right-color: var(--fill-color);\n",
              "    }\n",
              "    80% {\n",
              "      border-color: transparent;\n",
              "      border-right-color: var(--fill-color);\n",
              "      border-bottom-color: var(--fill-color);\n",
              "    }\n",
              "    90% {\n",
              "      border-color: transparent;\n",
              "      border-bottom-color: var(--fill-color);\n",
              "    }\n",
              "  }\n",
              "</style>\n",
              "\n",
              "      <script>\n",
              "        async function quickchart(key) {\n",
              "          const quickchartButtonEl =\n",
              "            document.querySelector('#' + key + ' button');\n",
              "          quickchartButtonEl.disabled = true;  // To prevent multiple clicks.\n",
              "          quickchartButtonEl.classList.add('colab-df-spinner');\n",
              "          try {\n",
              "            const charts = await google.colab.kernel.invokeFunction(\n",
              "                'suggestCharts', [key], {});\n",
              "          } catch (error) {\n",
              "            console.error('Error during call to suggestCharts:', error);\n",
              "          }\n",
              "          quickchartButtonEl.classList.remove('colab-df-spinner');\n",
              "          quickchartButtonEl.classList.add('colab-df-quickchart-complete');\n",
              "        }\n",
              "        (() => {\n",
              "          let quickchartButtonEl =\n",
              "            document.querySelector('#df-6c1086b4-1dd4-458d-ab43-0b6b0d9c8183 button');\n",
              "          quickchartButtonEl.style.display =\n",
              "            google.colab.kernel.accessAllowed ? 'block' : 'none';\n",
              "        })();\n",
              "      </script>\n",
              "    </div>\n",
              "\n",
              "    </div>\n",
              "  </div>\n"
            ],
            "application/vnd.google.colaboratory.intrinsic+json": {
              "type": "dataframe",
              "variable_name": "df"
            }
          },
          "metadata": {},
          "execution_count": 5
        }
      ]
    },
    {
      "cell_type": "code",
      "source": [
        "data_dictionary.head()\n",
        "data_dict = dict(zip(data_dictionary['Field'], data_dictionary['Description']))\n",
        "data_dict"
      ],
      "metadata": {
        "colab": {
          "base_uri": "https://localhost:8080/"
        },
        "collapsed": true,
        "id": "peTThIcIY6hu",
        "outputId": "61ade858-bb99-47b1-9417-9dbac12d5b08"
      },
      "execution_count": 6,
      "outputs": [
        {
          "output_type": "execute_result",
          "data": {
            "text/plain": [
              "{'id': \"Participant's ID\",\n",
              " 'Basic_Demos-Enroll_Season': 'Season of enrollment',\n",
              " 'Basic_Demos-Age': 'Age of participant',\n",
              " 'Basic_Demos-Sex': 'Sex of participant',\n",
              " 'CGAS-Season': 'Season of participation',\n",
              " 'CGAS-CGAS_Score': \"Children's Global Assessment Scale Score\",\n",
              " 'Physical-Season': 'Season of participation',\n",
              " 'Physical-BMI': 'Body Mass Index (kg/m^2)',\n",
              " 'Physical-Height': 'Height (in)',\n",
              " 'Physical-Weight': 'Weight (lbs)',\n",
              " 'Physical-Waist_Circumference': 'Waist circumference (in)',\n",
              " 'Physical-Diastolic_BP': 'Diastolic BP (mmHg)',\n",
              " 'Physical-HeartRate': 'Heart rate (beats/min)',\n",
              " 'Physical-Systolic_BP': 'Systolic BP (mmHg)',\n",
              " 'Fitness_Endurance-Season': 'Season of participation',\n",
              " 'Fitness_Endurance-Max_Stage': 'Maximum stage reached',\n",
              " 'Fitness_Endurance-Time_Mins': 'Exact time completed: Minutes',\n",
              " 'Fitness_Endurance-Time_Sec': 'Exact time completed: Seconds',\n",
              " 'FGC-Season': 'Season of participation',\n",
              " 'FGC-FGC_CU': 'Curl up total',\n",
              " 'FGC-FGC_CU_Zone': 'Curl up fitness zone',\n",
              " 'FGC-FGC_GSND': 'Grip Strength total (non-dominant)',\n",
              " 'FGC-FGC_GSND_Zone': 'Grip Strength fitness zone (non-dominant)',\n",
              " 'FGC-FGC_GSD': 'Grip Strength total (dominant)',\n",
              " 'FGC-FGC_GSD_Zone': 'Grip Strength fitness zone (dominant)',\n",
              " 'FGC-FGC_PU': 'Push-up total',\n",
              " 'FGC-FGC_PU_Zone': 'Push-up fitness zone',\n",
              " 'FGC-FGC_SRL': 'Sit & Reach total (left side)',\n",
              " 'FGC-FGC_SRL_Zone': 'Sit & Reach fitness zone (left side)',\n",
              " 'FGC-FGC_SRR': 'Sit & Reach total (right side)',\n",
              " 'FGC-FGC_SRR_Zone': 'Sit & Reach fitness zone (right side)',\n",
              " 'FGC-FGC_TL': 'Trunk lift total',\n",
              " 'FGC-FGC_TL_Zone': 'Trunk lift fitness zone',\n",
              " 'BIA-Season': 'Season of participation',\n",
              " 'BIA-BIA_Activity_Level_num': 'Activity Level',\n",
              " 'BIA-BIA_BMC': 'Bone Mineral Content',\n",
              " 'BIA-BIA_BMI': 'Body Mass Index',\n",
              " 'BIA-BIA_BMR': 'Basal Metabolic Rate',\n",
              " 'BIA-BIA_DEE': 'Daily Energy Expenditure',\n",
              " 'BIA-BIA_ECW': 'Extracellular Water',\n",
              " 'BIA-BIA_FFM': 'Fat Free Mass',\n",
              " 'BIA-BIA_FFMI': 'Fat Free Mass Index',\n",
              " 'BIA-BIA_FMI': 'Fat Mass Index',\n",
              " 'BIA-BIA_Fat': 'Body Fat Percentage',\n",
              " 'BIA-BIA_Frame_num': 'Body Frame',\n",
              " 'BIA-BIA_ICW': 'Intracellular Water',\n",
              " 'BIA-BIA_LDM': 'Lean Dry Mass',\n",
              " 'BIA-BIA_LST': 'Lean Soft Tissue',\n",
              " 'BIA-BIA_SMM': 'Skeletal Muscle Mass',\n",
              " 'BIA-BIA_TBW': 'Total Body Water',\n",
              " 'PAQ_A-Season': 'Season of participation',\n",
              " 'PAQ_A-PAQ_A_Total': 'Activity Summary Score (Adolescents)',\n",
              " 'PAQ_C-Season': 'Season of participation',\n",
              " 'PAQ_C-PAQ_C_Total': 'Activity Summary Score (Children)',\n",
              " 'PCIAT-Season': 'Season of participation',\n",
              " 'PCIAT-PCIAT_01': 'How often does your child disobey time limits you set for online use?',\n",
              " 'PCIAT-PCIAT_02': 'How often does your child neglect household chores to spend more time online?',\n",
              " 'PCIAT-PCIAT_03': 'How often does your child prefer to spend time online rather than with the rest of your family?',\n",
              " 'PCIAT-PCIAT_04': 'How often does your child form new relationships with fellow online users?',\n",
              " 'PCIAT-PCIAT_05': 'How often do you complain about the amount of time your child spends online?',\n",
              " 'PCIAT-PCIAT_06': \"How often do your child's grades suffer because of the amount of time he or she spends online?\",\n",
              " 'PCIAT-PCIAT_07': 'How often does your child check his or her e-mail before doing something else?',\n",
              " 'PCIAT-PCIAT_08': 'How often does your child seem withdrawn from others since discovering the Internet?',\n",
              " 'PCIAT-PCIAT_09': 'How often does your child become defensive or secretive when asked what he or she does online?',\n",
              " 'PCIAT-PCIAT_10': 'How often have you caught your child sneaking online against your wishes?',\n",
              " 'PCIAT-PCIAT_11': 'How often does your child spend time along in his or her room playing on the computer?',\n",
              " 'PCIAT-PCIAT_12': 'How often does your child receive strange phone calls from new \"online\" friends?',\n",
              " 'PCIAT-PCIAT_13': 'How often does your child snap, yell, or act annoyed if bothered while online?',\n",
              " 'PCIAT-PCIAT_14': 'How often does your child seem more tired and fatigued than he or she did before the Internet came along?',\n",
              " 'PCIAT-PCIAT_15': 'How often does your child seem preoccupied with being back online when off-line?',\n",
              " 'PCIAT-PCIAT_16': 'How often does your child throw tantrums with your interference about how long he or she spends online?',\n",
              " 'PCIAT-PCIAT_17': 'How often does your child choose to spend time online rather than doing once enjoyed hobbies and/or outside interests?',\n",
              " 'PCIAT-PCIAT_18': 'How often does your child become angry or belligerent when your place time limits on how much time he or shes is allowed to spend online?',\n",
              " 'PCIAT-PCIAT_19': 'How often does your child choose to spend more time online than going out with friends?',\n",
              " 'PCIAT-PCIAT_20': 'How often does your child feel depressed, moody, or nervous when off-line which seems to go away once back online?',\n",
              " 'PCIAT-PCIAT_Total': 'Total Score',\n",
              " 'SDS-Season': 'Season of participation',\n",
              " 'SDS-SDS_Total_Raw': 'Total Raw Score',\n",
              " 'SDS-SDS_Total_T': 'Total T-Score',\n",
              " 'PreInt_EduHx-Season': 'Season of participation',\n",
              " 'PreInt_EduHx-computerinternet_hoursday': 'Hours of using computer/internet',\n",
              " 'enmo_h0': 'Total Movement at Hour 0',\n",
              " 'enmo_h1': 'Total Movement at Hour 1',\n",
              " 'enmo_h2': 'Total Movement at Hour 2',\n",
              " 'enmo_h3': 'Total Movement at Hour 3',\n",
              " 'enmo_h4': 'Total Movement at Hour 4',\n",
              " 'enmo_h5': 'Total Movement at Hour 5',\n",
              " 'enmo_h6': 'Total Movement at Hour 6',\n",
              " 'enmo_h7': 'Total Movement at Hour 7',\n",
              " 'enmo_h8': 'Total Movement at Hour 8',\n",
              " 'enmo_h9': 'Total Movement at Hour 9',\n",
              " 'enmo_h10': 'Total Movement at Hour 10',\n",
              " 'enmo_h11': 'Total Movement at Hour 11',\n",
              " 'enmo_h12': 'Total Movement at Hour 12',\n",
              " 'enmo_h13': 'Total Movement at Hour 13',\n",
              " 'enmo_h14': 'Total Movement at Hour 14',\n",
              " 'enmo_h15': 'Total Movement at Hour 15',\n",
              " 'enmo_h16': 'Total Movement at Hour 16',\n",
              " 'enmo_h17': 'Total Movement at Hour 17',\n",
              " 'enmo_h18': 'Total Movement at Hour 18',\n",
              " 'enmo_h19': 'Total Movement at Hour 19',\n",
              " 'enmo_h20': 'Total Movement at Hour 20',\n",
              " 'enmo_h21': 'Total Movement at Hour 21',\n",
              " 'enmo_h22': 'Total Movement at Hour 22',\n",
              " 'enmo_h23': 'Total Movement at Hour 23',\n",
              " 'enmo_w1': 'Total Movement on Monday',\n",
              " 'enmo_w2': 'Total Movement on Tuesday',\n",
              " 'enmo_w3': 'Total Movement on Wednesday',\n",
              " 'enmo_w4': 'Total Movement on Thursday',\n",
              " 'enmo_w5': 'Total Movement on Friday',\n",
              " 'enmo_w6': 'Total Movement on Saturday',\n",
              " 'enmo_w7': 'Total Movement on Sunday',\n",
              " 'light_h0': 'Light Received at Hour 0',\n",
              " 'light_h1': 'Light Received at Hour 1',\n",
              " 'light_h2': 'Light Received at Hour 2',\n",
              " 'light_h3': 'Light Received at Hour 3',\n",
              " 'light_h4': 'Light Received at Hour 4',\n",
              " 'light_h5': 'Light Received at Hour 5',\n",
              " 'light_h6': 'Light Received at Hour 6',\n",
              " 'light_h7': 'Light Received at Hour 7',\n",
              " 'light_h8': 'Light Received at Hour 8',\n",
              " 'light_h9': 'Light Received at Hour 9',\n",
              " 'light_h10': 'Light Received at Hour 10',\n",
              " 'light_h11': 'Light Received at Hour 11',\n",
              " 'light_h12': 'Light Received at Hour 12',\n",
              " 'light_h13': 'Light Received at Hour 13',\n",
              " 'light_h14': 'Light Received at Hour 14',\n",
              " 'light_h15': 'Light Received at Hour 15',\n",
              " 'light_h16': 'Light Received at Hour 16',\n",
              " 'light_h17': 'Light Received at Hour 17',\n",
              " 'light_h18': 'Light Received at Hour 18',\n",
              " 'light_h19': 'Light Received at Hour 19',\n",
              " 'light_h20': 'Light Received at Hour 20',\n",
              " 'light_h21': 'Light Received at Hour 21',\n",
              " 'light_h22': 'Light Received at Hour 22',\n",
              " 'light_h23': 'Light Received at Hour 23',\n",
              " 'light_w1': 'Light Received on Monday',\n",
              " 'light_w2': 'Light Received on Tuesday',\n",
              " 'light_w3': 'Light Received on Wednesday',\n",
              " 'light_w4': 'Light Received on Thursday',\n",
              " 'light_w5': 'Light Received on Friday',\n",
              " 'light_w6': 'Light Received on Saturday',\n",
              " 'light_w7': 'Light Received on Sunday'}"
            ]
          },
          "metadata": {},
          "execution_count": 6
        }
      ]
    },
    {
      "cell_type": "markdown",
      "source": [
        "## Configuring Data"
      ],
      "metadata": {
        "id": "CA9Y4qt8ciW-"
      }
    },
    {
      "cell_type": "code",
      "source": [
        "numerical_features = [col for col in df.columns if df[col].dtype in ['float64', 'int64'] and col not in ['id', '', 'sii', 'sii_2', 'age_group']]\n",
        "categorical_features = ['Basic_Demos-Sex', 'Basic_Demos-Enroll_Season', 'CGAS-Season', 'Physical-Season', 'age_group']"
      ],
      "metadata": {
        "id": "ZYPKTTAFX_rn"
      },
      "execution_count": 7,
      "outputs": []
    },
    {
      "cell_type": "code",
      "source": [
        "X = df.drop(['id', 'sii', 'sii_2'], axis=1)\n",
        "sii_y = df['sii']\n",
        "sii_2_y = df['sii_2']\n",
        "\n",
        "X.shape, sii_y.shape, sii_2_y.shape"
      ],
      "metadata": {
        "colab": {
          "base_uri": "https://localhost:8080/"
        },
        "id": "qA46Ms8yYCT4",
        "outputId": "adbd4b49-5812-4a36-e319-e86d23b2b348"
      },
      "execution_count": 8,
      "outputs": [
        {
          "output_type": "execute_result",
          "data": {
            "text/plain": [
              "((977, 143), (977,), (977,))"
            ]
          },
          "metadata": {},
          "execution_count": 8
        }
      ]
    },
    {
      "cell_type": "code",
      "source": [
        "y = sii_2_y\n",
        "X_train, X_test, y_train, y_test = train_test_split(X, y, test_size=0.2, random_state=42)"
      ],
      "metadata": {
        "id": "fili7MXjYE6e"
      },
      "execution_count": 9,
      "outputs": []
    },
    {
      "cell_type": "code",
      "source": [
        "def convert_to_dataset(X, y):\n",
        "    # Convert features to text format\n",
        "    texts = []\n",
        "    for _, row in X.iterrows():\n",
        "      text = ''\n",
        "      for col, val in row.items():\n",
        "        if col not in data_dict:\n",
        "          text += f\"{col}: {val}\\n\"\n",
        "        else:\n",
        "          text += f\"{data_dict[col]}: {val}\\n\"\n",
        "      text += 'Addicted to Internet:'\n",
        "      texts.append(text)\n",
        "\n",
        "    # y = y.map(lambda x: f'Addicted to Internet: {True if x==1 else False}')\n",
        "\n",
        "    # Create dictionary for Dataset\n",
        "    dataset_dict = {\n",
        "        \"text\": texts,\n",
        "        \"label\": y.tolist()\n",
        "    }\n",
        "\n",
        "    return Dataset.from_dict(dataset_dict)"
      ],
      "metadata": {
        "id": "xKMwzBwCYGug"
      },
      "execution_count": 10,
      "outputs": []
    },
    {
      "cell_type": "code",
      "source": [
        "train_dataset = convert_to_dataset(X_train, y_train.astype(int))\n",
        "test_dataset = convert_to_dataset(X_test, y_test.astype(int))"
      ],
      "metadata": {
        "id": "hFZSHlyyYJgm"
      },
      "execution_count": 11,
      "outputs": []
    },
    {
      "cell_type": "code",
      "source": [
        "train_dataset[0]"
      ],
      "metadata": {
        "colab": {
          "base_uri": "https://localhost:8080/"
        },
        "id": "pprltLJEYLlI",
        "outputId": "1fafa470-5d5c-4ee6-d404-fb771d07271d"
      },
      "execution_count": 12,
      "outputs": [
        {
          "output_type": "execute_result",
          "data": {
            "text/plain": [
              "{'text': 'Season of enrollment: Winter\\nAge of participant: 9\\nSex of participant: 0\\nSeason of participation: Spring\\nChildren\\'s Global Assessment Scale Score: 65.0\\nSeason of participation: Winter\\nBody Mass Index (kg/m^2): 16.94732143\\nHeight (in): 56.0\\nWeight (lbs): 75.6\\nWaist circumference (in): nan\\nDiastolic BP (mmHg): 63.0\\nHeart rate (beats/min): 78.0\\nSystolic BP (mmHg): 106.0\\nSeason of participation: Winter\\nMaximum stage reached: 2.0\\nExact time completed: Minutes: 2.0\\nExact time completed: Seconds: 9.0\\nSeason of participation: Winter\\nCurl up total: 0.0\\nCurl up fitness zone: 0.0\\nGrip Strength total (non-dominant): nan\\nGrip Strength fitness zone (non-dominant): nan\\nGrip Strength total (dominant): nan\\nGrip Strength fitness zone (dominant): nan\\nPush-up total: 5.0\\nPush-up fitness zone: 0.0\\nSit & Reach total (left side): 6.0\\nSit & Reach fitness zone (left side): 0.0\\nSit & Reach total (right side): 4.5\\nSit & Reach fitness zone (right side): 0.0\\nTrunk lift total: 4.5\\nTrunk lift fitness zone: 0.0\\nSeason of participation: Spring\\nActivity Level: 3.0\\nBone Mineral Content: 8.16945\\nBody Mass Index: 16.9492\\nBasal Metabolic Rate: 3115.72\\nDaily Energy Expenditure: 5296.72\\nExtracellular Water: 86.4271\\nFat Free Mass: 274.128\\nFat Free Mass Index: 61.4583\\nFat Mass Index: -44.5091\\nBody Fat Percentage: -198.528\\nBody Frame: 1.0\\nIntracellular Water: 118.466\\nLean Dry Mass: 69.2348\\nLean Soft Tissue: 265.959\\nSkeletal Muscle Mass: 189.688\\nTotal Body Water: 204.893\\nSeason of participation: nan\\nActivity Summary Score (Adolescents): nan\\nSeason of participation: Winter\\nActivity Summary Score (Children): 2.8\\nSeason of participation: Winter\\nHow often does your child disobey time limits you set for online use?: 0.0\\nHow often does your child neglect household chores to spend more time online?: 0.0\\nHow often does your child prefer to spend time online rather than with the rest of your family?: 0.0\\nHow often does your child form new relationships with fellow online users?: 0.0\\nHow often do you complain about the amount of time your child spends online?: 0.0\\nHow often do your child\\'s grades suffer because of the amount of time he or she spends online?: 0.0\\nHow often does your child check his or her e-mail before doing something else?: 0.0\\nHow often does your child seem withdrawn from others since discovering the Internet?: 0.0\\nHow often does your child become defensive or secretive when asked what he or she does online?: 0.0\\nHow often have you caught your child sneaking online against your wishes?: 0.0\\nHow often does your child spend time along in his or her room playing on the computer?: 0.0\\nHow often does your child receive strange phone calls from new \"online\" friends?: 0.0\\nHow often does your child snap, yell, or act annoyed if bothered while online?: 0.0\\nHow often does your child seem more tired and fatigued than he or she did before the Internet came along?: 0.0\\nHow often does your child seem preoccupied with being back online when off-line?: 0.0\\nHow often does your child throw tantrums with your interference about how long he or she spends online?: 0.0\\nHow often does your child choose to spend time online rather than doing once enjoyed hobbies and/or outside interests?: 0.0\\nHow often does your child become angry or belligerent when your place time limits on how much time he or shes is allowed to spend online?: 0.0\\nHow often does your child choose to spend more time online than going out with friends?: 0.0\\nHow often does your child feel depressed, moody, or nervous when off-line which seems to go away once back online?: 0.0\\nTotal Score: 0.0\\nSeason of participation: Winter\\nTotal Raw Score: 40.0\\nTotal T-Score: 56.0\\nSeason of participation: Winter\\nHours of using computer/internet: 0.0\\nage_group: 1\\nTotal Movement at Hour 0: 0.030233005\\nTotal Movement at Hour 1: 0.013891021\\nTotal Movement at Hour 10: 0.08414317\\nTotal Movement at Hour 11: 0.07702266\\nTotal Movement at Hour 12: 0.14285924\\nTotal Movement at Hour 13: 0.11280653\\nTotal Movement at Hour 14: 0.1211053\\nTotal Movement at Hour 15: 0.13724986\\nTotal Movement at Hour 16: 0.15857838\\nTotal Movement at Hour 17: 0.1821139\\nTotal Movement at Hour 18: 0.07721995\\nTotal Movement at Hour 19: 0.07847209\\nTotal Movement at Hour 2: 0.020178791\\nTotal Movement at Hour 20: 0.08342756\\nTotal Movement at Hour 21: 0.074254915\\nTotal Movement at Hour 22: 0.058054637\\nTotal Movement at Hour 23: 0.035818502\\nTotal Movement at Hour 3: 0.011766913\\nTotal Movement at Hour 4: 0.014764698\\nTotal Movement at Hour 5: 0.011318349\\nTotal Movement at Hour 6: 0.01056984\\nTotal Movement at Hour 7: 0.055825386\\nTotal Movement at Hour 8: 0.06225422\\nTotal Movement at Hour 9: 0.07392218\\nTotal Movement on Monday: 0.11282558\\nTotal Movement on Tuesday: 0.080864154\\nTotal Movement on Wednesday: 0.11062519\\nTotal Movement on Thursday: 0.10638183\\nTotal Movement on Friday: 0.108559035\\nTotal Movement on Saturday: 0.08668469\\nTotal Movement on Sunday: 0.095184244\\nLight Received at Hour 0: 4.621363\\nLight Received at Hour 1: 4.713238\\nLight Received at Hour 10: 36.675526\\nLight Received at Hour 11: 37.700294\\nLight Received at Hour 12: 130.81107\\nLight Received at Hour 13: 145.16554\\nLight Received at Hour 14: 85.66219\\nLight Received at Hour 15: 52.20573\\nLight Received at Hour 16: 85.89962\\nLight Received at Hour 17: 68.606476\\nLight Received at Hour 18: 24.967707\\nLight Received at Hour 19: 9.22463\\nLight Received at Hour 2: 7.147425\\nLight Received at Hour 20: 7.4786015\\nLight Received at Hour 21: 4.685784\\nLight Received at Hour 22: 6.601177\\nLight Received at Hour 23: 5.3226137\\nLight Received at Hour 3: 7.774013\\nLight Received at Hour 4: 9.708276\\nLight Received at Hour 5: 9.264511\\nLight Received at Hour 6: 10.718582\\nLight Received at Hour 7: 8.85285\\nLight Received at Hour 8: 33.881077\\nLight Received at Hour 9: 61.296005\\nLight Received on Monday: 49.116047\\nLight Received on Tuesday: 23.76216\\nLight Received on Wednesday: 97.80225\\nLight Received on Thursday: 185.7345\\nLight Received on Friday: 29.685942\\nLight Received on Saturday: 74.17804\\nLight Received on Sunday: 15.105308\\nAddicted to Internet:',\n",
              " 'label': 0}"
            ]
          },
          "metadata": {},
          "execution_count": 12
        }
      ]
    },
    {
      "cell_type": "markdown",
      "source": [
        "## Training"
      ],
      "metadata": {
        "id": "XDPP3Wpxcm45"
      }
    },
    {
      "cell_type": "code",
      "source": [
        "model_name = \"bert-base-uncased\"  # You can change to a different model\n",
        "tokenizer = AutoTokenizer.from_pretrained(model_name)\n",
        "model = AutoModelForSequenceClassification.from_pretrained(model_name, num_labels=len(y.unique()))"
      ],
      "metadata": {
        "colab": {
          "base_uri": "https://localhost:8080/",
          "height": 266,
          "referenced_widgets": [
            "679a7ff32a114eac8a6f534d096e3308",
            "77a356c362204478ad0dc4fdf7643286",
            "d53ff7bdd87346e8b0d101e844a79ce7",
            "303f04cd5611441499fe13cd9bcff905",
            "49b96055602145759325ac20e438335b",
            "059a4a622d044d7a9dd23bcac7d73478",
            "1aa96b785e3b4056962e272ede0bbcbc",
            "7b72a2abb1ed4e73a43fa5ba3027ac47",
            "2d8d52c4be0346ba9f259a702a50f42d",
            "a65d3b4a97b14382a8664dd8ea2107cd",
            "2b6bfa4e96864e29aeeb2dbc9d880144",
            "a76d56fecd144444a20c1a5bf7a2a799",
            "d5e218d7ddb64f11ac9dad0f7362720b",
            "11e0e595b4b548a29584c7aec1a7d459",
            "c5ff3e9d7bce4041a9b975bc7585db18",
            "36222257d3e84a30a952c8c20b8d866b",
            "6aa97325b98b4e178539a1dbb6ccc97a",
            "61e78f505db64afcbc54041e80987013",
            "2cd10d1468ea4f2981ae1863fcaae3c8",
            "e5f37587cc4a413595547f8b49b99dd9",
            "a2f1f7171fb54934b3e4d71b9b741fd4",
            "c2263736b78a45dcb5e56d505ab97524",
            "2d296775f15048658a1ff085ec7a0bd0",
            "e1f635f5d33b416a932d17e61d413107",
            "ddc63e14490b465d835bd686da1cfc54",
            "6093e15a750a4cbc9b99fce7b2ae1e92",
            "abbbcf0eb8ad4180a11f8f1ab5ec72b3",
            "dc5a5b2a429a43b2ad6bf4fb11e16094",
            "caa32b3a8d6440ffbfa6f1b4999d452d",
            "2f75fb5454dc4264b562e2a20c368658",
            "fecb9095451a430e843bee2a5006b634",
            "4aebe3e0644d45d9be40ffd80492e19f",
            "f83588b5b3ec49ec900f0093176b9024",
            "554318f9921541eb81491aa5663b739d",
            "ffe16913cd4f49c0957ce6bddb20a493",
            "2c19f880ea2240968049fe570205fe0e",
            "be38dd8d3f9a4704b28cb9cfce37a7a8",
            "3838dcb7891c4aeab954074585e95f63",
            "af4ac3d45c784155ab6719df42e5260a",
            "2f6c228f68ba46a58445c8be62c00eeb",
            "df63bbe5ac1a405895130d9348249526",
            "28f342ff403e4bee8225ac3ef16736f8",
            "a6867ea2d11a412da8480af1661af5be",
            "458543323db940ffa10fd74fba5c4b45",
            "557c5808b65743e581ca836b14a608e4",
            "15c5fedd9f8646cb98b3de8852915b92",
            "c09ee876ae1e45fb8b33d7ebe411ed74",
            "89e6f0a7eb1d4ad0889fa7110f9ef50d",
            "b3fb0702760148cf8eb5034f05385d64",
            "c4517f58cba94ff49c025c0709729dbd",
            "e5dc36e238e541e68caf6a9b0df083c0",
            "32426aa3d87a49eea68dd82c58625ead",
            "20a38fb68d014ad1b23c0124b1c80dbb",
            "29048d67aaf94ba68bcf0612929d3a10",
            "5c63b8ebe9dc43f18155919fbad7e30e"
          ]
        },
        "id": "reAQwmGnYNI3",
        "outputId": "b2dc2d31-1177-43fc-a7fb-3c87dc452afa"
      },
      "execution_count": 13,
      "outputs": [
        {
          "output_type": "display_data",
          "data": {
            "text/plain": [
              "tokenizer_config.json:   0%|          | 0.00/48.0 [00:00<?, ?B/s]"
            ],
            "application/vnd.jupyter.widget-view+json": {
              "version_major": 2,
              "version_minor": 0,
              "model_id": "679a7ff32a114eac8a6f534d096e3308"
            }
          },
          "metadata": {}
        },
        {
          "output_type": "display_data",
          "data": {
            "text/plain": [
              "config.json:   0%|          | 0.00/570 [00:00<?, ?B/s]"
            ],
            "application/vnd.jupyter.widget-view+json": {
              "version_major": 2,
              "version_minor": 0,
              "model_id": "a76d56fecd144444a20c1a5bf7a2a799"
            }
          },
          "metadata": {}
        },
        {
          "output_type": "display_data",
          "data": {
            "text/plain": [
              "vocab.txt:   0%|          | 0.00/232k [00:00<?, ?B/s]"
            ],
            "application/vnd.jupyter.widget-view+json": {
              "version_major": 2,
              "version_minor": 0,
              "model_id": "2d296775f15048658a1ff085ec7a0bd0"
            }
          },
          "metadata": {}
        },
        {
          "output_type": "display_data",
          "data": {
            "text/plain": [
              "tokenizer.json:   0%|          | 0.00/466k [00:00<?, ?B/s]"
            ],
            "application/vnd.jupyter.widget-view+json": {
              "version_major": 2,
              "version_minor": 0,
              "model_id": "554318f9921541eb81491aa5663b739d"
            }
          },
          "metadata": {}
        },
        {
          "output_type": "stream",
          "name": "stderr",
          "text": [
            "Xet Storage is enabled for this repo, but the 'hf_xet' package is not installed. Falling back to regular HTTP download. For better performance, install the package with: `pip install huggingface_hub[hf_xet]` or `pip install hf_xet`\n",
            "WARNING:huggingface_hub.file_download:Xet Storage is enabled for this repo, but the 'hf_xet' package is not installed. Falling back to regular HTTP download. For better performance, install the package with: `pip install huggingface_hub[hf_xet]` or `pip install hf_xet`\n"
          ]
        },
        {
          "output_type": "display_data",
          "data": {
            "text/plain": [
              "model.safetensors:   0%|          | 0.00/440M [00:00<?, ?B/s]"
            ],
            "application/vnd.jupyter.widget-view+json": {
              "version_major": 2,
              "version_minor": 0,
              "model_id": "557c5808b65743e581ca836b14a608e4"
            }
          },
          "metadata": {}
        },
        {
          "output_type": "stream",
          "name": "stderr",
          "text": [
            "Some weights of BertForSequenceClassification were not initialized from the model checkpoint at bert-base-uncased and are newly initialized: ['classifier.bias', 'classifier.weight']\n",
            "You should probably TRAIN this model on a down-stream task to be able to use it for predictions and inference.\n"
          ]
        }
      ]
    },
    {
      "cell_type": "code",
      "source": [
        "def tokenize_function(examples):\n",
        "    return tokenizer(examples[\"text\"], padding=\"max_length\", truncation=True)"
      ],
      "metadata": {
        "id": "IZVTz8Rscr30"
      },
      "execution_count": 14,
      "outputs": []
    },
    {
      "cell_type": "code",
      "source": [
        "tokenized_train = train_dataset.map(tokenize_function, batched=True)\n",
        "tokenized_test = test_dataset.map(tokenize_function, batched=True)"
      ],
      "metadata": {
        "colab": {
          "base_uri": "https://localhost:8080/",
          "height": 81,
          "referenced_widgets": [
            "616c917b48b74f6baadc0b0ce23ef02d",
            "2a98a3c60c5240e8ba5868fad16f1eb6",
            "687b9446cc35446f95c1201542fa32c8",
            "12a3f947cd244e269e25eaa2558dea40",
            "fd00a0c520e1484f82eb35ce008a4dd0",
            "4ad089bf4b2043699838afe4500e4887",
            "e2a5d9b05a104b97a9cc6882f95e2018",
            "5e650aa5530d4cc3b257bb256e9a64d0",
            "d71ed93bdd284ce58fa6e2221eb17a63",
            "2b09db2f3d05491f9b16f5d6ab1af7af",
            "eafb9332052041869f673a790249377d",
            "a149caafda9e40449973cc16a8afba48",
            "6bf601021992408e9c6fea941a4cefe5",
            "b356056db660467bb980ef291c9152cb",
            "363e3f3019fe4a0783ad335fa7c28176",
            "2c30cd61f24e446ebd070e9f20f8b78f",
            "72a63a1565454124abeaeb8f76c7e5f0",
            "3198942b205d4bf18fda1dad0fe2c620",
            "80e855d2bcfb49bcb44b74643726b02c",
            "e0159e7b513c42e99cb58f2685fdf366",
            "7fc2750b04d247e7bcc60fb74ac2ed21",
            "2ac48c9a9fd344fba6b69970a1988c0f"
          ]
        },
        "id": "Xje_2ESgcxbM",
        "outputId": "2fcfba1a-db12-4054-d5fd-397ac63c9957"
      },
      "execution_count": 15,
      "outputs": [
        {
          "output_type": "display_data",
          "data": {
            "text/plain": [
              "Map:   0%|          | 0/781 [00:00<?, ? examples/s]"
            ],
            "application/vnd.jupyter.widget-view+json": {
              "version_major": 2,
              "version_minor": 0,
              "model_id": "616c917b48b74f6baadc0b0ce23ef02d"
            }
          },
          "metadata": {}
        },
        {
          "output_type": "display_data",
          "data": {
            "text/plain": [
              "Map:   0%|          | 0/196 [00:00<?, ? examples/s]"
            ],
            "application/vnd.jupyter.widget-view+json": {
              "version_major": 2,
              "version_minor": 0,
              "model_id": "a149caafda9e40449973cc16a8afba48"
            }
          },
          "metadata": {}
        }
      ]
    },
    {
      "cell_type": "code",
      "source": [
        "tokenized_train[0]['input_ids'][0:20]"
      ],
      "metadata": {
        "colab": {
          "base_uri": "https://localhost:8080/"
        },
        "id": "orLKt5hKczJr",
        "outputId": "997f7b89-a5af-4f10-8c11-695221c19a6a"
      },
      "execution_count": 16,
      "outputs": [
        {
          "output_type": "execute_result",
          "data": {
            "text/plain": [
              "[101,\n",
              " 2161,\n",
              " 1997,\n",
              " 10316,\n",
              " 1024,\n",
              " 3467,\n",
              " 2287,\n",
              " 1997,\n",
              " 13180,\n",
              " 1024,\n",
              " 1023,\n",
              " 3348,\n",
              " 1997,\n",
              " 13180,\n",
              " 1024,\n",
              " 1014,\n",
              " 2161,\n",
              " 1997,\n",
              " 6577,\n",
              " 1024]"
            ]
          },
          "metadata": {},
          "execution_count": 16
        }
      ]
    },
    {
      "cell_type": "code",
      "source": [
        "from sklearn.metrics import log_loss\n",
        "import numpy as np\n",
        "\n",
        "def compute_metrics(eval_pred):\n",
        "    logits, labels = eval_pred\n",
        "    predictions = np.argmax(logits, axis=-1)\n",
        "\n",
        "    # Calculate cross-entropy loss\n",
        "    # Softmax the logits first\n",
        "    softmax = np.exp(logits) / np.sum(np.exp(logits), axis=-1, keepdims=True)\n",
        "    ce_loss = log_loss(labels, softmax)\n",
        "\n",
        "    return {\n",
        "        \"cross_entropy\": ce_loss,\n",
        "        \"accuracy\": (predictions == labels).astype(np.float32).mean().item()\n",
        "    }\n",
        "\n",
        "# Update training arguments\n",
        "training_args = TrainingArguments(\n",
        "    output_dir=\"./checkpoints_raw\",\n",
        "    save_strategy=\"epoch\",\n",
        "    eval_strategy=\"epoch\",\n",
        "    metric_for_best_model=\"cross_entropy\",\n",
        "    greater_is_better=False,\n",
        "    load_best_model_at_end=True,\n",
        "    num_train_epochs=10,\n",
        "    learning_rate=2e-5,\n",
        "    per_device_train_batch_size=16,\n",
        "    per_device_eval_batch_size=16,\n",
        "    weight_decay=0.01,\n",
        "    warmup_steps=500,\n",
        "    logging_dir='./logs_raw',\n",
        "    logging_strategy=\"steps\",  # Log at each step\n",
        "    logging_steps=10,         # Log every 10 steps\n",
        "    logging_first_step=True   # Log the first step\n",
        ")"
      ],
      "metadata": {
        "id": "85uiUpAZc3Si"
      },
      "execution_count": 17,
      "outputs": []
    },
    {
      "cell_type": "code",
      "source": [
        "trainer = Trainer(\n",
        "    model=model,\n",
        "    args=training_args,\n",
        "    train_dataset=tokenized_train,\n",
        "    eval_dataset=tokenized_test,\n",
        "    compute_metrics=compute_metrics\n",
        ")\n",
        "\n",
        "# Train the model\n",
        "trainer.train()"
      ],
      "metadata": {
        "colab": {
          "base_uri": "https://localhost:8080/",
          "height": 704
        },
        "id": "LL4RcQ9idkVI",
        "outputId": "edd08cb4-55c4-4bcb-8203-ae9a2e69f246",
        "collapsed": true
      },
      "execution_count": 18,
      "outputs": [
        {
          "output_type": "stream",
          "name": "stderr",
          "text": [
            "\u001b[34m\u001b[1mwandb\u001b[0m: \u001b[33mWARNING\u001b[0m The `run_name` is currently set to the same value as `TrainingArguments.output_dir`. If this was not intended, please specify a different run name by setting the `TrainingArguments.run_name` parameter.\n"
          ]
        },
        {
          "output_type": "display_data",
          "data": {
            "text/plain": [
              "<IPython.core.display.Javascript object>"
            ],
            "application/javascript": [
              "\n",
              "        window._wandbApiKey = new Promise((resolve, reject) => {\n",
              "            function loadScript(url) {\n",
              "            return new Promise(function(resolve, reject) {\n",
              "                let newScript = document.createElement(\"script\");\n",
              "                newScript.onerror = reject;\n",
              "                newScript.onload = resolve;\n",
              "                document.body.appendChild(newScript);\n",
              "                newScript.src = url;\n",
              "            });\n",
              "            }\n",
              "            loadScript(\"https://cdn.jsdelivr.net/npm/postmate/build/postmate.min.js\").then(() => {\n",
              "            const iframe = document.createElement('iframe')\n",
              "            iframe.style.cssText = \"width:0;height:0;border:none\"\n",
              "            document.body.appendChild(iframe)\n",
              "            const handshake = new Postmate({\n",
              "                container: iframe,\n",
              "                url: 'https://wandb.ai/authorize'\n",
              "            });\n",
              "            const timeout = setTimeout(() => reject(\"Couldn't auto authenticate\"), 5000)\n",
              "            handshake.then(function(child) {\n",
              "                child.on('authorize', data => {\n",
              "                    clearTimeout(timeout)\n",
              "                    resolve(data)\n",
              "                });\n",
              "            });\n",
              "            })\n",
              "        });\n",
              "    "
            ]
          },
          "metadata": {}
        },
        {
          "output_type": "stream",
          "name": "stderr",
          "text": [
            "\u001b[34m\u001b[1mwandb\u001b[0m: Logging into wandb.ai. (Learn how to deploy a W&B server locally: https://wandb.me/wandb-server)\n",
            "\u001b[34m\u001b[1mwandb\u001b[0m: You can find your API key in your browser here: https://wandb.ai/authorize?ref=models\n",
            "wandb: Paste an API key from your profile and hit enter:"
          ]
        },
        {
          "name": "stdout",
          "output_type": "stream",
          "text": [
            " ··········\n"
          ]
        },
        {
          "output_type": "stream",
          "name": "stderr",
          "text": [
            "\u001b[34m\u001b[1mwandb\u001b[0m: \u001b[33mWARNING\u001b[0m If you're specifying your api key in code, ensure this code is not shared publicly.\n",
            "\u001b[34m\u001b[1mwandb\u001b[0m: \u001b[33mWARNING\u001b[0m Consider setting the WANDB_API_KEY environment variable, or running `wandb login` from the command line.\n",
            "\u001b[34m\u001b[1mwandb\u001b[0m: No netrc file found, creating one.\n",
            "\u001b[34m\u001b[1mwandb\u001b[0m: Appending key for api.wandb.ai to your netrc file: /root/.netrc\n",
            "\u001b[34m\u001b[1mwandb\u001b[0m: Currently logged in as: \u001b[33magnidipto\u001b[0m (\u001b[33magnidipto-university-of-illinois-chicago\u001b[0m) to \u001b[32mhttps://api.wandb.ai\u001b[0m. Use \u001b[1m`wandb login --relogin`\u001b[0m to force relogin\n"
          ]
        },
        {
          "output_type": "display_data",
          "data": {
            "text/plain": [
              "<IPython.core.display.HTML object>"
            ],
            "text/html": [
              "Tracking run with wandb version 0.19.10"
            ]
          },
          "metadata": {}
        },
        {
          "output_type": "display_data",
          "data": {
            "text/plain": [
              "<IPython.core.display.HTML object>"
            ],
            "text/html": [
              "Run data is saved locally in <code>/content/wandb/run-20250509_175742-bmfny3mj</code>"
            ]
          },
          "metadata": {}
        },
        {
          "output_type": "display_data",
          "data": {
            "text/plain": [
              "<IPython.core.display.HTML object>"
            ],
            "text/html": [
              "Syncing run <strong><a href='https://wandb.ai/agnidipto-university-of-illinois-chicago/huggingface/runs/bmfny3mj' target=\"_blank\">./checkpoints_raw</a></strong> to <a href='https://wandb.ai/agnidipto-university-of-illinois-chicago/huggingface' target=\"_blank\">Weights & Biases</a> (<a href='https://wandb.me/developer-guide' target=\"_blank\">docs</a>)<br>"
            ]
          },
          "metadata": {}
        },
        {
          "output_type": "display_data",
          "data": {
            "text/plain": [
              "<IPython.core.display.HTML object>"
            ],
            "text/html": [
              " View project at <a href='https://wandb.ai/agnidipto-university-of-illinois-chicago/huggingface' target=\"_blank\">https://wandb.ai/agnidipto-university-of-illinois-chicago/huggingface</a>"
            ]
          },
          "metadata": {}
        },
        {
          "output_type": "display_data",
          "data": {
            "text/plain": [
              "<IPython.core.display.HTML object>"
            ],
            "text/html": [
              " View run at <a href='https://wandb.ai/agnidipto-university-of-illinois-chicago/huggingface/runs/bmfny3mj' target=\"_blank\">https://wandb.ai/agnidipto-university-of-illinois-chicago/huggingface/runs/bmfny3mj</a>"
            ]
          },
          "metadata": {}
        },
        {
          "output_type": "display_data",
          "data": {
            "text/plain": [
              "<IPython.core.display.HTML object>"
            ],
            "text/html": [
              "\n",
              "    <div>\n",
              "      \n",
              "      <progress value='490' max='490' style='width:300px; height:20px; vertical-align: middle;'></progress>\n",
              "      [490/490 14:45, Epoch 10/10]\n",
              "    </div>\n",
              "    <table border=\"1\" class=\"dataframe\">\n",
              "  <thead>\n",
              " <tr style=\"text-align: left;\">\n",
              "      <th>Epoch</th>\n",
              "      <th>Training Loss</th>\n",
              "      <th>Validation Loss</th>\n",
              "      <th>Cross Entropy</th>\n",
              "      <th>Accuracy</th>\n",
              "    </tr>\n",
              "  </thead>\n",
              "  <tbody>\n",
              "    <tr>\n",
              "      <td>1</td>\n",
              "      <td>0.674000</td>\n",
              "      <td>0.688337</td>\n",
              "      <td>0.688337</td>\n",
              "      <td>0.581633</td>\n",
              "    </tr>\n",
              "    <tr>\n",
              "      <td>2</td>\n",
              "      <td>0.677700</td>\n",
              "      <td>0.676773</td>\n",
              "      <td>0.676774</td>\n",
              "      <td>0.581633</td>\n",
              "    </tr>\n",
              "    <tr>\n",
              "      <td>3</td>\n",
              "      <td>0.676400</td>\n",
              "      <td>0.671606</td>\n",
              "      <td>0.671606</td>\n",
              "      <td>0.581633</td>\n",
              "    </tr>\n",
              "    <tr>\n",
              "      <td>4</td>\n",
              "      <td>0.547700</td>\n",
              "      <td>0.470967</td>\n",
              "      <td>0.470967</td>\n",
              "      <td>0.831633</td>\n",
              "    </tr>\n",
              "    <tr>\n",
              "      <td>5</td>\n",
              "      <td>0.392500</td>\n",
              "      <td>0.393024</td>\n",
              "      <td>0.393024</td>\n",
              "      <td>0.836735</td>\n",
              "    </tr>\n",
              "    <tr>\n",
              "      <td>6</td>\n",
              "      <td>0.344800</td>\n",
              "      <td>0.601523</td>\n",
              "      <td>0.601523</td>\n",
              "      <td>0.775510</td>\n",
              "    </tr>\n",
              "    <tr>\n",
              "      <td>7</td>\n",
              "      <td>0.313800</td>\n",
              "      <td>0.386838</td>\n",
              "      <td>0.386838</td>\n",
              "      <td>0.841837</td>\n",
              "    </tr>\n",
              "    <tr>\n",
              "      <td>8</td>\n",
              "      <td>0.366000</td>\n",
              "      <td>0.395153</td>\n",
              "      <td>0.395153</td>\n",
              "      <td>0.816327</td>\n",
              "    </tr>\n",
              "    <tr>\n",
              "      <td>9</td>\n",
              "      <td>0.276000</td>\n",
              "      <td>0.461862</td>\n",
              "      <td>0.461862</td>\n",
              "      <td>0.831633</td>\n",
              "    </tr>\n",
              "    <tr>\n",
              "      <td>10</td>\n",
              "      <td>0.390300</td>\n",
              "      <td>0.472906</td>\n",
              "      <td>0.472906</td>\n",
              "      <td>0.770408</td>\n",
              "    </tr>\n",
              "  </tbody>\n",
              "</table><p>"
            ]
          },
          "metadata": {}
        },
        {
          "output_type": "execute_result",
          "data": {
            "text/plain": [
              "TrainOutput(global_step=490, training_loss=0.49121713759947794, metrics={'train_runtime': 1075.6264, 'train_samples_per_second': 7.261, 'train_steps_per_second': 0.456, 'total_flos': 2054897342361600.0, 'train_loss': 0.49121713759947794, 'epoch': 10.0})"
            ]
          },
          "metadata": {},
          "execution_count": 18
        }
      ]
    },
    {
      "cell_type": "code",
      "source": [
        "model.save_pretrained(\"./saved_model_raw\")\n",
        "tokenizer.save_pretrained(\"./saved_model_raw\")"
      ],
      "metadata": {
        "id": "_keoTlh_f-FW",
        "colab": {
          "base_uri": "https://localhost:8080/"
        },
        "outputId": "8c985554-2d1a-450f-d9b1-b0446580cbaf"
      },
      "execution_count": 19,
      "outputs": [
        {
          "output_type": "execute_result",
          "data": {
            "text/plain": [
              "('./saved_model_raw/tokenizer_config.json',\n",
              " './saved_model_raw/special_tokens_map.json',\n",
              " './saved_model_raw/vocab.txt',\n",
              " './saved_model_raw/added_tokens.json',\n",
              " './saved_model_raw/tokenizer.json')"
            ]
          },
          "metadata": {},
          "execution_count": 19
        }
      ]
    },
    {
      "cell_type": "markdown",
      "source": [
        "## Evluation"
      ],
      "metadata": {
        "id": "KLq2cqVzcsS8"
      }
    },
    {
      "cell_type": "code",
      "source": [
        "eval_results = trainer.evaluate()\n",
        "print(f\"Evaluation results: {eval_results}\")"
      ],
      "metadata": {
        "colab": {
          "base_uri": "https://localhost:8080/",
          "height": 74
        },
        "id": "BqoBDBOmRQ80",
        "outputId": "dfe09119-e393-45c5-d139-84c5e2eff2ca"
      },
      "execution_count": 20,
      "outputs": [
        {
          "output_type": "display_data",
          "data": {
            "text/plain": [
              "<IPython.core.display.HTML object>"
            ],
            "text/html": [
              "\n",
              "    <div>\n",
              "      \n",
              "      <progress value='13' max='13' style='width:300px; height:20px; vertical-align: middle;'></progress>\n",
              "      [13/13 00:05]\n",
              "    </div>\n",
              "    "
            ]
          },
          "metadata": {}
        },
        {
          "output_type": "stream",
          "name": "stdout",
          "text": [
            "Evaluation results: {'eval_loss': 0.38683754205703735, 'eval_cross_entropy': 0.3868375907793308, 'eval_accuracy': 0.8418367505073547, 'eval_runtime': 5.8054, 'eval_samples_per_second': 33.762, 'eval_steps_per_second': 2.239, 'epoch': 10.0}\n"
          ]
        }
      ]
    },
    {
      "cell_type": "code",
      "source": [
        "# Extract losses\n",
        "training_logs = trainer.state.log_history\n",
        "train_losses = []\n",
        "eval_losses = []\n",
        "eval_epochs = []\n",
        "\n",
        "for log in training_logs:\n",
        "    if 'loss' in log and 'eval_loss' not in log:\n",
        "        train_losses.append(log['loss'])\n",
        "    if 'eval_loss' in log:\n",
        "        eval_losses.append(log['eval_loss'])\n",
        "        if 'epoch' in log:\n",
        "            eval_epochs.append(log['epoch'])\n",
        "\n",
        "# Create a figure with two subplots side by side\n",
        "plt.figure(figsize=(16, 6))\n",
        "\n",
        "# Plot 1: Training Loss (if available)\n",
        "plt.subplot(1, 2, 1)\n",
        "if train_losses:\n",
        "    plt.plot(range(len(train_losses)), train_losses, 'b-')\n",
        "    plt.title('Training Loss')\n",
        "    plt.xlabel('Steps')\n",
        "    plt.ylabel('Loss')\n",
        "    plt.grid(True, alpha=0.3)\n",
        "else:\n",
        "    plt.text(0.5, 0.5, 'No training loss data available',\n",
        "             horizontalalignment='center', verticalalignment='center',\n",
        "             transform=plt.gca().transAxes)\n",
        "\n",
        "# Plot 2: Evaluation Loss\n",
        "plt.subplot(1, 2, 2)\n",
        "if eval_losses:\n",
        "    if eval_epochs:\n",
        "        plt.plot(eval_epochs, eval_losses, 'r-o')\n",
        "        plt.xlabel('Epochs')\n",
        "    else:\n",
        "        plt.plot(range(len(eval_losses)), eval_losses, 'r-o')\n",
        "        plt.xlabel('Evaluation Steps')\n",
        "    plt.title('Validation Loss')\n",
        "    plt.ylabel('Loss')\n",
        "    plt.grid(True, alpha=0.3)\n",
        "\n",
        "plt.tight_layout()\n",
        "plt.savefig('training_validation_losses_raw.png')\n",
        "plt.show()\n",
        "\n",
        "# If there's a single final training loss\n",
        "final_training_loss = next((log.get('train_loss') for log in reversed(training_logs) if 'train_loss' in log), None)\n",
        "if final_training_loss:\n",
        "    print(f\"Final training loss: {final_training_loss}\")"
      ],
      "metadata": {
        "colab": {
          "base_uri": "https://localhost:8080/",
          "height": 574
        },
        "id": "laExCu3ZRfkl",
        "outputId": "a3951658-4f73-4e4c-8385-7794174e578f"
      },
      "execution_count": 21,
      "outputs": [
        {
          "output_type": "display_data",
          "data": {
            "text/plain": [
              "<Figure size 1600x600 with 2 Axes>"
            ],
            "image/png": "[encoded data removed]"
          },
          "metadata": {}
        },
        {
          "output_type": "stream",
          "name": "stdout",
          "text": [
            "Final training loss: 0.49121713759947794\n"
          ]
        }
      ]
    },
    {
      "cell_type": "code",
      "source": [
        "predictions = trainer.predict(tokenized_test)\n",
        "\n",
        "# Extract predictions, labels, and metrics\n",
        "preds = np.argmax(predictions.predictions, axis=-1)\n",
        "labels = predictions.label_ids\n",
        "metrics = predictions.metrics\n",
        "\n",
        "tokenized_test.shape"
      ],
      "metadata": {
        "colab": {
          "base_uri": "https://localhost:8080/",
          "height": 34
        },
        "id": "TTBakkKKYKxk",
        "outputId": "0dd90f0f-3512-44d5-bbc1-6e756907b066"
      },
      "execution_count": 22,
      "outputs": [
        {
          "output_type": "display_data",
          "data": {
            "text/plain": [
              "<IPython.core.display.HTML object>"
            ],
            "text/html": []
          },
          "metadata": {}
        },
        {
          "output_type": "execute_result",
          "data": {
            "text/plain": [
              "(196, 5)"
            ]
          },
          "metadata": {},
          "execution_count": 22
        }
      ]
    },
    {
      "cell_type": "code",
      "source": [
        "metrics"
      ],
      "metadata": {
        "colab": {
          "base_uri": "https://localhost:8080/"
        },
        "id": "C-TLy-lxY16P",
        "outputId": "ccf77c16-476a-43de-a966-d28f49440962"
      },
      "execution_count": 23,
      "outputs": [
        {
          "output_type": "execute_result",
          "data": {
            "text/plain": [
              "{'test_loss': 0.38683754205703735,\n",
              " 'test_cross_entropy': 0.3868375907793308,\n",
              " 'test_accuracy': 0.8418367505073547,\n",
              " 'test_runtime': 5.8038,\n",
              " 'test_samples_per_second': 33.771,\n",
              " 'test_steps_per_second': 2.24}"
            ]
          },
          "metadata": {},
          "execution_count": 23
        }
      ]
    },
    {
      "cell_type": "code",
      "source": [
        "from sklearn.metrics import confusion_matrix, classification_report\n",
        "conf_matrix = confusion_matrix(labels, preds)\n",
        "print(f\"Confusion Matrix:\\n{conf_matrix}\")\n",
        "\n",
        "# Detailed classification report\n",
        "class_report = classification_report(labels, preds)\n",
        "print(f\"Classification Report:\\n{class_report}\")"
      ],
      "metadata": {
        "colab": {
          "base_uri": "https://localhost:8080/"
        },
        "id": "geksJkYdY6Yr",
        "outputId": "c67383ae-492e-4a5d-e4aa-be9b3b0b31a3"
      },
      "execution_count": 24,
      "outputs": [
        {
          "output_type": "stream",
          "name": "stdout",
          "text": [
            "Confusion Matrix:\n",
            "[[102  12]\n",
            " [ 19  63]]\n",
            "Classification Report:\n",
            "              precision    recall  f1-score   support\n",
            "\n",
            "           0       0.84      0.89      0.87       114\n",
            "           1       0.84      0.77      0.80        82\n",
            "\n",
            "    accuracy                           0.84       196\n",
            "   macro avg       0.84      0.83      0.84       196\n",
            "weighted avg       0.84      0.84      0.84       196\n",
            "\n"
          ]
        }
      ]
    },
    {
      "cell_type": "code",
      "source": [
        "import matplotlib.pyplot as plt\n",
        "import seaborn as sns\n",
        "\n",
        "plt.figure(figsize=(8, 6))\n",
        "sns.heatmap(conf_matrix, annot=True, fmt='d', cmap='Blues')\n",
        "plt.title('Confusion Matrix')\n",
        "plt.ylabel('True Label')\n",
        "plt.xlabel('Predicted Label')\n",
        "plt.savefig('confusion_matrix_raw.png')\n",
        "plt.show()"
      ],
      "metadata": {
        "colab": {
          "base_uri": "https://localhost:8080/",
          "height": 564
        },
        "id": "uQ1HQ6u5ZHK3",
        "outputId": "8d133349-697c-4660-e182-3b954c7df740"
      },
      "execution_count": 25,
      "outputs": [
        {
          "output_type": "display_data",
          "data": {
            "text/plain": [
              "<Figure size 800x600 with 2 Axes>"
            ],
            "image/png": "[encoded data removed]"
          },
          "metadata": {}
        }
      ]
    },
    {
      "cell_type": "markdown",
      "source": [
        "# Remove PCIAT Cols"
      ],
      "metadata": {
        "id": "oEXMKRCeX-Ot"
      }
    },
    {
      "cell_type": "code",
      "source": [
        "pciat_cols = list(filter(lambda x: 'PCIAT' in x, list(df.columns)))\n",
        "pciat_cols"
      ],
      "metadata": {
        "colab": {
          "base_uri": "https://localhost:8080/"
        },
        "id": "D24XWBFEYAvo",
        "outputId": "d1ef05ca-947e-4cdb-9ac9-c79a0a31160b"
      },
      "execution_count": 26,
      "outputs": [
        {
          "output_type": "execute_result",
          "data": {
            "text/plain": [
              "['PCIAT-Season',\n",
              " 'PCIAT-PCIAT_01',\n",
              " 'PCIAT-PCIAT_02',\n",
              " 'PCIAT-PCIAT_03',\n",
              " 'PCIAT-PCIAT_04',\n",
              " 'PCIAT-PCIAT_05',\n",
              " 'PCIAT-PCIAT_06',\n",
              " 'PCIAT-PCIAT_07',\n",
              " 'PCIAT-PCIAT_08',\n",
              " 'PCIAT-PCIAT_09',\n",
              " 'PCIAT-PCIAT_10',\n",
              " 'PCIAT-PCIAT_11',\n",
              " 'PCIAT-PCIAT_12',\n",
              " 'PCIAT-PCIAT_13',\n",
              " 'PCIAT-PCIAT_14',\n",
              " 'PCIAT-PCIAT_15',\n",
              " 'PCIAT-PCIAT_16',\n",
              " 'PCIAT-PCIAT_17',\n",
              " 'PCIAT-PCIAT_18',\n",
              " 'PCIAT-PCIAT_19',\n",
              " 'PCIAT-PCIAT_20',\n",
              " 'PCIAT-PCIAT_Total']"
            ]
          },
          "metadata": {},
          "execution_count": 26
        }
      ]
    },
    {
      "cell_type": "code",
      "source": [
        "df_1 = df.drop(pciat_cols, axis=1)\n",
        "df_1.shape"
      ],
      "metadata": {
        "colab": {
          "base_uri": "https://localhost:8080/"
        },
        "id": "Bwz_k5fxbDa2",
        "outputId": "9b812455-9131-4dfa-f3ce-bd2765c81d5f"
      },
      "execution_count": 27,
      "outputs": [
        {
          "output_type": "execute_result",
          "data": {
            "text/plain": [
              "(977, 124)"
            ]
          },
          "metadata": {},
          "execution_count": 27
        }
      ]
    },
    {
      "cell_type": "code",
      "source": [
        "X = df_1.drop(['id', 'sii', 'sii_2'], axis=1)\n",
        "sii_y = df_1['sii']\n",
        "sii_2_y = df_1['sii_2']\n",
        "\n",
        "X.shape"
      ],
      "metadata": {
        "colab": {
          "base_uri": "https://localhost:8080/"
        },
        "id": "G9YR8l4ob7Os",
        "outputId": "5e28e306-9440-4d63-e2a3-f619b20164d2"
      },
      "execution_count": 28,
      "outputs": [
        {
          "output_type": "execute_result",
          "data": {
            "text/plain": [
              "(977, 121)"
            ]
          },
          "metadata": {},
          "execution_count": 28
        }
      ]
    },
    {
      "cell_type": "code",
      "source": [
        "y = sii_2_y\n",
        "X_train, X_test, y_train, y_test = train_test_split(X, y, test_size=0.2, random_state=42)"
      ],
      "metadata": {
        "id": "8cQ311hvcN3-"
      },
      "execution_count": 29,
      "outputs": []
    },
    {
      "cell_type": "code",
      "source": [
        "train_dataset = convert_to_dataset(X_train, y_train.astype(int))\n",
        "test_dataset = convert_to_dataset(X_test, y_test.astype(int))"
      ],
      "metadata": {
        "id": "SLwFVu1Uc6Pb"
      },
      "execution_count": 30,
      "outputs": []
    },
    {
      "cell_type": "code",
      "source": [
        "tokenized_train = train_dataset.map(tokenize_function, batched=True)\n",
        "tokenized_test = test_dataset.map(tokenize_function, batched=True)"
      ],
      "metadata": {
        "colab": {
          "base_uri": "https://localhost:8080/",
          "height": 81,
          "referenced_widgets": [
            "c3a7c57adc3440e4ae2fed4a3738d147",
            "8768f2185d154f0fa63687af60144e96",
            "91a1413e499e4fd981678db64d9082d6",
            "517902b4a883427daa842d723c9b96c6",
            "10a1ea38216a404f9f79a695fdfe6f30",
            "d9efe2531a4646e79e4bd4cfe783284c",
            "d67ec509b68b4a38a70dbb004e9e8273",
            "3dbc8509160e4eb599fba3f2229c8d9d",
            "db54dc6cbf63414a9016a396e843891d",
            "8cdfd9ae254344e19eb34d9bbf15601d",
            "5e3bcb28d0554195adc04850de43abb0",
            "1a0619e43ad64c8d8f9a4e88ebc144ed",
            "a0c02ab372d446faa8a262f9848b4b80",
            "3ac3a626ad984911be2bc20fef12051f",
            "ecca13cf64034e70b1420ce5dfc1586a",
            "301e019cfed44f61a54538a09261f53f",
            "036723efdc8747d0a86f2337a6e08284",
            "877389bc8f8b4e58b4291523731862f0",
            "cc9533b7abed40daae9c048ceb118aee",
            "277a6b42c81845cdbc90846aa6e2c1e5",
            "b237b618ccc84a71ae677e1d4baca891",
            "a77b2bea1bcf4fb4bf91b69de04753ac"
          ]
        },
        "id": "USKSYa9Mc_Zh",
        "outputId": "fd011b62-c689-4341-86a0-863c0eabff9e"
      },
      "execution_count": 31,
      "outputs": [
        {
          "output_type": "display_data",
          "data": {
            "text/plain": [
              "Map:   0%|          | 0/781 [00:00<?, ? examples/s]"
            ],
            "application/vnd.jupyter.widget-view+json": {
              "version_major": 2,
              "version_minor": 0,
              "model_id": "c3a7c57adc3440e4ae2fed4a3738d147"
            }
          },
          "metadata": {}
        },
        {
          "output_type": "display_data",
          "data": {
            "text/plain": [
              "Map:   0%|          | 0/196 [00:00<?, ? examples/s]"
            ],
            "application/vnd.jupyter.widget-view+json": {
              "version_major": 2,
              "version_minor": 0,
              "model_id": "1a0619e43ad64c8d8f9a4e88ebc144ed"
            }
          },
          "metadata": {}
        }
      ]
    },
    {
      "cell_type": "markdown",
      "source": [
        "## Train"
      ],
      "metadata": {
        "id": "Jlj1-Mjre2jq"
      }
    },
    {
      "cell_type": "code",
      "source": [
        "training_args = TrainingArguments(\n",
        "    output_dir=\"./checkpoints_without_PCIAT\",\n",
        "    save_strategy=\"epoch\",\n",
        "    eval_strategy=\"epoch\",\n",
        "    metric_for_best_model=\"cross_entropy\",\n",
        "    greater_is_better=False,\n",
        "    load_best_model_at_end=True,\n",
        "    num_train_epochs=10,\n",
        "    learning_rate=1e-4,\n",
        "    per_device_train_batch_size=16,\n",
        "    per_device_eval_batch_size=16,\n",
        "    weight_decay=0.01,\n",
        "    warmup_steps=500,\n",
        "    logging_dir='./logs_without_PCIAT',\n",
        "    logging_strategy=\"steps\",  # Log at each step\n",
        "    logging_steps=10,         # Log every 10 steps\n",
        "    logging_first_step=True   # Log the first step\n",
        ")"
      ],
      "metadata": {
        "id": "bGEjav3rdItV"
      },
      "execution_count": 32,
      "outputs": []
    },
    {
      "cell_type": "code",
      "source": [
        "trainer = Trainer(\n",
        "    model=model,\n",
        "    args=training_args,\n",
        "    train_dataset=tokenized_train,\n",
        "    eval_dataset=tokenized_test,\n",
        "    compute_metrics=compute_metrics\n",
        ")\n",
        "\n",
        "# Train the model\n",
        "trainer.train()"
      ],
      "metadata": {
        "colab": {
          "base_uri": "https://localhost:8080/",
          "height": 424
        },
        "id": "TSwCuv70e-ev",
        "outputId": "80232652-1635-4404-edc3-128c1642c2b8"
      },
      "execution_count": 33,
      "outputs": [
        {
          "output_type": "display_data",
          "data": {
            "text/plain": [
              "<IPython.core.display.HTML object>"
            ],
            "text/html": [
              "\n",
              "    <div>\n",
              "      \n",
              "      <progress value='490' max='490' style='width:300px; height:20px; vertical-align: middle;'></progress>\n",
              "      [490/490 14:59, Epoch 10/10]\n",
              "    </div>\n",
              "    <table border=\"1\" class=\"dataframe\">\n",
              "  <thead>\n",
              " <tr style=\"text-align: left;\">\n",
              "      <th>Epoch</th>\n",
              "      <th>Training Loss</th>\n",
              "      <th>Validation Loss</th>\n",
              "      <th>Cross Entropy</th>\n",
              "      <th>Accuracy</th>\n",
              "    </tr>\n",
              "  </thead>\n",
              "  <tbody>\n",
              "    <tr>\n",
              "      <td>1</td>\n",
              "      <td>0.616000</td>\n",
              "      <td>0.672649</td>\n",
              "      <td>0.672649</td>\n",
              "      <td>0.658163</td>\n",
              "    </tr>\n",
              "    <tr>\n",
              "      <td>2</td>\n",
              "      <td>0.549500</td>\n",
              "      <td>0.687938</td>\n",
              "      <td>0.687938</td>\n",
              "      <td>0.653061</td>\n",
              "    </tr>\n",
              "    <tr>\n",
              "      <td>3</td>\n",
              "      <td>0.661200</td>\n",
              "      <td>0.643050</td>\n",
              "      <td>0.643050</td>\n",
              "      <td>0.647959</td>\n",
              "    </tr>\n",
              "    <tr>\n",
              "      <td>4</td>\n",
              "      <td>0.612500</td>\n",
              "      <td>0.672271</td>\n",
              "      <td>0.672271</td>\n",
              "      <td>0.653061</td>\n",
              "    </tr>\n",
              "    <tr>\n",
              "      <td>5</td>\n",
              "      <td>0.556500</td>\n",
              "      <td>0.729350</td>\n",
              "      <td>0.729350</td>\n",
              "      <td>0.637755</td>\n",
              "    </tr>\n",
              "    <tr>\n",
              "      <td>6</td>\n",
              "      <td>0.624800</td>\n",
              "      <td>0.657823</td>\n",
              "      <td>0.657823</td>\n",
              "      <td>0.632653</td>\n",
              "    </tr>\n",
              "    <tr>\n",
              "      <td>7</td>\n",
              "      <td>0.590000</td>\n",
              "      <td>0.653894</td>\n",
              "      <td>0.653894</td>\n",
              "      <td>0.642857</td>\n",
              "    </tr>\n",
              "    <tr>\n",
              "      <td>8</td>\n",
              "      <td>0.683500</td>\n",
              "      <td>0.644197</td>\n",
              "      <td>0.644197</td>\n",
              "      <td>0.658163</td>\n",
              "    </tr>\n",
              "    <tr>\n",
              "      <td>9</td>\n",
              "      <td>0.566000</td>\n",
              "      <td>0.771682</td>\n",
              "      <td>0.771682</td>\n",
              "      <td>0.637755</td>\n",
              "    </tr>\n",
              "    <tr>\n",
              "      <td>10</td>\n",
              "      <td>0.547300</td>\n",
              "      <td>0.802416</td>\n",
              "      <td>0.802416</td>\n",
              "      <td>0.612245</td>\n",
              "    </tr>\n",
              "  </tbody>\n",
              "</table><p>"
            ]
          },
          "metadata": {}
        },
        {
          "output_type": "execute_result",
          "data": {
            "text/plain": [
              "TrainOutput(global_step=490, training_loss=0.610402899858903, metrics={'train_runtime': 901.3174, 'train_samples_per_second': 8.665, 'train_steps_per_second': 0.544, 'total_flos': 2054897342361600.0, 'train_loss': 0.610402899858903, 'epoch': 10.0})"
            ]
          },
          "metadata": {},
          "execution_count": 33
        }
      ]
    },
    {
      "cell_type": "code",
      "source": [
        "model.save_pretrained(\"./saved_model_without_PCIAT\")\n",
        "tokenizer.save_pretrained(\"./saved_model_without_PCIAT\")"
      ],
      "metadata": {
        "colab": {
          "base_uri": "https://localhost:8080/"
        },
        "id": "wXvPp91PfEcA",
        "outputId": "3162d42c-ad11-4f84-ac31-0d6cbdf72068"
      },
      "execution_count": 34,
      "outputs": [
        {
          "output_type": "execute_result",
          "data": {
            "text/plain": [
              "('./saved_model_without_PCIAT/tokenizer_config.json',\n",
              " './saved_model_without_PCIAT/special_tokens_map.json',\n",
              " './saved_model_without_PCIAT/vocab.txt',\n",
              " './saved_model_without_PCIAT/added_tokens.json',\n",
              " './saved_model_without_PCIAT/tokenizer.json')"
            ]
          },
          "metadata": {},
          "execution_count": 34
        }
      ]
    },
    {
      "cell_type": "code",
      "source": [
        "eval_results = trainer.evaluate()\n",
        "print(f\"Evaluation results: {eval_results}\")"
      ],
      "metadata": {
        "colab": {
          "base_uri": "https://localhost:8080/",
          "height": 74
        },
        "id": "DjKoRlXmfNR0",
        "outputId": "8d55b07d-664d-4ca3-aaea-bf9500b3a3e7"
      },
      "execution_count": 35,
      "outputs": [
        {
          "output_type": "display_data",
          "data": {
            "text/plain": [
              "<IPython.core.display.HTML object>"
            ],
            "text/html": [
              "\n",
              "    <div>\n",
              "      \n",
              "      <progress value='13' max='13' style='width:300px; height:20px; vertical-align: middle;'></progress>\n",
              "      [13/13 00:05]\n",
              "    </div>\n",
              "    "
            ]
          },
          "metadata": {}
        },
        {
          "output_type": "stream",
          "name": "stdout",
          "text": [
            "Evaluation results: {'eval_loss': 0.6430497765541077, 'eval_cross_entropy': 0.6430498152984162, 'eval_accuracy': 0.6479591727256775, 'eval_runtime': 5.768, 'eval_samples_per_second': 33.981, 'eval_steps_per_second': 2.254, 'epoch': 10.0}\n"
          ]
        }
      ]
    },
    {
      "cell_type": "code",
      "source": [
        "# Extract losses\n",
        "training_logs = trainer.state.log_history\n",
        "train_losses = []\n",
        "eval_losses = []\n",
        "eval_epochs = []\n",
        "\n",
        "for log in training_logs:\n",
        "    if 'loss' in log and 'eval_loss' not in log:\n",
        "        train_losses.append(log['loss'])\n",
        "    if 'eval_loss' in log:\n",
        "        eval_losses.append(log['eval_loss'])\n",
        "        if 'epoch' in log:\n",
        "            eval_epochs.append(log['epoch'])\n",
        "\n",
        "# Create a figure with two subplots side by side\n",
        "plt.figure(figsize=(16, 6))\n",
        "\n",
        "# Plot 1: Training Loss (if available)\n",
        "plt.subplot(1, 2, 1)\n",
        "if train_losses:\n",
        "    plt.plot(range(len(train_losses)), train_losses, 'b-')\n",
        "    plt.title('Training Loss')\n",
        "    plt.xlabel('Steps')\n",
        "    plt.ylabel('Loss')\n",
        "    plt.grid(True, alpha=0.3)\n",
        "else:\n",
        "    plt.text(0.5, 0.5, 'No training loss data available',\n",
        "             horizontalalignment='center', verticalalignment='center',\n",
        "             transform=plt.gca().transAxes)\n",
        "\n",
        "# Plot 2: Evaluation Loss\n",
        "plt.subplot(1, 2, 2)\n",
        "if eval_losses:\n",
        "    if eval_epochs:\n",
        "        plt.plot(eval_epochs, eval_losses, 'r-o')\n",
        "        plt.xlabel('Epochs')\n",
        "    else:\n",
        "        plt.plot(range(len(eval_losses)), eval_losses, 'r-o')\n",
        "        plt.xlabel('Evaluation Steps')\n",
        "    plt.title('Validation Loss')\n",
        "    plt.ylabel('Loss')\n",
        "    plt.grid(True, alpha=0.3)\n",
        "\n",
        "plt.tight_layout()\n",
        "plt.savefig('training_validation_losses_without_PCIAT.png')\n",
        "plt.show()\n",
        "\n",
        "# If there's a single final training loss\n",
        "final_training_loss = next((log.get('train_loss') for log in reversed(training_logs) if 'train_loss' in log), None)\n",
        "if final_training_loss:\n",
        "    print(f\"Final training loss: {final_training_loss}\")"
      ],
      "metadata": {
        "colab": {
          "base_uri": "https://localhost:8080/",
          "height": 574
        },
        "id": "VLASIyw7fRwx",
        "outputId": "694d3206-e1d8-4f4d-fe4b-3a35e2c3bd2e"
      },
      "execution_count": 36,
      "outputs": [
        {
          "output_type": "display_data",
          "data": {
            "text/plain": [
              "<Figure size 1600x600 with 2 Axes>"
            ],
            "image/png": "[encoded data removed]"
          },
          "metadata": {}
        },
        {
          "output_type": "stream",
          "name": "stdout",
          "text": [
            "Final training loss: 0.610402899858903\n"
          ]
        }
      ]
    },
    {
      "cell_type": "code",
      "source": [
        "predictions = trainer.predict(tokenized_test)\n",
        "\n",
        "# Extract predictions, labels, and metrics\n",
        "preds = np.argmax(predictions.predictions, axis=-1)\n",
        "labels = predictions.label_ids\n",
        "metrics = predictions.metrics\n",
        "\n",
        "tokenized_test.shape"
      ],
      "metadata": {
        "colab": {
          "base_uri": "https://localhost:8080/",
          "height": 34
        },
        "id": "hkfAJ9xZfWyc",
        "outputId": "6993afab-278b-4846-f85f-0adeab3073df"
      },
      "execution_count": 37,
      "outputs": [
        {
          "output_type": "display_data",
          "data": {
            "text/plain": [
              "<IPython.core.display.HTML object>"
            ],
            "text/html": []
          },
          "metadata": {}
        },
        {
          "output_type": "execute_result",
          "data": {
            "text/plain": [
              "(196, 5)"
            ]
          },
          "metadata": {},
          "execution_count": 37
        }
      ]
    },
    {
      "cell_type": "code",
      "source": [
        "from sklearn.metrics import confusion_matrix, classification_report\n",
        "conf_matrix = confusion_matrix(labels, preds)\n",
        "print(f\"Confusion Matrix:\\n{conf_matrix}\")\n",
        "\n",
        "# Detailed classification report\n",
        "class_report = classification_report(labels, preds)\n",
        "print(f\"Classification Report:\\n{class_report}\")"
      ],
      "metadata": {
        "colab": {
          "base_uri": "https://localhost:8080/"
        },
        "id": "gPf1l71AffQu",
        "outputId": "72fce629-31f5-4ebf-8889-1bb9101dbf62"
      },
      "execution_count": 38,
      "outputs": [
        {
          "output_type": "stream",
          "name": "stdout",
          "text": [
            "Confusion Matrix:\n",
            "[[77 37]\n",
            " [32 50]]\n",
            "Classification Report:\n",
            "              precision    recall  f1-score   support\n",
            "\n",
            "           0       0.71      0.68      0.69       114\n",
            "           1       0.57      0.61      0.59        82\n",
            "\n",
            "    accuracy                           0.65       196\n",
            "   macro avg       0.64      0.64      0.64       196\n",
            "weighted avg       0.65      0.65      0.65       196\n",
            "\n"
          ]
        }
      ]
    },
    {
      "cell_type": "code",
      "source": [
        "import matplotlib.pyplot as plt\n",
        "import seaborn as sns\n",
        "\n",
        "plt.figure(figsize=(8, 6))\n",
        "sns.heatmap(conf_matrix, annot=True, fmt='d', cmap='Blues')\n",
        "plt.title('Confusion Matrix')\n",
        "plt.ylabel('True Label')\n",
        "plt.xlabel('Predicted Label')\n",
        "plt.savefig('confusion_matrix_without_PCIAT.png')\n",
        "plt.show()"
      ],
      "metadata": {
        "colab": {
          "base_uri": "https://localhost:8080/",
          "height": 564
        },
        "id": "kSOelTOofi0a",
        "outputId": "88cbacf4-ffcf-4e4f-fdf3-dd86a851c208"
      },
      "execution_count": 39,
      "outputs": [
        {
          "output_type": "display_data",
          "data": {
            "text/plain": [
              "<Figure size 800x600 with 2 Axes>"
            ],
            "image/png": "[encoded data removed]"
          },
          "metadata": {}
        }
      ]
    },
    {
      "cell_type": "code",
      "source": [
        "import shutil\n",
        "from google.colab import drive\n",
        "import os\n",
        "\n",
        "# Define source file and destination directory\n",
        "destination_dir = '/content/drive/My Drive/Colab Notebooks/Child_Mind_Institute_ML/results'  # Replace with your folder\n",
        "os.makedirs(destination_dir, exist_ok=True)\n",
        "\n",
        "# To copy multiple files\n",
        "files_to_copy = ['confusion_matrix_raw.png', 'confusion_matrix_without_PCIAT.png', 'training_validation_losses_raw.png', 'training_validation_losses_without_PCIAT.png']\n",
        "for file in files_to_copy:\n",
        "   if os.path.exists(file):\n",
        "       shutil.copy(file, destination_dir)\n",
        "       print(f\"Copied {file} to {destination_dir}\")\n",
        "   else:\n",
        "       print(f\"File {file} not found\")\n",
        "\n",
        "# Define directories to copy\n",
        "source_dirs = ['/content/checkpoints_raw',  '/content/checkpoints_without_PCIAT', '/content/logs_raw', '/content/logs_without_PCIAT', '/content/saved_model_raw', '/content/saved_model_without_PCIAT',\n",
        "]\n",
        "\n",
        "# Base destination in Google Drive\n",
        "base_destination = '/content/drive/My Drive/Colab Notebooks/Child_Mind_Institute_ML/results'\n",
        "\n",
        "# Create base destination if it doesn't exist\n",
        "os.makedirs(base_destination, exist_ok=True)\n",
        "\n",
        "# Copy each directory\n",
        "for source_dir in source_dirs:\n",
        "   if os.path.exists(source_dir):\n",
        "       dest_dir = os.path.join(base_destination, os.path.basename(source_dir))\n",
        "       shutil.copytree(source_dir, dest_dir, dirs_exist_ok=True)\n",
        "       print(f\"Copied {source_dir} to {dest_dir}\")\n",
        "   else:\n",
        "       print(f\"Directory {source_dir} not found\")"
      ],
      "metadata": {
        "colab": {
          "base_uri": "https://localhost:8080/"
        },
        "id": "WkMd26aSUMHc",
        "outputId": "ac5987e0-19c5-4bfa-cad7-8b12446f456a"
      },
      "execution_count": 42,
      "outputs": [
        {
          "output_type": "stream",
          "name": "stdout",
          "text": [
            "Copied confusion_matrix_raw.png to /content/drive/My Drive/Colab Notebooks/Child_Mind_Institute_ML/results\n",
            "Copied confusion_matrix_without_PCIAT.png to /content/drive/My Drive/Colab Notebooks/Child_Mind_Institute_ML/results\n",
            "Copied training_validation_losses_raw.png to /content/drive/My Drive/Colab Notebooks/Child_Mind_Institute_ML/results\n",
            "Copied training_validation_losses_without_PCIAT.png to /content/drive/My Drive/Colab Notebooks/Child_Mind_Institute_ML/results\n",
            "Copied /content/checkpoints_raw to /content/drive/My Drive/Colab Notebooks/Child_Mind_Institute_ML/results/checkpoints_raw\n",
            "Copied /content/checkpoints_without_PCIAT to /content/drive/My Drive/Colab Notebooks/Child_Mind_Institute_ML/results/checkpoints_without_PCIAT\n",
            "Copied /content/logs_raw to /content/drive/My Drive/Colab Notebooks/Child_Mind_Institute_ML/results/logs_raw\n",
            "Copied /content/logs_without_PCIAT to /content/drive/My Drive/Colab Notebooks/Child_Mind_Institute_ML/results/logs_without_PCIAT\n",
            "Copied /content/saved_model_raw to /content/drive/My Drive/Colab Notebooks/Child_Mind_Institute_ML/results/saved_model_raw\n",
            "Copied /content/saved_model_without_PCIAT to /content/drive/My Drive/Colab Notebooks/Child_Mind_Institute_ML/results/saved_model_without_PCIAT\n"
          ]
        }
      ]
    },
    {
      "cell_type": "code",
      "source": [],
      "metadata": {
        "id": "VEcYf0fCV3et"
      },
      "execution_count": null,
      "outputs": []
    }
  ]
}